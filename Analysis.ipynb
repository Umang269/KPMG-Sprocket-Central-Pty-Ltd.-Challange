{
 "cells": [
  {
   "cell_type": "code",
   "execution_count": 1,
   "id": "649b5024-470f-46b2-88a3-11ded69f7fb5",
   "metadata": {},
   "outputs": [],
   "source": [
    "import pandas as pd\n",
    "import numpy as np\n",
    "import matplotlib.pyplot as plt\n",
    "import seaborn as sns\n",
    "from scipy import stats\n",
    "from datetime import datetime\n",
    "import warnings\n",
    "warnings.filterwarnings(\"ignore\")"
   ]
  },
  {
   "cell_type": "markdown",
   "id": "72a9fda3-b2a5-4b8d-969b-721e6be6a600",
   "metadata": {},
   "source": [
    "- **exploring CUSTOMER DEOGRAPHIC column**"
   ]
  },
  {
   "cell_type": "code",
   "execution_count": 3,
   "id": "d5e1acf9-ce95-4fd5-8765-cfc94b7e27b0",
   "metadata": {},
   "outputs": [],
   "source": [
    "C_D=pd.read_csv('KPMG_VI_New_raw_data_update_final - CustomerDemographic.csv')"
   ]
  },
  {
   "cell_type": "code",
   "execution_count": 4,
   "id": "ee318724-52cb-421c-a69d-12e3412d3a9d",
   "metadata": {},
   "outputs": [
    {
     "data": {
      "text/plain": [
       "(4000, 13)"
      ]
     },
     "execution_count": 4,
     "metadata": {},
     "output_type": "execute_result"
    }
   ],
   "source": [
    "C_D.shape"
   ]
  },
  {
   "cell_type": "code",
   "execution_count": 5,
   "id": "663d53d1-81a4-46a3-a396-345fd37d7ca7",
   "metadata": {},
   "outputs": [
    {
     "name": "stdout",
     "output_type": "stream",
     "text": [
      "<class 'pandas.core.frame.DataFrame'>\n",
      "RangeIndex: 4000 entries, 0 to 3999\n",
      "Data columns (total 13 columns):\n",
      " #   Column                               Non-Null Count  Dtype  \n",
      "---  ------                               --------------  -----  \n",
      " 0   customer_id                          4000 non-null   int64  \n",
      " 1   first_name                           4000 non-null   object \n",
      " 2   last_name                            3875 non-null   object \n",
      " 3   gender                               4000 non-null   object \n",
      " 4   past_3_years_bike_related_purchases  4000 non-null   int64  \n",
      " 5   DOB                                  3913 non-null   object \n",
      " 6   job_title                            3494 non-null   object \n",
      " 7   job_industry_category                3344 non-null   object \n",
      " 8   wealth_segment                       4000 non-null   object \n",
      " 9   deceased_indicator                   4000 non-null   object \n",
      " 10  default                              3698 non-null   object \n",
      " 11  owns_car                             4000 non-null   object \n",
      " 12  tenure                               3913 non-null   float64\n",
      "dtypes: float64(1), int64(2), object(10)\n",
      "memory usage: 406.4+ KB\n"
     ]
    }
   ],
   "source": [
    "C_D.info()"
   ]
  },
  {
   "cell_type": "code",
   "execution_count": 6,
   "id": "ba84ce4e-3372-45a9-b464-b61eb93b12a3",
   "metadata": {},
   "outputs": [
    {
     "data": {
      "text/html": [
       "<div>\n",
       "<style scoped>\n",
       "    .dataframe tbody tr th:only-of-type {\n",
       "        vertical-align: middle;\n",
       "    }\n",
       "\n",
       "    .dataframe tbody tr th {\n",
       "        vertical-align: top;\n",
       "    }\n",
       "\n",
       "    .dataframe thead th {\n",
       "        text-align: right;\n",
       "    }\n",
       "</style>\n",
       "<table border=\"1\" class=\"dataframe\">\n",
       "  <thead>\n",
       "    <tr style=\"text-align: right;\">\n",
       "      <th></th>\n",
       "      <th>customer_id</th>\n",
       "      <th>first_name</th>\n",
       "      <th>last_name</th>\n",
       "      <th>gender</th>\n",
       "      <th>past_3_years_bike_related_purchases</th>\n",
       "      <th>DOB</th>\n",
       "      <th>job_title</th>\n",
       "      <th>job_industry_category</th>\n",
       "      <th>wealth_segment</th>\n",
       "      <th>deceased_indicator</th>\n",
       "      <th>default</th>\n",
       "      <th>owns_car</th>\n",
       "      <th>tenure</th>\n",
       "    </tr>\n",
       "  </thead>\n",
       "  <tbody>\n",
       "    <tr>\n",
       "      <th>0</th>\n",
       "      <td>1</td>\n",
       "      <td>Laraine</td>\n",
       "      <td>Medendorp</td>\n",
       "      <td>F</td>\n",
       "      <td>93</td>\n",
       "      <td>1953-10-12</td>\n",
       "      <td>Executive Secretary</td>\n",
       "      <td>Health</td>\n",
       "      <td>Mass Customer</td>\n",
       "      <td>N</td>\n",
       "      <td>\"'</td>\n",
       "      <td>Yes</td>\n",
       "      <td>11.0</td>\n",
       "    </tr>\n",
       "    <tr>\n",
       "      <th>1</th>\n",
       "      <td>2</td>\n",
       "      <td>Eli</td>\n",
       "      <td>Bockman</td>\n",
       "      <td>Male</td>\n",
       "      <td>81</td>\n",
       "      <td>1980-12-16</td>\n",
       "      <td>Administrative Officer</td>\n",
       "      <td>Financial Services</td>\n",
       "      <td>Mass Customer</td>\n",
       "      <td>N</td>\n",
       "      <td>&lt;script&gt;alert('hi')&lt;/script&gt;</td>\n",
       "      <td>Yes</td>\n",
       "      <td>16.0</td>\n",
       "    </tr>\n",
       "    <tr>\n",
       "      <th>2</th>\n",
       "      <td>3</td>\n",
       "      <td>Arlin</td>\n",
       "      <td>Dearle</td>\n",
       "      <td>Male</td>\n",
       "      <td>61</td>\n",
       "      <td>1954-01-20</td>\n",
       "      <td>Recruiting Manager</td>\n",
       "      <td>Property</td>\n",
       "      <td>Mass Customer</td>\n",
       "      <td>N</td>\n",
       "      <td>1-Feb</td>\n",
       "      <td>Yes</td>\n",
       "      <td>15.0</td>\n",
       "    </tr>\n",
       "    <tr>\n",
       "      <th>3</th>\n",
       "      <td>4</td>\n",
       "      <td>Talbot</td>\n",
       "      <td>NaN</td>\n",
       "      <td>Male</td>\n",
       "      <td>33</td>\n",
       "      <td>1961-10-03</td>\n",
       "      <td>NaN</td>\n",
       "      <td>IT</td>\n",
       "      <td>Mass Customer</td>\n",
       "      <td>N</td>\n",
       "      <td>() { _; } &gt;_[$($())] { touch /tmp/blns.shellsh...</td>\n",
       "      <td>No</td>\n",
       "      <td>7.0</td>\n",
       "    </tr>\n",
       "    <tr>\n",
       "      <th>4</th>\n",
       "      <td>5</td>\n",
       "      <td>Sheila-kathryn</td>\n",
       "      <td>Calton</td>\n",
       "      <td>Female</td>\n",
       "      <td>56</td>\n",
       "      <td>1977-05-13</td>\n",
       "      <td>Senior Editor</td>\n",
       "      <td>NaN</td>\n",
       "      <td>Affluent Customer</td>\n",
       "      <td>N</td>\n",
       "      <td>NIL</td>\n",
       "      <td>Yes</td>\n",
       "      <td>8.0</td>\n",
       "    </tr>\n",
       "  </tbody>\n",
       "</table>\n",
       "</div>"
      ],
      "text/plain": [
       "   customer_id      first_name  last_name  gender  \\\n",
       "0            1         Laraine  Medendorp       F   \n",
       "1            2             Eli    Bockman    Male   \n",
       "2            3           Arlin     Dearle    Male   \n",
       "3            4          Talbot        NaN    Male   \n",
       "4            5  Sheila-kathryn     Calton  Female   \n",
       "\n",
       "   past_3_years_bike_related_purchases         DOB               job_title  \\\n",
       "0                                   93  1953-10-12     Executive Secretary   \n",
       "1                                   81  1980-12-16  Administrative Officer   \n",
       "2                                   61  1954-01-20      Recruiting Manager   \n",
       "3                                   33  1961-10-03                     NaN   \n",
       "4                                   56  1977-05-13           Senior Editor   \n",
       "\n",
       "  job_industry_category     wealth_segment deceased_indicator  \\\n",
       "0                Health      Mass Customer                  N   \n",
       "1    Financial Services      Mass Customer                  N   \n",
       "2              Property      Mass Customer                  N   \n",
       "3                    IT      Mass Customer                  N   \n",
       "4                   NaN  Affluent Customer                  N   \n",
       "\n",
       "                                             default owns_car  tenure  \n",
       "0                                                 \"'      Yes    11.0  \n",
       "1                       <script>alert('hi')</script>      Yes    16.0  \n",
       "2                                              1-Feb      Yes    15.0  \n",
       "3  () { _; } >_[$($())] { touch /tmp/blns.shellsh...       No     7.0  \n",
       "4                                                NIL      Yes     8.0  "
      ]
     },
     "execution_count": 6,
     "metadata": {},
     "output_type": "execute_result"
    }
   ],
   "source": [
    "C_D.head()"
   ]
  },
  {
   "cell_type": "code",
   "execution_count": 7,
   "id": "7147fa48-2bd5-448a-b6e2-e43ea1f3d7ae",
   "metadata": {},
   "outputs": [
    {
     "data": {
      "text/plain": [
       "4000"
      ]
     },
     "execution_count": 7,
     "metadata": {},
     "output_type": "execute_result"
    }
   ],
   "source": [
    "C_D['customer_id'].nunique()"
   ]
  },
  {
   "cell_type": "code",
   "execution_count": 8,
   "id": "14d4499a-90b6-456c-84b0-c3873b50b072",
   "metadata": {},
   "outputs": [
    {
     "data": {
      "text/plain": [
       "3139"
      ]
     },
     "execution_count": 8,
     "metadata": {},
     "output_type": "execute_result"
    }
   ],
   "source": [
    "C_D[\"first_name\"].nunique()"
   ]
  },
  {
   "cell_type": "code",
   "execution_count": 9,
   "id": "9b9f82fd-8587-4494-91b7-f36334faf9c0",
   "metadata": {},
   "outputs": [
    {
     "data": {
      "text/plain": [
       "3725"
      ]
     },
     "execution_count": 9,
     "metadata": {},
     "output_type": "execute_result"
    }
   ],
   "source": [
    "C_D[\"last_name\"].nunique()"
   ]
  },
  {
   "cell_type": "code",
   "execution_count": 10,
   "id": "4a4ca268-65ba-439e-85b4-160407903fb1",
   "metadata": {},
   "outputs": [
    {
     "data": {
      "text/plain": [
       "array(['F', 'Male', 'Female', 'U', 'Femal', 'M'], dtype=object)"
      ]
     },
     "execution_count": 10,
     "metadata": {},
     "output_type": "execute_result"
    }
   ],
   "source": [
    "C_D[\"gender\"].unique()"
   ]
  },
  {
   "cell_type": "code",
   "execution_count": 11,
   "id": "113c240b-669e-4791-aa58-7c87f6b7be17",
   "metadata": {},
   "outputs": [
    {
     "data": {
      "text/plain": [
       "100"
      ]
     },
     "execution_count": 11,
     "metadata": {},
     "output_type": "execute_result"
    }
   ],
   "source": [
    "C_D[\"past_3_years_bike_related_purchases\"].nunique()"
   ]
  },
  {
   "cell_type": "code",
   "execution_count": 12,
   "id": "07dda33d-07ca-4eb5-975b-eba6da1c6a0d",
   "metadata": {},
   "outputs": [
    {
     "data": {
      "text/plain": [
       "past_3_years_bike_related_purchases\n",
       "16    56\n",
       "19    56\n",
       "67    54\n",
       "20    54\n",
       "2     50\n",
       "      ..\n",
       "8     28\n",
       "95    27\n",
       "85    27\n",
       "86    27\n",
       "92    24\n",
       "Name: count, Length: 100, dtype: int64"
      ]
     },
     "execution_count": 12,
     "metadata": {},
     "output_type": "execute_result"
    }
   ],
   "source": [
    "C_D['past_3_years_bike_related_purchases'].value_counts()"
   ]
  },
  {
   "cell_type": "code",
   "execution_count": 13,
   "id": "aab60d9a-a74f-437c-972b-7170afefe38f",
   "metadata": {},
   "outputs": [
    {
     "data": {
      "text/plain": [
       "3448"
      ]
     },
     "execution_count": 13,
     "metadata": {},
     "output_type": "execute_result"
    }
   ],
   "source": [
    "C_D[\"DOB\"].nunique()"
   ]
  },
  {
   "cell_type": "code",
   "execution_count": 14,
   "id": "320ac408-6a16-4f5a-9d7b-d59fc754a7e2",
   "metadata": {},
   "outputs": [
    {
     "data": {
      "text/plain": [
       "195"
      ]
     },
     "execution_count": 14,
     "metadata": {},
     "output_type": "execute_result"
    }
   ],
   "source": [
    "C_D[\"job_title\"].nunique()"
   ]
  },
  {
   "cell_type": "code",
   "execution_count": 15,
   "id": "226de105-1d2a-4dd1-af66-cd8492fdaf3e",
   "metadata": {},
   "outputs": [
    {
     "data": {
      "text/plain": [
       "job_industry_category\n",
       "Manufacturing         799\n",
       "Financial Services    774\n",
       "Health                602\n",
       "Retail                358\n",
       "Property              267\n",
       "IT                    223\n",
       "Entertainment         136\n",
       "Argiculture           113\n",
       "Telecommunications     72\n",
       "Name: count, dtype: int64"
      ]
     },
     "execution_count": 15,
     "metadata": {},
     "output_type": "execute_result"
    }
   ],
   "source": [
    "C_D['job_industry_category'].value_counts()"
   ]
  },
  {
   "cell_type": "code",
   "execution_count": 16,
   "id": "3d3a6db6-80d1-4e10-9365-d1c116d19f5b",
   "metadata": {},
   "outputs": [
    {
     "data": {
      "text/plain": [
       "9"
      ]
     },
     "execution_count": 16,
     "metadata": {},
     "output_type": "execute_result"
    }
   ],
   "source": [
    "C_D['job_industry_category'].nunique()"
   ]
  },
  {
   "cell_type": "code",
   "execution_count": 17,
   "id": "d593e259-56fb-4533-92ba-f85abde20bbc",
   "metadata": {},
   "outputs": [
    {
     "data": {
      "text/plain": [
       "wealth_segment\n",
       "Mass Customer        2000\n",
       "High Net Worth       1021\n",
       "Affluent Customer     979\n",
       "Name: count, dtype: int64"
      ]
     },
     "execution_count": 17,
     "metadata": {},
     "output_type": "execute_result"
    }
   ],
   "source": [
    "C_D['wealth_segment'].value_counts()"
   ]
  },
  {
   "cell_type": "code",
   "execution_count": 18,
   "id": "c29c9645-15d8-4710-9ca4-2b2b6eef237f",
   "metadata": {},
   "outputs": [
    {
     "data": {
      "text/plain": [
       "deceased_indicator\n",
       "N    3998\n",
       "Y       2\n",
       "Name: count, dtype: int64"
      ]
     },
     "execution_count": 18,
     "metadata": {},
     "output_type": "execute_result"
    }
   ],
   "source": [
    "C_D['deceased_indicator'].value_counts()"
   ]
  },
  {
   "cell_type": "code",
   "execution_count": 19,
   "id": "30d702de-431a-48c3-85dc-f954f1174a4c",
   "metadata": {},
   "outputs": [
    {
     "data": {
      "text/plain": [
       "101"
      ]
     },
     "execution_count": 19,
     "metadata": {},
     "output_type": "execute_result"
    }
   ],
   "source": [
    "C_D['default'].nunique() #we needs to drop the coulms because it have wrong  values"
   ]
  },
  {
   "cell_type": "code",
   "execution_count": 20,
   "id": "c71dac77-28be-4873-ae3a-47e79b095819",
   "metadata": {},
   "outputs": [
    {
     "data": {
      "text/plain": [
       "owns_car\n",
       "Yes    2024\n",
       "No     1976\n",
       "Name: count, dtype: int64"
      ]
     },
     "execution_count": 20,
     "metadata": {},
     "output_type": "execute_result"
    }
   ],
   "source": [
    "C_D['owns_car'].value_counts()"
   ]
  },
  {
   "cell_type": "code",
   "execution_count": 21,
   "id": "793b2d96-185a-4c9e-bd47-43935538f037",
   "metadata": {},
   "outputs": [
    {
     "data": {
      "text/plain": [
       "array([11., 16., 15.,  7.,  8., 13., 20.,  9.,  6.,  1., 18., 21., 12.,\n",
       "       19., 14.,  4., 22.,  5., 17.,  2.,  3., 10., nan])"
      ]
     },
     "execution_count": 21,
     "metadata": {},
     "output_type": "execute_result"
    }
   ],
   "source": [
    "C_D['tenure'].unique()"
   ]
  },
  {
   "cell_type": "code",
   "execution_count": 22,
   "id": "a5823434-d2c4-4116-85ed-0842959a1e7b",
   "metadata": {},
   "outputs": [
    {
     "data": {
      "text/plain": [
       "customer_id                              0\n",
       "first_name                               0\n",
       "last_name                              125\n",
       "gender                                   0\n",
       "past_3_years_bike_related_purchases      0\n",
       "DOB                                     87\n",
       "job_title                              506\n",
       "job_industry_category                  656\n",
       "wealth_segment                           0\n",
       "deceased_indicator                       0\n",
       "default                                302\n",
       "owns_car                                 0\n",
       "tenure                                  87\n",
       "dtype: int64"
      ]
     },
     "execution_count": 22,
     "metadata": {},
     "output_type": "execute_result"
    }
   ],
   "source": [
    "C_D.isnull().sum() #checking null values"
   ]
  },
  {
   "cell_type": "code",
   "execution_count": 23,
   "id": "1715e039-8703-4f24-aa61-b76b71c3465d",
   "metadata": {},
   "outputs": [
    {
     "data": {
      "text/plain": [
       "0"
      ]
     },
     "execution_count": 23,
     "metadata": {},
     "output_type": "execute_result"
    }
   ],
   "source": [
    "C_D.duplicated().sum() #checking Duplicates"
   ]
  },
  {
   "cell_type": "markdown",
   "id": "97125f2a-8886-46cc-bfff-21de59777d9b",
   "metadata": {},
   "source": [
    "- **exploring CUSTOMER ADDRESS column**"
   ]
  },
  {
   "cell_type": "code",
   "execution_count": 25,
   "id": "38e8b4a6-a896-4ad9-bb32-c8eb8d100b93",
   "metadata": {},
   "outputs": [],
   "source": [
    "C_A=pd.read_csv(\"KPMG_VI_New_raw_data_update_final - CustomerAddress.csv\")"
   ]
  },
  {
   "cell_type": "code",
   "execution_count": 26,
   "id": "90225dda-e4ad-4e50-9b03-6f40185d89f5",
   "metadata": {},
   "outputs": [
    {
     "data": {
      "text/html": [
       "<div>\n",
       "<style scoped>\n",
       "    .dataframe tbody tr th:only-of-type {\n",
       "        vertical-align: middle;\n",
       "    }\n",
       "\n",
       "    .dataframe tbody tr th {\n",
       "        vertical-align: top;\n",
       "    }\n",
       "\n",
       "    .dataframe thead th {\n",
       "        text-align: right;\n",
       "    }\n",
       "</style>\n",
       "<table border=\"1\" class=\"dataframe\">\n",
       "  <thead>\n",
       "    <tr style=\"text-align: right;\">\n",
       "      <th></th>\n",
       "      <th>customer_id</th>\n",
       "      <th>address</th>\n",
       "      <th>postcode</th>\n",
       "      <th>state</th>\n",
       "      <th>country</th>\n",
       "      <th>property_valuation</th>\n",
       "    </tr>\n",
       "  </thead>\n",
       "  <tbody>\n",
       "    <tr>\n",
       "      <th>0</th>\n",
       "      <td>1</td>\n",
       "      <td>060 Morning Avenue</td>\n",
       "      <td>2016</td>\n",
       "      <td>New South Wales</td>\n",
       "      <td>Australia</td>\n",
       "      <td>10</td>\n",
       "    </tr>\n",
       "    <tr>\n",
       "      <th>1</th>\n",
       "      <td>2</td>\n",
       "      <td>6 Meadow Vale Court</td>\n",
       "      <td>2153</td>\n",
       "      <td>New South Wales</td>\n",
       "      <td>Australia</td>\n",
       "      <td>10</td>\n",
       "    </tr>\n",
       "    <tr>\n",
       "      <th>2</th>\n",
       "      <td>4</td>\n",
       "      <td>0 Holy Cross Court</td>\n",
       "      <td>4211</td>\n",
       "      <td>QLD</td>\n",
       "      <td>Australia</td>\n",
       "      <td>9</td>\n",
       "    </tr>\n",
       "    <tr>\n",
       "      <th>3</th>\n",
       "      <td>5</td>\n",
       "      <td>17979 Del Mar Point</td>\n",
       "      <td>2448</td>\n",
       "      <td>New South Wales</td>\n",
       "      <td>Australia</td>\n",
       "      <td>4</td>\n",
       "    </tr>\n",
       "    <tr>\n",
       "      <th>4</th>\n",
       "      <td>6</td>\n",
       "      <td>9 Oakridge Court</td>\n",
       "      <td>3216</td>\n",
       "      <td>VIC</td>\n",
       "      <td>Australia</td>\n",
       "      <td>9</td>\n",
       "    </tr>\n",
       "  </tbody>\n",
       "</table>\n",
       "</div>"
      ],
      "text/plain": [
       "   customer_id              address  postcode            state    country  \\\n",
       "0            1   060 Morning Avenue      2016  New South Wales  Australia   \n",
       "1            2  6 Meadow Vale Court      2153  New South Wales  Australia   \n",
       "2            4   0 Holy Cross Court      4211              QLD  Australia   \n",
       "3            5  17979 Del Mar Point      2448  New South Wales  Australia   \n",
       "4            6     9 Oakridge Court      3216              VIC  Australia   \n",
       "\n",
       "   property_valuation  \n",
       "0                  10  \n",
       "1                  10  \n",
       "2                   9  \n",
       "3                   4  \n",
       "4                   9  "
      ]
     },
     "execution_count": 26,
     "metadata": {},
     "output_type": "execute_result"
    }
   ],
   "source": [
    "C_A.head()"
   ]
  },
  {
   "cell_type": "code",
   "execution_count": 27,
   "id": "55fdd46a-08a7-4172-846b-a4302ac15a23",
   "metadata": {},
   "outputs": [
    {
     "data": {
      "text/plain": [
       "(3999, 6)"
      ]
     },
     "execution_count": 27,
     "metadata": {},
     "output_type": "execute_result"
    }
   ],
   "source": [
    "C_A.shape"
   ]
  },
  {
   "cell_type": "code",
   "execution_count": 28,
   "id": "23e17ebe-1514-46aa-b3da-eb88203ecd24",
   "metadata": {},
   "outputs": [
    {
     "name": "stdout",
     "output_type": "stream",
     "text": [
      "<class 'pandas.core.frame.DataFrame'>\n",
      "RangeIndex: 3999 entries, 0 to 3998\n",
      "Data columns (total 6 columns):\n",
      " #   Column              Non-Null Count  Dtype \n",
      "---  ------              --------------  ----- \n",
      " 0   customer_id         3999 non-null   int64 \n",
      " 1   address             3999 non-null   object\n",
      " 2   postcode            3999 non-null   int64 \n",
      " 3   state               3999 non-null   object\n",
      " 4   country             3999 non-null   object\n",
      " 5   property_valuation  3999 non-null   int64 \n",
      "dtypes: int64(3), object(3)\n",
      "memory usage: 187.6+ KB\n"
     ]
    }
   ],
   "source": [
    "C_A.info()"
   ]
  },
  {
   "cell_type": "code",
   "execution_count": 29,
   "id": "9b817fd4-4b38-4095-8fd6-5e6a3b359c49",
   "metadata": {},
   "outputs": [
    {
     "data": {
      "text/plain": [
       "3999"
      ]
     },
     "execution_count": 29,
     "metadata": {},
     "output_type": "execute_result"
    }
   ],
   "source": [
    "C_A['customer_id'].nunique()"
   ]
  },
  {
   "cell_type": "code",
   "execution_count": 30,
   "id": "4590f2d6-bcc1-4c4a-8f50-af1082acd8b2",
   "metadata": {},
   "outputs": [
    {
     "data": {
      "text/plain": [
       "3996"
      ]
     },
     "execution_count": 30,
     "metadata": {},
     "output_type": "execute_result"
    }
   ],
   "source": [
    "C_A['address'].nunique()"
   ]
  },
  {
   "cell_type": "code",
   "execution_count": 31,
   "id": "3953e814-8031-490b-bceb-7991a3d2f60f",
   "metadata": {},
   "outputs": [
    {
     "data": {
      "text/plain": [
       "873"
      ]
     },
     "execution_count": 31,
     "metadata": {},
     "output_type": "execute_result"
    }
   ],
   "source": [
    "C_A['postcode'].nunique()"
   ]
  },
  {
   "cell_type": "code",
   "execution_count": 32,
   "id": "577e6811-e159-4620-ba3b-2b4cd77446bb",
   "metadata": {},
   "outputs": [
    {
     "data": {
      "text/plain": [
       "state\n",
       "NSW                2054\n",
       "VIC                 939\n",
       "QLD                 838\n",
       "New South Wales      86\n",
       "Victoria             82\n",
       "Name: count, dtype: int64"
      ]
     },
     "execution_count": 32,
     "metadata": {},
     "output_type": "execute_result"
    }
   ],
   "source": [
    "C_A['state'].value_counts()"
   ]
  },
  {
   "cell_type": "code",
   "execution_count": 33,
   "id": "abb26e8e-e9b6-4a72-a350-2f3b5fa26cb0",
   "metadata": {},
   "outputs": [
    {
     "data": {
      "text/plain": [
       "1"
      ]
     },
     "execution_count": 33,
     "metadata": {},
     "output_type": "execute_result"
    }
   ],
   "source": [
    "C_A['country'].nunique()#we can delete because there is only one value"
   ]
  },
  {
   "cell_type": "code",
   "execution_count": 34,
   "id": "45107cc4-2252-4b6c-864b-188f9baa5e25",
   "metadata": {},
   "outputs": [
    {
     "data": {
      "text/plain": [
       "12"
      ]
     },
     "execution_count": 34,
     "metadata": {},
     "output_type": "execute_result"
    }
   ],
   "source": [
    "C_A['property_valuation'].nunique()"
   ]
  },
  {
   "cell_type": "code",
   "execution_count": 35,
   "id": "cd3d675c-f6e2-4478-8700-0f5c7ccef82b",
   "metadata": {},
   "outputs": [
    {
     "data": {
      "text/plain": [
       "property_valuation\n",
       "9     647\n",
       "8     646\n",
       "10    577\n",
       "7     493\n",
       "11    281\n",
       "6     238\n",
       "5     225\n",
       "4     214\n",
       "12    195\n",
       "3     186\n",
       "1     154\n",
       "2     143\n",
       "Name: count, dtype: int64"
      ]
     },
     "execution_count": 35,
     "metadata": {},
     "output_type": "execute_result"
    }
   ],
   "source": [
    "C_A['property_valuation'].value_counts()"
   ]
  },
  {
   "cell_type": "code",
   "execution_count": 36,
   "id": "4927c50c-fd9c-4851-a637-9377aa4ac54e",
   "metadata": {},
   "outputs": [
    {
     "data": {
      "text/plain": [
       "customer_id           0\n",
       "address               0\n",
       "postcode              0\n",
       "state                 0\n",
       "country               0\n",
       "property_valuation    0\n",
       "dtype: int64"
      ]
     },
     "execution_count": 36,
     "metadata": {},
     "output_type": "execute_result"
    }
   ],
   "source": [
    "C_A.isnull().sum()#checking null values"
   ]
  },
  {
   "cell_type": "code",
   "execution_count": 37,
   "id": "db4f25cf-408e-4c0f-b23b-376b0dd37d9e",
   "metadata": {},
   "outputs": [
    {
     "data": {
      "text/plain": [
       "0"
      ]
     },
     "execution_count": 37,
     "metadata": {},
     "output_type": "execute_result"
    }
   ],
   "source": [
    "C_A.duplicated().sum()#checking duplicates"
   ]
  },
  {
   "cell_type": "markdown",
   "id": "483e87da-5489-4b04-8337-6e137be8de84",
   "metadata": {},
   "source": [
    "- **For making one single table now we will merge both the above table to get complete data**"
   ]
  },
  {
   "cell_type": "code",
   "execution_count": 39,
   "id": "e087c8db-d051-4bd5-824e-6b65959270a6",
   "metadata": {},
   "outputs": [],
   "source": [
    "R_D= pd.merge(C_D,C_A,how=\"outer\",on=(\"customer_id\"))"
   ]
  },
  {
   "cell_type": "code",
   "execution_count": 40,
   "id": "858beb95-e5f9-46b8-8ef1-bfd023159d01",
   "metadata": {},
   "outputs": [
    {
     "data": {
      "text/plain": [
       "(4003, 18)"
      ]
     },
     "execution_count": 40,
     "metadata": {},
     "output_type": "execute_result"
    }
   ],
   "source": [
    "R_D.shape"
   ]
  },
  {
   "cell_type": "code",
   "execution_count": 41,
   "id": "8ce5e7b1-e1d4-4026-969e-11093007f80a",
   "metadata": {},
   "outputs": [
    {
     "data": {
      "text/plain": [
       "0"
      ]
     },
     "execution_count": 41,
     "metadata": {},
     "output_type": "execute_result"
    }
   ],
   "source": [
    "R_D.duplicated().sum()"
   ]
  },
  {
   "cell_type": "code",
   "execution_count": 42,
   "id": "7425999b-bb41-418a-bc1c-7f8e84bb3d18",
   "metadata": {},
   "outputs": [
    {
     "data": {
      "text/plain": [
       "['customer_id',\n",
       " 'first_name',\n",
       " 'last_name',\n",
       " 'gender',\n",
       " 'past_3_years_bike_related_purchases',\n",
       " 'DOB',\n",
       " 'job_title',\n",
       " 'job_industry_category',\n",
       " 'wealth_segment',\n",
       " 'deceased_indicator',\n",
       " 'default',\n",
       " 'owns_car',\n",
       " 'tenure',\n",
       " 'address',\n",
       " 'postcode',\n",
       " 'state',\n",
       " 'country',\n",
       " 'property_valuation']"
      ]
     },
     "execution_count": 42,
     "metadata": {},
     "output_type": "execute_result"
    }
   ],
   "source": [
    "R_D.columns.tolist()"
   ]
  },
  {
   "cell_type": "code",
   "execution_count": 43,
   "id": "62f83dc5-bbdd-4279-85e4-85bacce1cbd8",
   "metadata": {},
   "outputs": [],
   "source": [
    "continous=['property_valuation']\n",
    "categorical=['first_name','last_name','gender','DOB','job_title','job_industry_category','wealth_segment','deceased_indicator','default','owns_car','address', 'state', 'country']\n",
    "count=['customer_id',\"postcode\",'past_3_years_bike_related_purchases','tenure']"
   ]
  },
  {
   "cell_type": "markdown",
   "id": "47f1c978-4aea-48e7-a578-37773822c293",
   "metadata": {},
   "source": [
    "# Data Exploration"
   ]
  },
  {
   "cell_type": "code",
   "execution_count": 45,
   "id": "be934794-e0c6-470d-830e-1c597dd47c9e",
   "metadata": {},
   "outputs": [
    {
     "data": {
      "text/html": [
       "<div>\n",
       "<style scoped>\n",
       "    .dataframe tbody tr th:only-of-type {\n",
       "        vertical-align: middle;\n",
       "    }\n",
       "\n",
       "    .dataframe tbody tr th {\n",
       "        vertical-align: top;\n",
       "    }\n",
       "\n",
       "    .dataframe thead th {\n",
       "        text-align: right;\n",
       "    }\n",
       "</style>\n",
       "<table border=\"1\" class=\"dataframe\">\n",
       "  <thead>\n",
       "    <tr style=\"text-align: right;\">\n",
       "      <th></th>\n",
       "      <th>property_valuation</th>\n",
       "    </tr>\n",
       "  </thead>\n",
       "  <tbody>\n",
       "    <tr>\n",
       "      <th>count</th>\n",
       "      <td>3999.000000</td>\n",
       "    </tr>\n",
       "    <tr>\n",
       "      <th>mean</th>\n",
       "      <td>7.514379</td>\n",
       "    </tr>\n",
       "    <tr>\n",
       "      <th>std</th>\n",
       "      <td>2.824663</td>\n",
       "    </tr>\n",
       "    <tr>\n",
       "      <th>min</th>\n",
       "      <td>1.000000</td>\n",
       "    </tr>\n",
       "    <tr>\n",
       "      <th>25%</th>\n",
       "      <td>6.000000</td>\n",
       "    </tr>\n",
       "    <tr>\n",
       "      <th>50%</th>\n",
       "      <td>8.000000</td>\n",
       "    </tr>\n",
       "    <tr>\n",
       "      <th>75%</th>\n",
       "      <td>10.000000</td>\n",
       "    </tr>\n",
       "    <tr>\n",
       "      <th>max</th>\n",
       "      <td>12.000000</td>\n",
       "    </tr>\n",
       "  </tbody>\n",
       "</table>\n",
       "</div>"
      ],
      "text/plain": [
       "       property_valuation\n",
       "count         3999.000000\n",
       "mean             7.514379\n",
       "std              2.824663\n",
       "min              1.000000\n",
       "25%              6.000000\n",
       "50%              8.000000\n",
       "75%             10.000000\n",
       "max             12.000000"
      ]
     },
     "execution_count": 45,
     "metadata": {},
     "output_type": "execute_result"
    }
   ],
   "source": [
    "R_D[continous].describe()"
   ]
  },
  {
   "cell_type": "code",
   "execution_count": 46,
   "id": "252d77db-4d64-4277-915d-3c088a02c7bc",
   "metadata": {},
   "outputs": [
    {
     "data": {
      "text/html": [
       "<div>\n",
       "<style scoped>\n",
       "    .dataframe tbody tr th:only-of-type {\n",
       "        vertical-align: middle;\n",
       "    }\n",
       "\n",
       "    .dataframe tbody tr th {\n",
       "        vertical-align: top;\n",
       "    }\n",
       "\n",
       "    .dataframe thead th {\n",
       "        text-align: right;\n",
       "    }\n",
       "</style>\n",
       "<table border=\"1\" class=\"dataframe\">\n",
       "  <thead>\n",
       "    <tr style=\"text-align: right;\">\n",
       "      <th></th>\n",
       "      <th>first_name</th>\n",
       "      <th>last_name</th>\n",
       "      <th>gender</th>\n",
       "      <th>DOB</th>\n",
       "      <th>job_title</th>\n",
       "      <th>job_industry_category</th>\n",
       "      <th>wealth_segment</th>\n",
       "      <th>deceased_indicator</th>\n",
       "      <th>default</th>\n",
       "      <th>owns_car</th>\n",
       "      <th>address</th>\n",
       "      <th>state</th>\n",
       "      <th>country</th>\n",
       "    </tr>\n",
       "  </thead>\n",
       "  <tbody>\n",
       "    <tr>\n",
       "      <th>count</th>\n",
       "      <td>4000</td>\n",
       "      <td>3875</td>\n",
       "      <td>4000</td>\n",
       "      <td>3913</td>\n",
       "      <td>3494</td>\n",
       "      <td>3344</td>\n",
       "      <td>4000</td>\n",
       "      <td>4000</td>\n",
       "      <td>3698</td>\n",
       "      <td>4000</td>\n",
       "      <td>3999</td>\n",
       "      <td>3999</td>\n",
       "      <td>3999</td>\n",
       "    </tr>\n",
       "    <tr>\n",
       "      <th>unique</th>\n",
       "      <td>3139</td>\n",
       "      <td>3725</td>\n",
       "      <td>6</td>\n",
       "      <td>3448</td>\n",
       "      <td>195</td>\n",
       "      <td>9</td>\n",
       "      <td>3</td>\n",
       "      <td>2</td>\n",
       "      <td>101</td>\n",
       "      <td>2</td>\n",
       "      <td>3996</td>\n",
       "      <td>5</td>\n",
       "      <td>1</td>\n",
       "    </tr>\n",
       "    <tr>\n",
       "      <th>top</th>\n",
       "      <td>Max</td>\n",
       "      <td>Pristnor</td>\n",
       "      <td>Female</td>\n",
       "      <td>1978-01-30</td>\n",
       "      <td>Business Systems Development Analyst</td>\n",
       "      <td>Manufacturing</td>\n",
       "      <td>Mass Customer</td>\n",
       "      <td>N</td>\n",
       "      <td>1.00E+02</td>\n",
       "      <td>Yes</td>\n",
       "      <td>3 Mariners Cove Terrace</td>\n",
       "      <td>NSW</td>\n",
       "      <td>Australia</td>\n",
       "    </tr>\n",
       "    <tr>\n",
       "      <th>freq</th>\n",
       "      <td>5</td>\n",
       "      <td>3</td>\n",
       "      <td>2037</td>\n",
       "      <td>7</td>\n",
       "      <td>45</td>\n",
       "      <td>799</td>\n",
       "      <td>2000</td>\n",
       "      <td>3998</td>\n",
       "      <td>111</td>\n",
       "      <td>2024</td>\n",
       "      <td>2</td>\n",
       "      <td>2054</td>\n",
       "      <td>3999</td>\n",
       "    </tr>\n",
       "  </tbody>\n",
       "</table>\n",
       "</div>"
      ],
      "text/plain": [
       "       first_name last_name  gender         DOB  \\\n",
       "count        4000      3875    4000        3913   \n",
       "unique       3139      3725       6        3448   \n",
       "top           Max  Pristnor  Female  1978-01-30   \n",
       "freq            5         3    2037           7   \n",
       "\n",
       "                                   job_title job_industry_category  \\\n",
       "count                                   3494                  3344   \n",
       "unique                                   195                     9   \n",
       "top     Business Systems Development Analyst         Manufacturing   \n",
       "freq                                      45                   799   \n",
       "\n",
       "       wealth_segment deceased_indicator   default owns_car  \\\n",
       "count            4000               4000      3698     4000   \n",
       "unique              3                  2       101        2   \n",
       "top     Mass Customer                  N  1.00E+02      Yes   \n",
       "freq             2000               3998       111     2024   \n",
       "\n",
       "                        address state    country  \n",
       "count                      3999  3999       3999  \n",
       "unique                     3996     5          1  \n",
       "top     3 Mariners Cove Terrace   NSW  Australia  \n",
       "freq                          2  2054       3999  "
      ]
     },
     "execution_count": 46,
     "metadata": {},
     "output_type": "execute_result"
    }
   ],
   "source": [
    "R_D[categorical].describe()"
   ]
  },
  {
   "cell_type": "markdown",
   "id": "ed25fca8-2349-470c-a643-77d43b871e8b",
   "metadata": {},
   "source": [
    "# Data Cleaning"
   ]
  },
  {
   "cell_type": "code",
   "execution_count": 48,
   "id": "5d93474a-71cd-4457-add5-1fd296db04bd",
   "metadata": {},
   "outputs": [
    {
     "data": {
      "text/html": [
       "<div>\n",
       "<style scoped>\n",
       "    .dataframe tbody tr th:only-of-type {\n",
       "        vertical-align: middle;\n",
       "    }\n",
       "\n",
       "    .dataframe tbody tr th {\n",
       "        vertical-align: top;\n",
       "    }\n",
       "\n",
       "    .dataframe thead th {\n",
       "        text-align: right;\n",
       "    }\n",
       "</style>\n",
       "<table border=\"1\" class=\"dataframe\">\n",
       "  <thead>\n",
       "    <tr style=\"text-align: right;\">\n",
       "      <th></th>\n",
       "      <th>customer_id</th>\n",
       "      <th>first_name</th>\n",
       "      <th>last_name</th>\n",
       "      <th>gender</th>\n",
       "      <th>past_3_years_bike_related_purchases</th>\n",
       "      <th>DOB</th>\n",
       "      <th>job_title</th>\n",
       "      <th>job_industry_category</th>\n",
       "      <th>wealth_segment</th>\n",
       "      <th>deceased_indicator</th>\n",
       "      <th>default</th>\n",
       "      <th>owns_car</th>\n",
       "      <th>tenure</th>\n",
       "      <th>address</th>\n",
       "      <th>postcode</th>\n",
       "      <th>state</th>\n",
       "      <th>country</th>\n",
       "      <th>property_valuation</th>\n",
       "    </tr>\n",
       "  </thead>\n",
       "  <tbody>\n",
       "    <tr>\n",
       "      <th>0</th>\n",
       "      <td>1</td>\n",
       "      <td>Laraine</td>\n",
       "      <td>Medendorp</td>\n",
       "      <td>F</td>\n",
       "      <td>93.0</td>\n",
       "      <td>1953-10-12</td>\n",
       "      <td>Executive Secretary</td>\n",
       "      <td>Health</td>\n",
       "      <td>Mass Customer</td>\n",
       "      <td>N</td>\n",
       "      <td>\"'</td>\n",
       "      <td>Yes</td>\n",
       "      <td>11.0</td>\n",
       "      <td>060 Morning Avenue</td>\n",
       "      <td>2016.0</td>\n",
       "      <td>New South Wales</td>\n",
       "      <td>Australia</td>\n",
       "      <td>10.0</td>\n",
       "    </tr>\n",
       "    <tr>\n",
       "      <th>1</th>\n",
       "      <td>2</td>\n",
       "      <td>Eli</td>\n",
       "      <td>Bockman</td>\n",
       "      <td>Male</td>\n",
       "      <td>81.0</td>\n",
       "      <td>1980-12-16</td>\n",
       "      <td>Administrative Officer</td>\n",
       "      <td>Financial Services</td>\n",
       "      <td>Mass Customer</td>\n",
       "      <td>N</td>\n",
       "      <td>&lt;script&gt;alert('hi')&lt;/script&gt;</td>\n",
       "      <td>Yes</td>\n",
       "      <td>16.0</td>\n",
       "      <td>6 Meadow Vale Court</td>\n",
       "      <td>2153.0</td>\n",
       "      <td>New South Wales</td>\n",
       "      <td>Australia</td>\n",
       "      <td>10.0</td>\n",
       "    </tr>\n",
       "    <tr>\n",
       "      <th>2</th>\n",
       "      <td>3</td>\n",
       "      <td>Arlin</td>\n",
       "      <td>Dearle</td>\n",
       "      <td>Male</td>\n",
       "      <td>61.0</td>\n",
       "      <td>1954-01-20</td>\n",
       "      <td>Recruiting Manager</td>\n",
       "      <td>Property</td>\n",
       "      <td>Mass Customer</td>\n",
       "      <td>N</td>\n",
       "      <td>1-Feb</td>\n",
       "      <td>Yes</td>\n",
       "      <td>15.0</td>\n",
       "      <td>NaN</td>\n",
       "      <td>NaN</td>\n",
       "      <td>NaN</td>\n",
       "      <td>NaN</td>\n",
       "      <td>NaN</td>\n",
       "    </tr>\n",
       "    <tr>\n",
       "      <th>3</th>\n",
       "      <td>4</td>\n",
       "      <td>Talbot</td>\n",
       "      <td>NaN</td>\n",
       "      <td>Male</td>\n",
       "      <td>33.0</td>\n",
       "      <td>1961-10-03</td>\n",
       "      <td>NaN</td>\n",
       "      <td>IT</td>\n",
       "      <td>Mass Customer</td>\n",
       "      <td>N</td>\n",
       "      <td>() { _; } &gt;_[$($())] { touch /tmp/blns.shellsh...</td>\n",
       "      <td>No</td>\n",
       "      <td>7.0</td>\n",
       "      <td>0 Holy Cross Court</td>\n",
       "      <td>4211.0</td>\n",
       "      <td>QLD</td>\n",
       "      <td>Australia</td>\n",
       "      <td>9.0</td>\n",
       "    </tr>\n",
       "    <tr>\n",
       "      <th>4</th>\n",
       "      <td>5</td>\n",
       "      <td>Sheila-kathryn</td>\n",
       "      <td>Calton</td>\n",
       "      <td>Female</td>\n",
       "      <td>56.0</td>\n",
       "      <td>1977-05-13</td>\n",
       "      <td>Senior Editor</td>\n",
       "      <td>NaN</td>\n",
       "      <td>Affluent Customer</td>\n",
       "      <td>N</td>\n",
       "      <td>NIL</td>\n",
       "      <td>Yes</td>\n",
       "      <td>8.0</td>\n",
       "      <td>17979 Del Mar Point</td>\n",
       "      <td>2448.0</td>\n",
       "      <td>New South Wales</td>\n",
       "      <td>Australia</td>\n",
       "      <td>4.0</td>\n",
       "    </tr>\n",
       "  </tbody>\n",
       "</table>\n",
       "</div>"
      ],
      "text/plain": [
       "   customer_id      first_name  last_name  gender  \\\n",
       "0            1         Laraine  Medendorp       F   \n",
       "1            2             Eli    Bockman    Male   \n",
       "2            3           Arlin     Dearle    Male   \n",
       "3            4          Talbot        NaN    Male   \n",
       "4            5  Sheila-kathryn     Calton  Female   \n",
       "\n",
       "   past_3_years_bike_related_purchases         DOB               job_title  \\\n",
       "0                                 93.0  1953-10-12     Executive Secretary   \n",
       "1                                 81.0  1980-12-16  Administrative Officer   \n",
       "2                                 61.0  1954-01-20      Recruiting Manager   \n",
       "3                                 33.0  1961-10-03                     NaN   \n",
       "4                                 56.0  1977-05-13           Senior Editor   \n",
       "\n",
       "  job_industry_category     wealth_segment deceased_indicator  \\\n",
       "0                Health      Mass Customer                  N   \n",
       "1    Financial Services      Mass Customer                  N   \n",
       "2              Property      Mass Customer                  N   \n",
       "3                    IT      Mass Customer                  N   \n",
       "4                   NaN  Affluent Customer                  N   \n",
       "\n",
       "                                             default owns_car  tenure  \\\n",
       "0                                                 \"'      Yes    11.0   \n",
       "1                       <script>alert('hi')</script>      Yes    16.0   \n",
       "2                                              1-Feb      Yes    15.0   \n",
       "3  () { _; } >_[$($())] { touch /tmp/blns.shellsh...       No     7.0   \n",
       "4                                                NIL      Yes     8.0   \n",
       "\n",
       "               address  postcode            state    country  \\\n",
       "0   060 Morning Avenue    2016.0  New South Wales  Australia   \n",
       "1  6 Meadow Vale Court    2153.0  New South Wales  Australia   \n",
       "2                  NaN       NaN              NaN        NaN   \n",
       "3   0 Holy Cross Court    4211.0              QLD  Australia   \n",
       "4  17979 Del Mar Point    2448.0  New South Wales  Australia   \n",
       "\n",
       "   property_valuation  \n",
       "0                10.0  \n",
       "1                10.0  \n",
       "2                 NaN  \n",
       "3                 9.0  \n",
       "4                 4.0  "
      ]
     },
     "execution_count": 48,
     "metadata": {},
     "output_type": "execute_result"
    }
   ],
   "source": [
    "R_D.head()"
   ]
  },
  {
   "cell_type": "code",
   "execution_count": 49,
   "id": "08c09037-79f0-420d-a6a4-e3bf5b0b88eb",
   "metadata": {},
   "outputs": [],
   "source": [
    "R_D.drop(columns=['default','country','postcode','address'],inplace=True)"
   ]
  },
  {
   "cell_type": "code",
   "execution_count": 50,
   "id": "e18b4e30-f0a3-41ee-9826-1ccb1fbab420",
   "metadata": {},
   "outputs": [
    {
     "data": {
      "text/plain": [
       "['F', 'Male', 'Female', 'U', 'Femal', 'M', nan]"
      ]
     },
     "execution_count": 50,
     "metadata": {},
     "output_type": "execute_result"
    }
   ],
   "source": [
    "R_D['gender'].unique().tolist()"
   ]
  },
  {
   "cell_type": "code",
   "execution_count": 51,
   "id": "7de493da-a1c1-4c62-9f2a-7e343b7da57d",
   "metadata": {},
   "outputs": [],
   "source": [
    "R_D['gender'].replace({\"Male\":\"M\", 'Female':'F', \"Femal\":\"F\", \"U\":\"F\" },inplace=True)"
   ]
  },
  {
   "cell_type": "code",
   "execution_count": 52,
   "id": "33e96f1c-dfa9-404e-8d7a-d5e0e319cea5",
   "metadata": {},
   "outputs": [
    {
     "data": {
      "text/plain": [
       "3"
      ]
     },
     "execution_count": 52,
     "metadata": {},
     "output_type": "execute_result"
    }
   ],
   "source": [
    "R_D['gender'].isnull().sum()"
   ]
  },
  {
   "cell_type": "code",
   "execution_count": 53,
   "id": "f12e467b-4571-42c6-bb5b-0408079f882e",
   "metadata": {},
   "outputs": [],
   "source": [
    "R_D['gender'].fillna('F',inplace=True)"
   ]
  },
  {
   "cell_type": "code",
   "execution_count": 54,
   "id": "b1023e13-3f28-4142-8a36-832e5fd46556",
   "metadata": {},
   "outputs": [
    {
     "data": {
      "text/plain": [
       "gender\n",
       "F    2130\n",
       "M    1873\n",
       "Name: count, dtype: int64"
      ]
     },
     "execution_count": 54,
     "metadata": {},
     "output_type": "execute_result"
    }
   ],
   "source": [
    "R_D['gender'].value_counts()"
   ]
  },
  {
   "cell_type": "code",
   "execution_count": 55,
   "id": "ba644bcf-21c1-43cd-9e39-5cac54bbf7e7",
   "metadata": {},
   "outputs": [],
   "source": [
    "R_D['job_title'].fillna(\"Others\",inplace=True)"
   ]
  },
  {
   "cell_type": "code",
   "execution_count": 56,
   "id": "94f5b24d-e492-46b9-a986-cf2463a0ef0b",
   "metadata": {},
   "outputs": [],
   "source": [
    "R_D['job_industry_category'].fillna(\"Others\",inplace=True)"
   ]
  },
  {
   "cell_type": "code",
   "execution_count": 57,
   "id": "f8ec4895-eb1a-4b24-8276-c104143983b1",
   "metadata": {},
   "outputs": [],
   "source": [
    "R_D['first_name'].fillna(\"NA\",inplace=True)              "
   ]
  },
  {
   "cell_type": "code",
   "execution_count": 58,
   "id": "b76f704c-64cb-484a-bb7b-2dc05d91ecf9",
   "metadata": {},
   "outputs": [],
   "source": [
    "R_D['last_name'].fillna(\"NA\",inplace=True)"
   ]
  },
  {
   "cell_type": "code",
   "execution_count": 59,
   "id": "c2340429-2b8a-49c5-8a17-04bfabbfb9b0",
   "metadata": {},
   "outputs": [],
   "source": [
    "R_D.dropna(inplace=True)"
   ]
  },
  {
   "cell_type": "code",
   "execution_count": 60,
   "id": "a6cb9a5a-aaf2-409e-beab-cf5e288b9765",
   "metadata": {},
   "outputs": [
    {
     "data": {
      "text/plain": [
       "customer_id                            0\n",
       "first_name                             0\n",
       "last_name                              0\n",
       "gender                                 0\n",
       "past_3_years_bike_related_purchases    0\n",
       "DOB                                    0\n",
       "job_title                              0\n",
       "job_industry_category                  0\n",
       "wealth_segment                         0\n",
       "deceased_indicator                     0\n",
       "owns_car                               0\n",
       "tenure                                 0\n",
       "state                                  0\n",
       "property_valuation                     0\n",
       "dtype: int64"
      ]
     },
     "execution_count": 60,
     "metadata": {},
     "output_type": "execute_result"
    }
   ],
   "source": [
    "R_D.isnull().sum()"
   ]
  },
  {
   "cell_type": "code",
   "execution_count": 61,
   "id": "846d49a7-3024-4a9d-beb6-9903913d73b8",
   "metadata": {},
   "outputs": [],
   "source": [
    "R_D['DOB'] = pd.to_datetime(R_D['DOB'], errors='coerce')  #converting DOB to Age\n",
    "#chatgpt\n",
    "today = pd.Timestamp.today()\n",
    "R_D['Age'] = (today - R_D['DOB']).dt.days // 365"
   ]
  },
  {
   "cell_type": "code",
   "execution_count": 62,
   "id": "e1a7e8ed-e8d6-4634-9a3d-6f4a603bcc75",
   "metadata": {},
   "outputs": [
    {
     "data": {
      "text/plain": [
       "<Axes: ylabel='past_3_years_bike_related_purchases'>"
      ]
     },
     "execution_count": 62,
     "metadata": {},
     "output_type": "execute_result"
    },
    {
     "data": {
      "image/png": "[encoded data removed]",
      "text/plain": [
       "<Figure size 640x480 with 1 Axes>"
      ]
     },
     "metadata": {},
     "output_type": "display_data"
    }
   ],
   "source": [
    "sns.boxplot(R_D['past_3_years_bike_related_purchases'])"
   ]
  },
  {
   "cell_type": "code",
   "execution_count": 63,
   "id": "6dcfa323-ce11-4084-a07e-ed351e4ed94f",
   "metadata": {},
   "outputs": [
    {
     "data": {
      "text/plain": [
       "<Axes: ylabel='tenure'>"
      ]
     },
     "execution_count": 63,
     "metadata": {},
     "output_type": "execute_result"
    },
    {
     "data": {
      "image/png": "[encoded data removed]",
      "text/plain": [
       "<Figure size 640x480 with 1 Axes>"
      ]
     },
     "metadata": {},
     "output_type": "display_data"
    }
   ],
   "source": [
    "sns.boxplot(R_D['tenure'])"
   ]
  },
  {
   "cell_type": "code",
   "execution_count": 64,
   "id": "9291bc95-38c8-411f-bcd9-c608473d87e7",
   "metadata": {},
   "outputs": [
    {
     "data": {
      "text/plain": [
       "<Axes: ylabel='Age'>"
      ]
     },
     "execution_count": 64,
     "metadata": {},
     "output_type": "execute_result"
    },
    {
     "data": {
      "image/png": "[encoded data removed]",
      "text/plain": [
       "<Figure size 640x480 with 1 Axes>"
      ]
     },
     "metadata": {},
     "output_type": "display_data"
    }
   ],
   "source": [
    "sns.boxplot(R_D['Age'])"
   ]
  },
  {
   "cell_type": "code",
   "execution_count": 65,
   "id": "18b75b2b-0266-4e34-b527-8ef51bbe3b73",
   "metadata": {},
   "outputs": [],
   "source": [
    "iqr=R_D['Age'].quantile(0.75)-R_D['Age'].quantile(0.25)\n",
    "ul=R_D['Age'].quantile(0.75)+(1.5*iqr)\n",
    "ll=R_D['Age'].quantile(0.25)-(1.5*iqr)"
   ]
  },
  {
   "cell_type": "code",
   "execution_count": 66,
   "id": "03527e29-5cde-4140-afd1-1409f778dc2a",
   "metadata": {},
   "outputs": [
    {
     "data": {
      "text/plain": [
       "85.5"
      ]
     },
     "execution_count": 66,
     "metadata": {},
     "output_type": "execute_result"
    }
   ],
   "source": [
    "ul"
   ]
  },
  {
   "cell_type": "code",
   "execution_count": 67,
   "id": "d071a923-be0c-451f-8aad-9ab10eafa0cf",
   "metadata": {},
   "outputs": [
    {
     "data": {
      "text/html": [
       "<div>\n",
       "<style scoped>\n",
       "    .dataframe tbody tr th:only-of-type {\n",
       "        vertical-align: middle;\n",
       "    }\n",
       "\n",
       "    .dataframe tbody tr th {\n",
       "        vertical-align: top;\n",
       "    }\n",
       "\n",
       "    .dataframe thead th {\n",
       "        text-align: right;\n",
       "    }\n",
       "</style>\n",
       "<table border=\"1\" class=\"dataframe\">\n",
       "  <thead>\n",
       "    <tr style=\"text-align: right;\">\n",
       "      <th></th>\n",
       "      <th>customer_id</th>\n",
       "      <th>first_name</th>\n",
       "      <th>last_name</th>\n",
       "      <th>gender</th>\n",
       "      <th>past_3_years_bike_related_purchases</th>\n",
       "      <th>DOB</th>\n",
       "      <th>job_title</th>\n",
       "      <th>job_industry_category</th>\n",
       "      <th>wealth_segment</th>\n",
       "      <th>deceased_indicator</th>\n",
       "      <th>owns_car</th>\n",
       "      <th>tenure</th>\n",
       "      <th>state</th>\n",
       "      <th>property_valuation</th>\n",
       "      <th>Age</th>\n",
       "    </tr>\n",
       "  </thead>\n",
       "  <tbody>\n",
       "    <tr>\n",
       "      <th>33</th>\n",
       "      <td>34</td>\n",
       "      <td>Jephthah</td>\n",
       "      <td>Bachmann</td>\n",
       "      <td>F</td>\n",
       "      <td>59.0</td>\n",
       "      <td>1843-12-21</td>\n",
       "      <td>Legal Assistant</td>\n",
       "      <td>IT</td>\n",
       "      <td>Affluent Customer</td>\n",
       "      <td>N</td>\n",
       "      <td>No</td>\n",
       "      <td>20.0</td>\n",
       "      <td>QLD</td>\n",
       "      <td>8.0</td>\n",
       "      <td>181</td>\n",
       "    </tr>\n",
       "    <tr>\n",
       "      <th>719</th>\n",
       "      <td>720</td>\n",
       "      <td>Darrel</td>\n",
       "      <td>Canet</td>\n",
       "      <td>M</td>\n",
       "      <td>67.0</td>\n",
       "      <td>1931-10-23</td>\n",
       "      <td>Recruiting Manager</td>\n",
       "      <td>Retail</td>\n",
       "      <td>Affluent Customer</td>\n",
       "      <td>N</td>\n",
       "      <td>No</td>\n",
       "      <td>6.0</td>\n",
       "      <td>NSW</td>\n",
       "      <td>10.0</td>\n",
       "      <td>93</td>\n",
       "    </tr>\n",
       "    <tr>\n",
       "      <th>1091</th>\n",
       "      <td>1092</td>\n",
       "      <td>Katlin</td>\n",
       "      <td>Creddon</td>\n",
       "      <td>F</td>\n",
       "      <td>56.0</td>\n",
       "      <td>1935-08-22</td>\n",
       "      <td>VP Quality Control</td>\n",
       "      <td>Retail</td>\n",
       "      <td>Mass Customer</td>\n",
       "      <td>N</td>\n",
       "      <td>No</td>\n",
       "      <td>5.0</td>\n",
       "      <td>VIC</td>\n",
       "      <td>3.0</td>\n",
       "      <td>89</td>\n",
       "    </tr>\n",
       "  </tbody>\n",
       "</table>\n",
       "</div>"
      ],
      "text/plain": [
       "      customer_id first_name last_name gender  \\\n",
       "33             34   Jephthah  Bachmann      F   \n",
       "719           720     Darrel     Canet      M   \n",
       "1091         1092     Katlin   Creddon      F   \n",
       "\n",
       "      past_3_years_bike_related_purchases        DOB           job_title  \\\n",
       "33                                   59.0 1843-12-21     Legal Assistant   \n",
       "719                                  67.0 1931-10-23  Recruiting Manager   \n",
       "1091                                 56.0 1935-08-22  VP Quality Control   \n",
       "\n",
       "     job_industry_category     wealth_segment deceased_indicator owns_car  \\\n",
       "33                      IT  Affluent Customer                  N       No   \n",
       "719                 Retail  Affluent Customer                  N       No   \n",
       "1091                Retail      Mass Customer                  N       No   \n",
       "\n",
       "      tenure state  property_valuation  Age  \n",
       "33      20.0   QLD                 8.0  181  \n",
       "719      6.0   NSW                10.0   93  \n",
       "1091     5.0   VIC                 3.0   89  "
      ]
     },
     "execution_count": 67,
     "metadata": {},
     "output_type": "execute_result"
    }
   ],
   "source": [
    "R_D[R_D['Age']>ul]"
   ]
  },
  {
   "cell_type": "code",
   "execution_count": 68,
   "id": "fc328f73-e2d7-4716-8ec4-95de917756fb",
   "metadata": {},
   "outputs": [
    {
     "data": {
      "text/html": [
       "<div>\n",
       "<style scoped>\n",
       "    .dataframe tbody tr th:only-of-type {\n",
       "        vertical-align: middle;\n",
       "    }\n",
       "\n",
       "    .dataframe tbody tr th {\n",
       "        vertical-align: top;\n",
       "    }\n",
       "\n",
       "    .dataframe thead th {\n",
       "        text-align: right;\n",
       "    }\n",
       "</style>\n",
       "<table border=\"1\" class=\"dataframe\">\n",
       "  <thead>\n",
       "    <tr style=\"text-align: right;\">\n",
       "      <th></th>\n",
       "      <th>customer_id</th>\n",
       "      <th>first_name</th>\n",
       "      <th>last_name</th>\n",
       "      <th>gender</th>\n",
       "      <th>past_3_years_bike_related_purchases</th>\n",
       "      <th>DOB</th>\n",
       "      <th>job_title</th>\n",
       "      <th>job_industry_category</th>\n",
       "      <th>wealth_segment</th>\n",
       "      <th>deceased_indicator</th>\n",
       "      <th>owns_car</th>\n",
       "      <th>tenure</th>\n",
       "      <th>state</th>\n",
       "      <th>property_valuation</th>\n",
       "      <th>Age</th>\n",
       "    </tr>\n",
       "  </thead>\n",
       "  <tbody>\n",
       "    <tr>\n",
       "      <th>752</th>\n",
       "      <td>753</td>\n",
       "      <td>Josy</td>\n",
       "      <td>St. Quentin</td>\n",
       "      <td>F</td>\n",
       "      <td>82.0</td>\n",
       "      <td>1970-03-07</td>\n",
       "      <td>Food Chemist</td>\n",
       "      <td>Health</td>\n",
       "      <td>Affluent Customer</td>\n",
       "      <td>Y</td>\n",
       "      <td>Yes</td>\n",
       "      <td>6.0</td>\n",
       "      <td>NSW</td>\n",
       "      <td>3.0</td>\n",
       "      <td>55</td>\n",
       "    </tr>\n",
       "    <tr>\n",
       "      <th>3789</th>\n",
       "      <td>3790</td>\n",
       "      <td>Kurtis</td>\n",
       "      <td>Morson</td>\n",
       "      <td>M</td>\n",
       "      <td>91.0</td>\n",
       "      <td>1959-05-31</td>\n",
       "      <td>Senior Editor</td>\n",
       "      <td>Retail</td>\n",
       "      <td>Mass Customer</td>\n",
       "      <td>Y</td>\n",
       "      <td>Yes</td>\n",
       "      <td>9.0</td>\n",
       "      <td>VIC</td>\n",
       "      <td>3.0</td>\n",
       "      <td>66</td>\n",
       "    </tr>\n",
       "  </tbody>\n",
       "</table>\n",
       "</div>"
      ],
      "text/plain": [
       "      customer_id first_name    last_name gender  \\\n",
       "752           753       Josy  St. Quentin      F   \n",
       "3789         3790     Kurtis       Morson      M   \n",
       "\n",
       "      past_3_years_bike_related_purchases        DOB      job_title  \\\n",
       "752                                  82.0 1970-03-07   Food Chemist   \n",
       "3789                                 91.0 1959-05-31  Senior Editor   \n",
       "\n",
       "     job_industry_category     wealth_segment deceased_indicator owns_car  \\\n",
       "752                 Health  Affluent Customer                  Y      Yes   \n",
       "3789                Retail      Mass Customer                  Y      Yes   \n",
       "\n",
       "      tenure state  property_valuation  Age  \n",
       "752      6.0   NSW                 3.0   55  \n",
       "3789     9.0   VIC                 3.0   66  "
      ]
     },
     "execution_count": 68,
     "metadata": {},
     "output_type": "execute_result"
    }
   ],
   "source": [
    "R_D[R_D[\"deceased_indicator\"]=='Y']"
   ]
  },
  {
   "cell_type": "code",
   "execution_count": 69,
   "id": "6ed4b910-af06-4217-8f88-c521c65140f9",
   "metadata": {},
   "outputs": [],
   "source": [
    "R_D = R_D.drop(index=[33,752,3789])"
   ]
  },
  {
   "cell_type": "code",
   "execution_count": 70,
   "id": "78d02c4b-e539-42bf-95a0-919cc3d80ff5",
   "metadata": {},
   "outputs": [],
   "source": [
    "R_D=R_D.drop(columns=[\"DOB\",'deceased_indicator'])"
   ]
  },
  {
   "cell_type": "markdown",
   "id": "dd15ce9d-3a58-4b9a-be2b-e242ef8ffb7b",
   "metadata": {},
   "source": [
    "# Exploring and cleaning NEWCOSTUMER Dataset"
   ]
  },
  {
   "cell_type": "code",
   "execution_count": 72,
   "id": "2d5a795a-0ccf-418a-8b9c-99176a30dafe",
   "metadata": {},
   "outputs": [],
   "source": [
    "N_C=pd.read_csv('KPMG_VI_New_raw_data_update_final - NewCustomerList.csv')"
   ]
  },
  {
   "cell_type": "code",
   "execution_count": 73,
   "id": "c92cb72c-d118-4f60-9e21-bfb1c30111ed",
   "metadata": {},
   "outputs": [
    {
     "data": {
      "text/plain": [
       "(1000, 23)"
      ]
     },
     "execution_count": 73,
     "metadata": {},
     "output_type": "execute_result"
    }
   ],
   "source": [
    "N_C.shape"
   ]
  },
  {
   "cell_type": "code",
   "execution_count": 74,
   "id": "ad291fec-0e14-42cf-ac74-2c83e1f19c93",
   "metadata": {},
   "outputs": [
    {
     "name": "stdout",
     "output_type": "stream",
     "text": [
      "<class 'pandas.core.frame.DataFrame'>\n",
      "RangeIndex: 1000 entries, 0 to 999\n",
      "Data columns (total 23 columns):\n",
      " #   Column                               Non-Null Count  Dtype  \n",
      "---  ------                               --------------  -----  \n",
      " 0   first_name                           1000 non-null   object \n",
      " 1   last_name                            971 non-null    object \n",
      " 2   gender                               1000 non-null   object \n",
      " 3   past_3_years_bike_related_purchases  1000 non-null   int64  \n",
      " 4   DOB                                  983 non-null    object \n",
      " 5   job_title                            894 non-null    object \n",
      " 6   job_industry_category                835 non-null    object \n",
      " 7   wealth_segment                       1000 non-null   object \n",
      " 8   deceased_indicator                   1000 non-null   object \n",
      " 9   owns_car                             1000 non-null   object \n",
      " 10  tenure                               1000 non-null   int64  \n",
      " 11  address                              1000 non-null   object \n",
      " 12  postcode                             1000 non-null   int64  \n",
      " 13  state                                1000 non-null   object \n",
      " 14  country                              1000 non-null   object \n",
      " 15  property_valuation                   1000 non-null   float64\n",
      " 16  Unnamed: 16                          1000 non-null   float64\n",
      " 17  Unnamed: 17                          1000 non-null   float64\n",
      " 18  Unnamed: 18                          1000 non-null   float64\n",
      " 19  Unnamed: 19                          1000 non-null   float64\n",
      " 20  Unnamed: 20                          1000 non-null   int64  \n",
      " 21  Rank                                 1000 non-null   int64  \n",
      " 22  Value                                1000 non-null   float64\n",
      "dtypes: float64(6), int64(5), object(12)\n",
      "memory usage: 179.8+ KB\n"
     ]
    }
   ],
   "source": [
    "N_C.info()"
   ]
  },
  {
   "cell_type": "code",
   "execution_count": 75,
   "id": "1b5e1336-e62b-483e-9f47-73138ab5368e",
   "metadata": {},
   "outputs": [
    {
     "data": {
      "text/plain": [
       "940"
      ]
     },
     "execution_count": 75,
     "metadata": {},
     "output_type": "execute_result"
    }
   ],
   "source": [
    "N_C[\"first_name\"].nunique()"
   ]
  },
  {
   "cell_type": "code",
   "execution_count": 76,
   "id": "dfe0c139-5153-43f2-9a97-8dbbf912f200",
   "metadata": {},
   "outputs": [
    {
     "data": {
      "text/plain": [
       "961"
      ]
     },
     "execution_count": 76,
     "metadata": {},
     "output_type": "execute_result"
    }
   ],
   "source": [
    "N_C[\"last_name\"].nunique()"
   ]
  },
  {
   "cell_type": "code",
   "execution_count": 77,
   "id": "2bb547d3-11db-4218-8300-6dfa61d86cde",
   "metadata": {},
   "outputs": [
    {
     "data": {
      "text/plain": [
       "gender\n",
       "Female    513\n",
       "Male      470\n",
       "U          17\n",
       "Name: count, dtype: int64"
      ]
     },
     "execution_count": 77,
     "metadata": {},
     "output_type": "execute_result"
    }
   ],
   "source": [
    "N_C[\"gender\"].value_counts()"
   ]
  },
  {
   "cell_type": "code",
   "execution_count": 78,
   "id": "5656410e-e429-425f-927a-f1d001163084",
   "metadata": {},
   "outputs": [
    {
     "data": {
      "text/plain": [
       "100"
      ]
     },
     "execution_count": 78,
     "metadata": {},
     "output_type": "execute_result"
    }
   ],
   "source": [
    "N_C[\"past_3_years_bike_related_purchases\"].nunique()"
   ]
  },
  {
   "cell_type": "code",
   "execution_count": 79,
   "id": "0154165d-9ad9-4464-a4e5-1122274bfd54",
   "metadata": {},
   "outputs": [
    {
     "data": {
      "text/plain": [
       "958"
      ]
     },
     "execution_count": 79,
     "metadata": {},
     "output_type": "execute_result"
    }
   ],
   "source": [
    "N_C[\"DOB\"].nunique()"
   ]
  },
  {
   "cell_type": "code",
   "execution_count": 80,
   "id": "bd502ae3-7832-49f1-93ae-962ba574a97c",
   "metadata": {},
   "outputs": [
    {
     "data": {
      "text/plain": [
       "184"
      ]
     },
     "execution_count": 80,
     "metadata": {},
     "output_type": "execute_result"
    }
   ],
   "source": [
    "N_C[\"job_title\"].nunique()"
   ]
  },
  {
   "cell_type": "code",
   "execution_count": 81,
   "id": "e9cd2aee-6e97-48e5-adfd-38e3cc6bd1b5",
   "metadata": {},
   "outputs": [
    {
     "data": {
      "text/plain": [
       "job_industry_category\n",
       "Financial Services    203\n",
       "Manufacturing         199\n",
       "Health                152\n",
       "Retail                 78\n",
       "Property               64\n",
       "IT                     51\n",
       "Entertainment          37\n",
       "Argiculture            26\n",
       "Telecommunications     25\n",
       "Name: count, dtype: int64"
      ]
     },
     "execution_count": 81,
     "metadata": {},
     "output_type": "execute_result"
    }
   ],
   "source": [
    "N_C[\"job_industry_category\"].value_counts()"
   ]
  },
  {
   "cell_type": "code",
   "execution_count": 82,
   "id": "c747157b-a85b-4723-b6c6-adb4ca6be063",
   "metadata": {},
   "outputs": [
    {
     "data": {
      "text/plain": [
       "wealth_segment\n",
       "Mass Customer        508\n",
       "High Net Worth       251\n",
       "Affluent Customer    241\n",
       "Name: count, dtype: int64"
      ]
     },
     "execution_count": 82,
     "metadata": {},
     "output_type": "execute_result"
    }
   ],
   "source": [
    "N_C[\"wealth_segment\"].value_counts()"
   ]
  },
  {
   "cell_type": "code",
   "execution_count": 83,
   "id": "6ba63f71-f1d0-4727-a5f7-137f24957d88",
   "metadata": {},
   "outputs": [
    {
     "data": {
      "text/plain": [
       "1"
      ]
     },
     "execution_count": 83,
     "metadata": {},
     "output_type": "execute_result"
    }
   ],
   "source": [
    "N_C[\"deceased_indicator\"].nunique()"
   ]
  },
  {
   "cell_type": "code",
   "execution_count": 84,
   "id": "e389c007-6c81-4f88-9cd6-08f727f73ea9",
   "metadata": {},
   "outputs": [
    {
     "data": {
      "text/plain": [
       "owns_car\n",
       "No     507\n",
       "Yes    493\n",
       "Name: count, dtype: int64"
      ]
     },
     "execution_count": 84,
     "metadata": {},
     "output_type": "execute_result"
    }
   ],
   "source": [
    "N_C[\"owns_car\"].value_counts()"
   ]
  },
  {
   "cell_type": "code",
   "execution_count": 85,
   "id": "f5f93c12-70fc-46e7-bc17-d0c1fe2c9ec0",
   "metadata": {},
   "outputs": [
    {
     "data": {
      "text/plain": [
       "23"
      ]
     },
     "execution_count": 85,
     "metadata": {},
     "output_type": "execute_result"
    }
   ],
   "source": [
    "N_C[\"tenure\"].nunique()"
   ]
  },
  {
   "cell_type": "code",
   "execution_count": 86,
   "id": "cd1b9f52-6602-4729-8bf2-690d36442f83",
   "metadata": {},
   "outputs": [
    {
     "data": {
      "text/plain": [
       "tenure\n",
       "9     79\n",
       "13    74\n",
       "11    68\n",
       "10    63\n",
       "12    61\n",
       "5     60\n",
       "7     60\n",
       "17    59\n",
       "15    58\n",
       "8     55\n",
       "14    54\n",
       "16    49\n",
       "6     45\n",
       "4     36\n",
       "18    36\n",
       "19    34\n",
       "3     26\n",
       "21    24\n",
       "20    22\n",
       "2     15\n",
       "22    12\n",
       "1      8\n",
       "0      2\n",
       "Name: count, dtype: int64"
      ]
     },
     "execution_count": 86,
     "metadata": {},
     "output_type": "execute_result"
    }
   ],
   "source": [
    "N_C[\"tenure\"].value_counts()"
   ]
  },
  {
   "cell_type": "code",
   "execution_count": 87,
   "id": "0357dcb5-c65c-4f41-a4f8-de9a1136f5ca",
   "metadata": {},
   "outputs": [
    {
     "data": {
      "text/plain": [
       "1000"
      ]
     },
     "execution_count": 87,
     "metadata": {},
     "output_type": "execute_result"
    }
   ],
   "source": [
    "N_C[\"address\"].nunique()"
   ]
  },
  {
   "cell_type": "code",
   "execution_count": 88,
   "id": "1409beba-2c76-49e6-b616-2a435ecfd487",
   "metadata": {},
   "outputs": [
    {
     "data": {
      "text/plain": [
       "522"
      ]
     },
     "execution_count": 88,
     "metadata": {},
     "output_type": "execute_result"
    }
   ],
   "source": [
    "N_C[\"postcode\"].nunique()"
   ]
  },
  {
   "cell_type": "code",
   "execution_count": 89,
   "id": "3484e80d-c63b-45e6-8b60-f5f4282c0d3d",
   "metadata": {},
   "outputs": [
    {
     "data": {
      "text/plain": [
       "state\n",
       "NSW    506\n",
       "VIC    266\n",
       "QLD    228\n",
       "Name: count, dtype: int64"
      ]
     },
     "execution_count": 89,
     "metadata": {},
     "output_type": "execute_result"
    }
   ],
   "source": [
    "N_C[\"state\"].value_counts()"
   ]
  },
  {
   "cell_type": "code",
   "execution_count": 90,
   "id": "e81ff7bd-04d5-4fe9-b0a9-fceb81e8b303",
   "metadata": {},
   "outputs": [
    {
     "data": {
      "text/plain": [
       "country\n",
       "Australia    1000\n",
       "Name: count, dtype: int64"
      ]
     },
     "execution_count": 90,
     "metadata": {},
     "output_type": "execute_result"
    }
   ],
   "source": [
    "N_C[\"country\"].value_counts()"
   ]
  },
  {
   "cell_type": "code",
   "execution_count": 91,
   "id": "bc56a275-3498-4535-8261-692913464115",
   "metadata": {},
   "outputs": [
    {
     "data": {
      "text/plain": [
       "property_valuation\n",
       "9.0     173\n",
       "8.0     162\n",
       "7.0     138\n",
       "10.0    116\n",
       "6.0      70\n",
       "11.0     62\n",
       "5.0      57\n",
       "4.0      53\n",
       "3.0      51\n",
       "12.0     46\n",
       "2.0      42\n",
       "1.0      30\n",
       "Name: count, dtype: int64"
      ]
     },
     "execution_count": 91,
     "metadata": {},
     "output_type": "execute_result"
    }
   ],
   "source": [
    "N_C[\"property_valuation\"].value_counts()"
   ]
  },
  {
   "cell_type": "code",
   "execution_count": 92,
   "id": "c7be0c6f-154f-43bc-ba07-b20233fb87c8",
   "metadata": {},
   "outputs": [
    {
     "data": {
      "text/plain": [
       "12"
      ]
     },
     "execution_count": 92,
     "metadata": {},
     "output_type": "execute_result"
    }
   ],
   "source": [
    "N_C[\"property_valuation\"].nunique()"
   ]
  },
  {
   "cell_type": "code",
   "execution_count": 93,
   "id": "501b6cfc-b4ac-45dd-b343-cc761c3b9a0a",
   "metadata": {},
   "outputs": [
    {
     "data": {
      "text/plain": [
       "0"
      ]
     },
     "execution_count": 93,
     "metadata": {},
     "output_type": "execute_result"
    }
   ],
   "source": [
    "N_C.duplicated().sum()#checking duplictes"
   ]
  },
  {
   "cell_type": "code",
   "execution_count": 94,
   "id": "995f7ad2-4d0e-4c7c-83fa-66b60948e6df",
   "metadata": {},
   "outputs": [
    {
     "data": {
      "text/plain": [
       "first_name                               0\n",
       "last_name                               29\n",
       "gender                                   0\n",
       "past_3_years_bike_related_purchases      0\n",
       "DOB                                     17\n",
       "job_title                              106\n",
       "job_industry_category                  165\n",
       "wealth_segment                           0\n",
       "deceased_indicator                       0\n",
       "owns_car                                 0\n",
       "tenure                                   0\n",
       "address                                  0\n",
       "postcode                                 0\n",
       "state                                    0\n",
       "country                                  0\n",
       "property_valuation                       0\n",
       "Unnamed: 16                              0\n",
       "Unnamed: 17                              0\n",
       "Unnamed: 18                              0\n",
       "Unnamed: 19                              0\n",
       "Unnamed: 20                              0\n",
       "Rank                                     0\n",
       "Value                                    0\n",
       "dtype: int64"
      ]
     },
     "execution_count": 94,
     "metadata": {},
     "output_type": "execute_result"
    }
   ],
   "source": [
    "N_C.isnull().sum()"
   ]
  },
  {
   "cell_type": "code",
   "execution_count": 95,
   "id": "1c6aaa55-f26e-439e-9c55-5d1eca9165d6",
   "metadata": {},
   "outputs": [],
   "source": [
    "N_C[\"gender\"].replace({\"U\":\"F\",\"Female\":\"F\",\"Male\":\"M\"},inplace=True)"
   ]
  },
  {
   "cell_type": "code",
   "execution_count": 96,
   "id": "eb450ba1-eeae-4683-b24e-37229249a391",
   "metadata": {},
   "outputs": [
    {
     "data": {
      "text/plain": [
       "gender\n",
       "F    530\n",
       "M    470\n",
       "Name: count, dtype: int64"
      ]
     },
     "execution_count": 96,
     "metadata": {},
     "output_type": "execute_result"
    }
   ],
   "source": [
    "N_C[\"gender\"].value_counts()"
   ]
  },
  {
   "cell_type": "code",
   "execution_count": 97,
   "id": "0249ae95-f48f-4fdb-bcc2-0dc4683d3fec",
   "metadata": {},
   "outputs": [],
   "source": [
    "N_C[\"last_name\"].fillna(\"NA\",inplace=True)"
   ]
  },
  {
   "cell_type": "code",
   "execution_count": 98,
   "id": "141ba9c3-a577-41fb-8279-5666092c555f",
   "metadata": {},
   "outputs": [],
   "source": [
    "N_C[\"job_industry_category\"].fillna(\"Others\",inplace=True)"
   ]
  },
  {
   "cell_type": "code",
   "execution_count": 99,
   "id": "dafcc375-5faf-4640-8605-b83e99e36c95",
   "metadata": {},
   "outputs": [],
   "source": [
    "N_C[\"job_title\"].fillna(\"Others\",inplace=True)"
   ]
  },
  {
   "cell_type": "code",
   "execution_count": 100,
   "id": "50bd8dc0-bef0-4154-a092-906dde9e2474",
   "metadata": {},
   "outputs": [],
   "source": [
    "N_C.dropna(inplace=True)"
   ]
  },
  {
   "cell_type": "code",
   "execution_count": 101,
   "id": "59ab1039-7160-4d92-9a14-5963d167c494",
   "metadata": {},
   "outputs": [],
   "source": [
    "N_C.drop(columns=['Unnamed: 16',\n",
    " 'Unnamed: 17',\n",
    " 'Unnamed: 18',\n",
    " 'Unnamed: 19',\n",
    " 'Unnamed: 20','address', 'postcode', 'country',\n",
    " 'Rank',\n",
    " 'Value'],inplace=True)"
   ]
  },
  {
   "cell_type": "code",
   "execution_count": 102,
   "id": "3e9a68ec-5d5d-4dde-ae5c-4d1b92bd224e",
   "metadata": {},
   "outputs": [],
   "source": [
    "N_C['DOB'] = pd.to_datetime(N_C['DOB'], errors='coerce')\n",
    "#Chatgpt\n",
    "today = pd.Timestamp.today()\n",
    "N_C['Age'] = (today - N_C['DOB']).dt.days // 365"
   ]
  },
  {
   "cell_type": "code",
   "execution_count": 103,
   "id": "cdd3b99a-182e-4a99-b55f-116e6f800ffa",
   "metadata": {},
   "outputs": [],
   "source": [
    "N_C.drop(columns=[\"DOB\"],inplace=True)"
   ]
  },
  {
   "cell_type": "code",
   "execution_count": 104,
   "id": "6236fd8a-b36e-4f61-8e08-807610de35d1",
   "metadata": {},
   "outputs": [
    {
     "data": {
      "text/plain": [
       "first_name                             0\n",
       "last_name                              0\n",
       "gender                                 0\n",
       "past_3_years_bike_related_purchases    0\n",
       "job_title                              0\n",
       "job_industry_category                  0\n",
       "wealth_segment                         0\n",
       "deceased_indicator                     0\n",
       "owns_car                               0\n",
       "tenure                                 0\n",
       "state                                  0\n",
       "property_valuation                     0\n",
       "Age                                    0\n",
       "dtype: int64"
      ]
     },
     "execution_count": 104,
     "metadata": {},
     "output_type": "execute_result"
    }
   ],
   "source": [
    "N_C.isnull().sum()"
   ]
  },
  {
   "cell_type": "code",
   "execution_count": 105,
   "id": "c4829ccc-5dee-49c5-874a-73b6d5b70b09",
   "metadata": {},
   "outputs": [
    {
     "data": {
      "text/plain": [
       "(983, 13)"
      ]
     },
     "execution_count": 105,
     "metadata": {},
     "output_type": "execute_result"
    }
   ],
   "source": [
    "N_C.shape"
   ]
  },
  {
   "cell_type": "markdown",
   "id": "8334d659-229e-498b-b83e-0c76c03989ed",
   "metadata": {},
   "source": [
    "# Transactions Data Cleaning and Exploraton"
   ]
  },
  {
   "cell_type": "code",
   "execution_count": 107,
   "id": "823663d5-e37a-42b0-ba12-cd8cfdc413c4",
   "metadata": {},
   "outputs": [],
   "source": [
    "T=pd.read_csv('KPMG_VI_New_raw_data_update_final - Transactions.csv')"
   ]
  },
  {
   "cell_type": "code",
   "execution_count": 108,
   "id": "64c19cd1-2a5f-415d-ace7-0015bfd8fc10",
   "metadata": {},
   "outputs": [
    {
     "data": {
      "text/plain": [
       "(20000, 13)"
      ]
     },
     "execution_count": 108,
     "metadata": {},
     "output_type": "execute_result"
    }
   ],
   "source": [
    "T.shape"
   ]
  },
  {
   "cell_type": "code",
   "execution_count": 109,
   "id": "68f89a55-4c18-4024-b6bc-d41d29e29754",
   "metadata": {},
   "outputs": [
    {
     "name": "stdout",
     "output_type": "stream",
     "text": [
      "<class 'pandas.core.frame.DataFrame'>\n",
      "RangeIndex: 20000 entries, 0 to 19999\n",
      "Data columns (total 13 columns):\n",
      " #   Column                   Non-Null Count  Dtype  \n",
      "---  ------                   --------------  -----  \n",
      " 0   transaction_id           20000 non-null  int64  \n",
      " 1   product_id               20000 non-null  int64  \n",
      " 2   customer_id              20000 non-null  int64  \n",
      " 3   transaction_date         20000 non-null  object \n",
      " 4   online_order             19640 non-null  object \n",
      " 5   order_status             20000 non-null  object \n",
      " 6   brand                    19803 non-null  object \n",
      " 7   product_line             19803 non-null  object \n",
      " 8   product_class            19803 non-null  object \n",
      " 9   product_size             19803 non-null  object \n",
      " 10  list_price               20000 non-null  float64\n",
      " 11  standard_cost            19803 non-null  object \n",
      " 12  product_first_sold_date  19803 non-null  float64\n",
      "dtypes: float64(2), int64(3), object(8)\n",
      "memory usage: 2.0+ MB\n"
     ]
    }
   ],
   "source": [
    "T.info()"
   ]
  },
  {
   "cell_type": "code",
   "execution_count": 110,
   "id": "de6a105e-2217-4989-ac0b-04f2fe300d9c",
   "metadata": {},
   "outputs": [
    {
     "data": {
      "text/plain": [
       "20000"
      ]
     },
     "execution_count": 110,
     "metadata": {},
     "output_type": "execute_result"
    }
   ],
   "source": [
    "T['transaction_id'].nunique()"
   ]
  },
  {
   "cell_type": "code",
   "execution_count": 111,
   "id": "513120bc-9793-47eb-8170-55eaa1f4fd63",
   "metadata": {},
   "outputs": [
    {
     "data": {
      "text/plain": [
       "array([  0,   2,  69,  74,  33,  22,  40,  32,  44,  62,   1,  57,  36,\n",
       "        67,  50,  91,  83,  12,  99,  98,  18,  78,  73,  29,   5,  16,\n",
       "        25,   4,  82,  41,  38,  76,   9,  79,  37,  11,  80,  97,  48,\n",
       "        35,  15,  20,  85,  42,  66,  63,  94,  89,  70,  92,  72,  86,\n",
       "        23,  14,  64,  53, 100,  24,  96,  10,  59,  90,  84,  54,  47,\n",
       "        27,  65,  60,  55,  31,  93,   6,  58,  49,   3,  26,  43,  51,\n",
       "         8,  71,  34,  52,  61,  45,  19,  30,  21,  39,  28,  88,  95,\n",
       "        46,  68,  81,  77,  56,  13,  17,   7,  75,  87], dtype=int64)"
      ]
     },
     "execution_count": 111,
     "metadata": {},
     "output_type": "execute_result"
    }
   ],
   "source": [
    "T['product_id'].unique()"
   ]
  },
  {
   "cell_type": "code",
   "execution_count": 112,
   "id": "09a9f8a2-36c5-41aa-be04-6f435a11a4b4",
   "metadata": {},
   "outputs": [
    {
     "data": {
      "text/plain": [
       "101"
      ]
     },
     "execution_count": 112,
     "metadata": {},
     "output_type": "execute_result"
    }
   ],
   "source": [
    "T['product_id'].nunique()"
   ]
  },
  {
   "cell_type": "code",
   "execution_count": 113,
   "id": "c583d2ce-2ba8-4287-8752-165de218151d",
   "metadata": {},
   "outputs": [
    {
     "data": {
      "text/plain": [
       "3494"
      ]
     },
     "execution_count": 113,
     "metadata": {},
     "output_type": "execute_result"
    }
   ],
   "source": [
    "T['customer_id'].nunique()"
   ]
  },
  {
   "cell_type": "code",
   "execution_count": 114,
   "id": "b09bb2f2-6221-4ed8-a116-2d53cc0fd782",
   "metadata": {},
   "outputs": [
    {
     "data": {
      "text/html": [
       "<div>\n",
       "<style scoped>\n",
       "    .dataframe tbody tr th:only-of-type {\n",
       "        vertical-align: middle;\n",
       "    }\n",
       "\n",
       "    .dataframe tbody tr th {\n",
       "        vertical-align: top;\n",
       "    }\n",
       "\n",
       "    .dataframe thead th {\n",
       "        text-align: right;\n",
       "    }\n",
       "</style>\n",
       "<table border=\"1\" class=\"dataframe\">\n",
       "  <thead>\n",
       "    <tr style=\"text-align: right;\">\n",
       "      <th></th>\n",
       "      <th>transaction_id</th>\n",
       "      <th>product_id</th>\n",
       "      <th>customer_id</th>\n",
       "      <th>transaction_date</th>\n",
       "      <th>online_order</th>\n",
       "      <th>order_status</th>\n",
       "      <th>brand</th>\n",
       "      <th>product_line</th>\n",
       "      <th>product_class</th>\n",
       "      <th>product_size</th>\n",
       "      <th>list_price</th>\n",
       "      <th>standard_cost</th>\n",
       "      <th>product_first_sold_date</th>\n",
       "    </tr>\n",
       "  </thead>\n",
       "  <tbody>\n",
       "    <tr>\n",
       "      <th>1</th>\n",
       "      <td>16701</td>\n",
       "      <td>0</td>\n",
       "      <td>5034</td>\n",
       "      <td>27/1/2017</td>\n",
       "      <td>False</td>\n",
       "      <td>Approved</td>\n",
       "      <td>Norco Bicycles</td>\n",
       "      <td>Standard</td>\n",
       "      <td>medium</td>\n",
       "      <td>medium</td>\n",
       "      <td>360.40</td>\n",
       "      <td>270.2999878</td>\n",
       "      <td>35667.0</td>\n",
       "    </tr>\n",
       "    <tr>\n",
       "      <th>2</th>\n",
       "      <td>17469</td>\n",
       "      <td>0</td>\n",
       "      <td>5034</td>\n",
       "      <td>3/1/2017</td>\n",
       "      <td>False</td>\n",
       "      <td>Approved</td>\n",
       "      <td>OHM Cycles</td>\n",
       "      <td>Road</td>\n",
       "      <td>medium</td>\n",
       "      <td>medium</td>\n",
       "      <td>742.54</td>\n",
       "      <td>667.4000244</td>\n",
       "      <td>33879.0</td>\n",
       "    </tr>\n",
       "  </tbody>\n",
       "</table>\n",
       "</div>"
      ],
      "text/plain": [
       "   transaction_id  product_id  customer_id transaction_date online_order  \\\n",
       "1           16701           0         5034        27/1/2017        False   \n",
       "2           17469           0         5034         3/1/2017        False   \n",
       "\n",
       "  order_status           brand product_line product_class product_size  \\\n",
       "1     Approved  Norco Bicycles     Standard        medium       medium   \n",
       "2     Approved      OHM Cycles         Road        medium       medium   \n",
       "\n",
       "   list_price standard_cost  product_first_sold_date  \n",
       "1      360.40   270.2999878                  35667.0  \n",
       "2      742.54   667.4000244                  33879.0  "
      ]
     },
     "execution_count": 114,
     "metadata": {},
     "output_type": "execute_result"
    }
   ],
   "source": [
    "T[T['customer_id']>4000]"
   ]
  },
  {
   "cell_type": "code",
   "execution_count": 115,
   "id": "6126bdbd-2d13-4986-a906-84a1da788f20",
   "metadata": {},
   "outputs": [
    {
     "data": {
      "text/plain": [
       "364"
      ]
     },
     "execution_count": 115,
     "metadata": {},
     "output_type": "execute_result"
    }
   ],
   "source": [
    "T['transaction_date'].nunique()"
   ]
  },
  {
   "cell_type": "code",
   "execution_count": 116,
   "id": "2811d9fb-c091-4987-869d-32d2a42dc2e2",
   "metadata": {},
   "outputs": [
    {
     "data": {
      "text/plain": [
       "online_order\n",
       "True     9829\n",
       "False    9811\n",
       "Name: count, dtype: int64"
      ]
     },
     "execution_count": 116,
     "metadata": {},
     "output_type": "execute_result"
    }
   ],
   "source": [
    "T['online_order'].value_counts()"
   ]
  },
  {
   "cell_type": "code",
   "execution_count": 117,
   "id": "0722328d-47e6-4dda-a35b-253e14196e90",
   "metadata": {},
   "outputs": [
    {
     "data": {
      "text/plain": [
       "order_status\n",
       "Approved     19821\n",
       "Cancelled      179\n",
       "Name: count, dtype: int64"
      ]
     },
     "execution_count": 117,
     "metadata": {},
     "output_type": "execute_result"
    }
   ],
   "source": [
    "T['order_status'].value_counts()"
   ]
  },
  {
   "cell_type": "code",
   "execution_count": 118,
   "id": "58e3728f-9ae9-4d1e-9104-a08d09b3365b",
   "metadata": {},
   "outputs": [
    {
     "data": {
      "text/plain": [
       "brand\n",
       "Solex             4253\n",
       "Giant Bicycles    3312\n",
       "WeareA2B          3295\n",
       "OHM Cycles        3043\n",
       "Trek Bicycles     2990\n",
       "Norco Bicycles    2910\n",
       "Name: count, dtype: int64"
      ]
     },
     "execution_count": 118,
     "metadata": {},
     "output_type": "execute_result"
    }
   ],
   "source": [
    "T['brand'].value_counts()"
   ]
  },
  {
   "cell_type": "code",
   "execution_count": 119,
   "id": "376dcbf2-9582-4835-a791-aada647b5b1a",
   "metadata": {},
   "outputs": [
    {
     "data": {
      "text/plain": [
       "product_line\n",
       "Standard    14176\n",
       "Road         3970\n",
       "Touring      1234\n",
       "Mountain      423\n",
       "Name: count, dtype: int64"
      ]
     },
     "execution_count": 119,
     "metadata": {},
     "output_type": "execute_result"
    }
   ],
   "source": [
    "T['product_line'].value_counts()"
   ]
  },
  {
   "cell_type": "code",
   "execution_count": 120,
   "id": "9d9cea20-b3ff-401f-9dd6-2345b4731677",
   "metadata": {},
   "outputs": [
    {
     "data": {
      "text/plain": [
       "product_class\n",
       "medium    13826\n",
       "high       3013\n",
       "low        2964\n",
       "Name: count, dtype: int64"
      ]
     },
     "execution_count": 120,
     "metadata": {},
     "output_type": "execute_result"
    }
   ],
   "source": [
    "T['product_class'].value_counts()"
   ]
  },
  {
   "cell_type": "code",
   "execution_count": 121,
   "id": "fc166866-83ad-4802-8f32-91d82edbfab4",
   "metadata": {},
   "outputs": [
    {
     "data": {
      "text/plain": [
       "product_size\n",
       "medium    12990\n",
       "large      3976\n",
       "small      2837\n",
       "Name: count, dtype: int64"
      ]
     },
     "execution_count": 121,
     "metadata": {},
     "output_type": "execute_result"
    }
   ],
   "source": [
    "T['product_size'].value_counts()"
   ]
  },
  {
   "cell_type": "code",
   "execution_count": 122,
   "id": "290e827b-0669-4081-8dbc-ace043884606",
   "metadata": {},
   "outputs": [
    {
     "data": {
      "text/plain": [
       "296"
      ]
     },
     "execution_count": 122,
     "metadata": {},
     "output_type": "execute_result"
    }
   ],
   "source": [
    "T['list_price'].nunique()"
   ]
  },
  {
   "cell_type": "code",
   "execution_count": 123,
   "id": "e8be582a-ca8c-474b-8f08-f33130ada8d6",
   "metadata": {},
   "outputs": [
    {
     "data": {
      "text/plain": [
       "103"
      ]
     },
     "execution_count": 123,
     "metadata": {},
     "output_type": "execute_result"
    }
   ],
   "source": [
    "T['standard_cost'].nunique()"
   ]
  },
  {
   "cell_type": "code",
   "execution_count": 124,
   "id": "eecee85c-6d40-4b74-be63-a646fd090fd9",
   "metadata": {},
   "outputs": [
    {
     "data": {
      "text/plain": [
       "0"
      ]
     },
     "execution_count": 124,
     "metadata": {},
     "output_type": "execute_result"
    }
   ],
   "source": [
    "T.duplicated().sum()"
   ]
  },
  {
   "cell_type": "code",
   "execution_count": 125,
   "id": "72a6d279-e59b-4efb-a9f5-19b82cbf8f6c",
   "metadata": {},
   "outputs": [
    {
     "data": {
      "text/plain": [
       "transaction_id               0\n",
       "product_id                   0\n",
       "customer_id                  0\n",
       "transaction_date             0\n",
       "online_order               360\n",
       "order_status                 0\n",
       "brand                      197\n",
       "product_line               197\n",
       "product_class              197\n",
       "product_size               197\n",
       "list_price                   0\n",
       "standard_cost              197\n",
       "product_first_sold_date    197\n",
       "dtype: int64"
      ]
     },
     "execution_count": 125,
     "metadata": {},
     "output_type": "execute_result"
    }
   ],
   "source": [
    "T.isnull().sum()"
   ]
  },
  {
   "cell_type": "code",
   "execution_count": 126,
   "id": "7cf9a0b8-4fc1-4b19-be6e-d662f1718da1",
   "metadata": {},
   "outputs": [],
   "source": [
    "T['standard_cost']=T['standard_cost'].str.replace('$','').str.replace(',','')"
   ]
  },
  {
   "cell_type": "code",
   "execution_count": 127,
   "id": "f3d15f94-5a62-4d42-af46-6a94d1e06a82",
   "metadata": {},
   "outputs": [],
   "source": [
    "T['standard_cost']=T['standard_cost'].astype(float)"
   ]
  },
  {
   "cell_type": "code",
   "execution_count": 128,
   "id": "e276c798-e4fc-4258-a4fd-ea69b263ff17",
   "metadata": {},
   "outputs": [],
   "source": [
    "T['profit']=T['list_price']-T['standard_cost']"
   ]
  },
  {
   "cell_type": "markdown",
   "id": "3c220279-c2ac-4930-bfd9-78bdb0c72e40",
   "metadata": {},
   "source": [
    "- **Data Exploration**"
   ]
  },
  {
   "cell_type": "code",
   "execution_count": 130,
   "id": "f9a48287-b9e9-4f02-ac60-b60492464950",
   "metadata": {},
   "outputs": [],
   "source": [
    "C = ['list_price','standard_cost','profit']\n",
    "DC = ['online_order',\n",
    " 'order_status',\n",
    " 'brand',\n",
    " 'product_line',\n",
    " 'product_class',\n",
    " 'product_size']"
   ]
  },
  {
   "cell_type": "code",
   "execution_count": 131,
   "id": "4ab52d33-7a0a-4cfb-b0da-1b9a035b48f9",
   "metadata": {},
   "outputs": [
    {
     "data": {
      "text/html": [
       "<div>\n",
       "<style scoped>\n",
       "    .dataframe tbody tr th:only-of-type {\n",
       "        vertical-align: middle;\n",
       "    }\n",
       "\n",
       "    .dataframe tbody tr th {\n",
       "        vertical-align: top;\n",
       "    }\n",
       "\n",
       "    .dataframe thead th {\n",
       "        text-align: right;\n",
       "    }\n",
       "</style>\n",
       "<table border=\"1\" class=\"dataframe\">\n",
       "  <thead>\n",
       "    <tr style=\"text-align: right;\">\n",
       "      <th></th>\n",
       "      <th>online_order</th>\n",
       "      <th>order_status</th>\n",
       "      <th>brand</th>\n",
       "      <th>product_line</th>\n",
       "      <th>product_class</th>\n",
       "      <th>product_size</th>\n",
       "    </tr>\n",
       "  </thead>\n",
       "  <tbody>\n",
       "    <tr>\n",
       "      <th>count</th>\n",
       "      <td>19640</td>\n",
       "      <td>20000</td>\n",
       "      <td>19803</td>\n",
       "      <td>19803</td>\n",
       "      <td>19803</td>\n",
       "      <td>19803</td>\n",
       "    </tr>\n",
       "    <tr>\n",
       "      <th>unique</th>\n",
       "      <td>2</td>\n",
       "      <td>2</td>\n",
       "      <td>6</td>\n",
       "      <td>4</td>\n",
       "      <td>3</td>\n",
       "      <td>3</td>\n",
       "    </tr>\n",
       "    <tr>\n",
       "      <th>top</th>\n",
       "      <td>True</td>\n",
       "      <td>Approved</td>\n",
       "      <td>Solex</td>\n",
       "      <td>Standard</td>\n",
       "      <td>medium</td>\n",
       "      <td>medium</td>\n",
       "    </tr>\n",
       "    <tr>\n",
       "      <th>freq</th>\n",
       "      <td>9829</td>\n",
       "      <td>19821</td>\n",
       "      <td>4253</td>\n",
       "      <td>14176</td>\n",
       "      <td>13826</td>\n",
       "      <td>12990</td>\n",
       "    </tr>\n",
       "  </tbody>\n",
       "</table>\n",
       "</div>"
      ],
      "text/plain": [
       "       online_order order_status  brand product_line product_class  \\\n",
       "count         19640        20000  19803        19803         19803   \n",
       "unique            2            2      6            4             3   \n",
       "top            True     Approved  Solex     Standard        medium   \n",
       "freq           9829        19821   4253        14176         13826   \n",
       "\n",
       "       product_size  \n",
       "count         19803  \n",
       "unique            3  \n",
       "top          medium  \n",
       "freq          12990  "
      ]
     },
     "execution_count": 131,
     "metadata": {},
     "output_type": "execute_result"
    }
   ],
   "source": [
    "T[DC].describe()"
   ]
  },
  {
   "cell_type": "code",
   "execution_count": 132,
   "id": "ae7ea7d0-8f25-43ea-8dd5-5c05376af34c",
   "metadata": {},
   "outputs": [
    {
     "data": {
      "text/html": [
       "<div>\n",
       "<style scoped>\n",
       "    .dataframe tbody tr th:only-of-type {\n",
       "        vertical-align: middle;\n",
       "    }\n",
       "\n",
       "    .dataframe tbody tr th {\n",
       "        vertical-align: top;\n",
       "    }\n",
       "\n",
       "    .dataframe thead th {\n",
       "        text-align: right;\n",
       "    }\n",
       "</style>\n",
       "<table border=\"1\" class=\"dataframe\">\n",
       "  <thead>\n",
       "    <tr style=\"text-align: right;\">\n",
       "      <th></th>\n",
       "      <th>list_price</th>\n",
       "      <th>standard_cost</th>\n",
       "      <th>profit</th>\n",
       "    </tr>\n",
       "  </thead>\n",
       "  <tbody>\n",
       "    <tr>\n",
       "      <th>count</th>\n",
       "      <td>20000.000000</td>\n",
       "      <td>19803.000000</td>\n",
       "      <td>19803.000000</td>\n",
       "    </tr>\n",
       "    <tr>\n",
       "      <th>mean</th>\n",
       "      <td>1107.829449</td>\n",
       "      <td>556.046951</td>\n",
       "      <td>551.950915</td>\n",
       "    </tr>\n",
       "    <tr>\n",
       "      <th>std</th>\n",
       "      <td>582.825242</td>\n",
       "      <td>405.955660</td>\n",
       "      <td>493.412849</td>\n",
       "    </tr>\n",
       "    <tr>\n",
       "      <th>min</th>\n",
       "      <td>12.010000</td>\n",
       "      <td>7.210000</td>\n",
       "      <td>4.800000</td>\n",
       "    </tr>\n",
       "    <tr>\n",
       "      <th>25%</th>\n",
       "      <td>575.270000</td>\n",
       "      <td>215.140000</td>\n",
       "      <td>133.780000</td>\n",
       "    </tr>\n",
       "    <tr>\n",
       "      <th>50%</th>\n",
       "      <td>1163.890000</td>\n",
       "      <td>507.580000</td>\n",
       "      <td>445.210000</td>\n",
       "    </tr>\n",
       "    <tr>\n",
       "      <th>75%</th>\n",
       "      <td>1635.300000</td>\n",
       "      <td>795.100000</td>\n",
       "      <td>830.240000</td>\n",
       "    </tr>\n",
       "    <tr>\n",
       "      <th>max</th>\n",
       "      <td>2091.470000</td>\n",
       "      <td>1759.850000</td>\n",
       "      <td>1702.550000</td>\n",
       "    </tr>\n",
       "  </tbody>\n",
       "</table>\n",
       "</div>"
      ],
      "text/plain": [
       "         list_price  standard_cost        profit\n",
       "count  20000.000000   19803.000000  19803.000000\n",
       "mean    1107.829449     556.046951    551.950915\n",
       "std      582.825242     405.955660    493.412849\n",
       "min       12.010000       7.210000      4.800000\n",
       "25%      575.270000     215.140000    133.780000\n",
       "50%     1163.890000     507.580000    445.210000\n",
       "75%     1635.300000     795.100000    830.240000\n",
       "max     2091.470000    1759.850000   1702.550000"
      ]
     },
     "execution_count": 132,
     "metadata": {},
     "output_type": "execute_result"
    }
   ],
   "source": [
    "T[C].describe()"
   ]
  },
  {
   "cell_type": "code",
   "execution_count": 133,
   "id": "a1fa6bcd-78f5-464d-abc8-8fe3801aa5e9",
   "metadata": {},
   "outputs": [
    {
     "data": {
      "text/plain": [
       "<Axes: >"
      ]
     },
     "execution_count": 133,
     "metadata": {},
     "output_type": "execute_result"
    },
    {
     "data": {
      "image/png": "[encoded data removed]",
      "text/plain": [
       "<Figure size 640x480 with 1 Axes>"
      ]
     },
     "metadata": {},
     "output_type": "display_data"
    }
   ],
   "source": [
    "sns.boxplot(T[C])"
   ]
  },
  {
   "cell_type": "code",
   "execution_count": 134,
   "id": "dcad49a3-9a60-4d3d-b0db-965478016ee9",
   "metadata": {},
   "outputs": [
    {
     "data": {
      "text/plain": [
       "195"
      ]
     },
     "execution_count": 134,
     "metadata": {},
     "output_type": "execute_result"
    }
   ],
   "source": [
    "len(T[(T['standard_cost']>1665)])"
   ]
  },
  {
   "cell_type": "code",
   "execution_count": 135,
   "id": "ef00b6e8-9a29-4c0b-8ad0-a49373c37acc",
   "metadata": {},
   "outputs": [],
   "source": [
    "T['online_order'].fillna(True,inplace=True)"
   ]
  },
  {
   "cell_type": "code",
   "execution_count": 136,
   "id": "d9e58ee0-34aa-4c52-9750-e75675d2355a",
   "metadata": {},
   "outputs": [
    {
     "data": {
      "text/plain": [
       "online_order\n",
       "True     10189\n",
       "False     9811\n",
       "Name: count, dtype: int64"
      ]
     },
     "execution_count": 136,
     "metadata": {},
     "output_type": "execute_result"
    }
   ],
   "source": [
    "T['online_order'].value_counts()"
   ]
  },
  {
   "cell_type": "code",
   "execution_count": 137,
   "id": "47b6b401-1f7e-49c4-9905-7932a32c872c",
   "metadata": {},
   "outputs": [],
   "source": [
    "T['transaction_date'] = pd.to_datetime(T['transaction_date'], dayfirst=True)\n",
    "T['months'] = T['transaction_date'].dt.strftime('%B')  # Full month name"
   ]
  },
  {
   "cell_type": "code",
   "execution_count": 138,
   "id": "e6dba423-2742-47f0-a8be-454912e6a245",
   "metadata": {},
   "outputs": [],
   "source": [
    "T.dropna(inplace=True)"
   ]
  },
  {
   "cell_type": "code",
   "execution_count": 139,
   "id": "e5e2914e-3f3a-4113-b31d-02101832f3c5",
   "metadata": {},
   "outputs": [],
   "source": [
    "T.drop(columns=['transaction_date','product_first_sold_date'],inplace=True)"
   ]
  },
  {
   "cell_type": "markdown",
   "id": "9573420d-b168-40a1-992c-e2727cbb96c2",
   "metadata": {},
   "source": [
    "# Mearging Datasets"
   ]
  },
  {
   "cell_type": "code",
   "execution_count": 141,
   "id": "50c341ea-0ba0-4a9f-8146-27d42463f3c7",
   "metadata": {},
   "outputs": [],
   "source": [
    "D=pd.merge(T,R_D,how='outer',on='customer_id')"
   ]
  },
  {
   "cell_type": "code",
   "execution_count": 142,
   "id": "0a556a99-d0d5-48a5-9150-70137f1c17cb",
   "metadata": {},
   "outputs": [],
   "source": [
    "D.dropna(inplace=True)"
   ]
  },
  {
   "cell_type": "code",
   "execution_count": 143,
   "id": "556efbad-51bb-4fab-88c6-0e2ca8dbbc90",
   "metadata": {},
   "outputs": [
    {
     "data": {
      "text/plain": [
       "3411"
      ]
     },
     "execution_count": 143,
     "metadata": {},
     "output_type": "execute_result"
    }
   ],
   "source": [
    "D['customer_id'].nunique()"
   ]
  },
  {
   "cell_type": "code",
   "execution_count": 144,
   "id": "f4228b52-7b9a-4340-b0e5-ccacfa79ca59",
   "metadata": {},
   "outputs": [
    {
     "data": {
      "text/plain": [
       "3906"
      ]
     },
     "execution_count": 144,
     "metadata": {},
     "output_type": "execute_result"
    }
   ],
   "source": [
    "R_D['customer_id'].nunique()"
   ]
  },
  {
   "cell_type": "code",
   "execution_count": 145,
   "id": "8bfe7776-ab72-4214-9f80-4d11b1cb67d6",
   "metadata": {},
   "outputs": [
    {
     "data": {
      "text/plain": [
       "3494"
      ]
     },
     "execution_count": 145,
     "metadata": {},
     "output_type": "execute_result"
    }
   ],
   "source": [
    "T['customer_id'].nunique()"
   ]
  },
  {
   "cell_type": "code",
   "execution_count": 146,
   "id": "a10ad9c6-b530-4295-bbc4-9bdd7b38939b",
   "metadata": {},
   "outputs": [],
   "source": [
    "D.drop(columns=['transaction_id',\n",
    " 'product_id', 'first_name',\n",
    " 'last_name', 'list_price',\n",
    " 'standard_cost', 'job_title', 'owns_car',\n",
    " 'tenure', 'property_valuation'],inplace=True)"
   ]
  },
  {
   "cell_type": "code",
   "execution_count": 147,
   "id": "54468ac7-b8d4-4273-b375-738d11bcb8bb",
   "metadata": {},
   "outputs": [],
   "source": [
    "R_D['Age_category'] = pd.cut(R_D['Age'],bins=[0,12,21,30,60,90],labels=['child','teen','middle','old','senior'])"
   ]
  },
  {
   "cell_type": "markdown",
   "id": "3587a9ba-919d-4fdc-ad21-8c6778205b40",
   "metadata": {},
   "source": [
    "# Data Analysis"
   ]
  },
  {
   "cell_type": "code",
   "execution_count": 149,
   "id": "636563fd-585a-49bf-b62c-b7e133170b65",
   "metadata": {},
   "outputs": [
    {
     "data": {
      "text/plain": [
       "owns_car\n",
       "Yes    1969\n",
       "No     1937\n",
       "Name: count, dtype: int64"
      ]
     },
     "execution_count": 149,
     "metadata": {},
     "output_type": "execute_result"
    }
   ],
   "source": [
    "R_D['owns_car'].value_counts()"
   ]
  },
  {
   "cell_type": "code",
   "execution_count": 150,
   "id": "e77a253c-8ca1-4630-908f-f23d52ed63c7",
   "metadata": {},
   "outputs": [
    {
     "data": {
      "image/png": "[encoded data removed]",
      "text/plain": [
       "<Figure size 640x480 with 1 Axes>"
      ]
     },
     "metadata": {},
     "output_type": "display_data"
    }
   ],
   "source": [
    "plt.pie(R_D['owns_car'].value_counts(),labels=[\"YES\",'NO'],autopct='%0.2f%%',explode=[0.01,0.01])\n",
    "plt.show()"
   ]
  },
  {
   "cell_type": "code",
   "execution_count": 151,
   "id": "734df723-a250-405e-adc4-1a18808c261a",
   "metadata": {},
   "outputs": [
    {
     "data": {
      "text/plain": [
       "gender\n",
       "F    2036\n",
       "M    1870\n",
       "Name: count, dtype: int64"
      ]
     },
     "execution_count": 151,
     "metadata": {},
     "output_type": "execute_result"
    }
   ],
   "source": [
    "R_D['gender'].value_counts()"
   ]
  },
  {
   "cell_type": "code",
   "execution_count": 152,
   "id": "3e338b29-eab9-4f28-a117-e1c8053c6fbc",
   "metadata": {},
   "outputs": [
    {
     "data": {
      "image/png": "[encoded data removed]",
      "text/plain": [
       "<Figure size 640x480 with 1 Axes>"
      ]
     },
     "metadata": {},
     "output_type": "display_data"
    }
   ],
   "source": [
    "plt.pie(R_D['gender'].value_counts(),labels=[\"Female\",'Male'],autopct='%0.2f%%',explode=[0.01,0.01])\n",
    "plt.show()"
   ]
  },
  {
   "cell_type": "code",
   "execution_count": 153,
   "id": "d92abfe0-f9a8-4e97-83cb-426c4ebea5b5",
   "metadata": {},
   "outputs": [
    {
     "data": {
      "text/plain": [
       "past_3_years_bike_related_purchases\n",
       "19.0    55\n",
       "16.0    55\n",
       "20.0    53\n",
       "67.0    52\n",
       "2.0     50\n",
       "        ..\n",
       "85.0    27\n",
       "86.0    27\n",
       "8.0     27\n",
       "95.0    26\n",
       "92.0    24\n",
       "Name: count, Length: 100, dtype: int64"
      ]
     },
     "execution_count": 153,
     "metadata": {},
     "output_type": "execute_result"
    }
   ],
   "source": [
    "R_D['past_3_years_bike_related_purchases'].value_counts()"
   ]
  },
  {
   "cell_type": "code",
   "execution_count": 154,
   "id": "7f56c247-fc22-4e64-b83a-93b4d6e84996",
   "metadata": {},
   "outputs": [
    {
     "data": {
      "text/plain": [
       "job_industry_category\n",
       "Manufacturing         796\n",
       "Financial Services    766\n",
       "Others                655\n",
       "Health                595\n",
       "Retail                357\n",
       "Property              266\n",
       "IT                    150\n",
       "Entertainment         136\n",
       "Argiculture           113\n",
       "Telecommunications     72\n",
       "Name: count, dtype: int64"
      ]
     },
     "execution_count": 154,
     "metadata": {},
     "output_type": "execute_result"
    }
   ],
   "source": [
    "R_D['job_industry_category'].value_counts()"
   ]
  },
  {
   "cell_type": "code",
   "execution_count": 155,
   "id": "9d131e18-5bd2-4273-9871-50794ed5b50c",
   "metadata": {},
   "outputs": [
    {
     "data": {
      "image/png": "[encoded data removed]",
      "text/plain": [
       "<Figure size 640x480 with 1 Axes>"
      ]
     },
     "metadata": {},
     "output_type": "display_data"
    }
   ],
   "source": [
    "sns.countplot(R_D['job_industry_category'],color='brown')\n",
    "plt.show()"
   ]
  },
  {
   "cell_type": "code",
   "execution_count": 156,
   "id": "b385902c-46c2-4582-8fa6-f1732437cc35",
   "metadata": {},
   "outputs": [
    {
     "data": {
      "text/plain": [
       "wealth_segment\n",
       "Mass Customer        1950\n",
       "High Net Worth        995\n",
       "Affluent Customer     961\n",
       "Name: count, dtype: int64"
      ]
     },
     "execution_count": 156,
     "metadata": {},
     "output_type": "execute_result"
    }
   ],
   "source": [
    "R_D['wealth_segment'].value_counts()"
   ]
  },
  {
   "cell_type": "code",
   "execution_count": 157,
   "id": "78f089e8-4360-449c-b02c-16716a7e5626",
   "metadata": {},
   "outputs": [
    {
     "data": {
      "image/png": "[encoded data removed]",
      "text/plain": [
       "<Figure size 640x480 with 1 Axes>"
      ]
     },
     "metadata": {},
     "output_type": "display_data"
    }
   ],
   "source": [
    "plt.pie(R_D['wealth_segment'].value_counts(),labels=['Mass Customer', 'High Net Worth', 'Affluent Customer']\n",
    ",autopct='%0.2f%%',explode=[0.01,0.01,0.01])\n",
    "plt.show()"
   ]
  },
  {
   "cell_type": "code",
   "execution_count": 158,
   "id": "6ed90864-f398-49bc-a441-f36eeed4e33c",
   "metadata": {},
   "outputs": [
    {
     "data": {
      "text/plain": [
       "state\n",
       "NSW                2003\n",
       "VIC                 918\n",
       "QLD                 821\n",
       "New South Wales      85\n",
       "Victoria             79\n",
       "Name: count, dtype: int64"
      ]
     },
     "execution_count": 158,
     "metadata": {},
     "output_type": "execute_result"
    }
   ],
   "source": [
    "R_D['state'].value_counts()"
   ]
  },
  {
   "cell_type": "code",
   "execution_count": 159,
   "id": "5cee427d-791a-444e-930d-78f16d6bc444",
   "metadata": {},
   "outputs": [
    {
     "data": {
      "image/png": "[encoded data removed]",
      "text/plain": [
       "<Figure size 640x480 with 1 Axes>"
      ]
     },
     "metadata": {},
     "output_type": "display_data"
    }
   ],
   "source": [
    "sns.countplot(R_D['state'],color='brown')\n",
    "plt.show()"
   ]
  },
  {
   "cell_type": "code",
   "execution_count": 160,
   "id": "9ad4df50-2c7b-4040-a6fa-0bb18c29bb5d",
   "metadata": {},
   "outputs": [
    {
     "data": {
      "text/plain": [
       "count    3906.000000\n",
       "mean       47.372248\n",
       "std        12.624273\n",
       "min        23.000000\n",
       "25%        38.000000\n",
       "50%        47.000000\n",
       "75%        57.000000\n",
       "max        93.000000\n",
       "Name: Age, dtype: float64"
      ]
     },
     "execution_count": 160,
     "metadata": {},
     "output_type": "execute_result"
    }
   ],
   "source": [
    "R_D['Age'].describe()"
   ]
  },
  {
   "cell_type": "code",
   "execution_count": 161,
   "id": "01746b23-3533-4a6a-acfd-733026a8c28f",
   "metadata": {},
   "outputs": [
    {
     "data": {
      "text/plain": [
       "<Axes: xlabel='Age', ylabel='Count'>"
      ]
     },
     "execution_count": 161,
     "metadata": {},
     "output_type": "execute_result"
    },
    {
     "data": {
      "image/png": "[encoded data removed]",
      "text/plain": [
       "<Figure size 640x480 with 1 Axes>"
      ]
     },
     "metadata": {},
     "output_type": "display_data"
    }
   ],
   "source": [
    "sns.histplot(R_D['Age'],bins=7)"
   ]
  },
  {
   "cell_type": "code",
   "execution_count": 162,
   "id": "19e7616d-99c2-426e-9857-509148b03714",
   "metadata": {},
   "outputs": [
    {
     "data": {
      "text/plain": [
       "online_order\n",
       "True     10097\n",
       "False     9706\n",
       "Name: count, dtype: int64"
      ]
     },
     "execution_count": 162,
     "metadata": {},
     "output_type": "execute_result"
    }
   ],
   "source": [
    "T['online_order'].value_counts()"
   ]
  },
  {
   "cell_type": "code",
   "execution_count": 163,
   "id": "786f12a1-b501-4915-a9b3-353fe0ec37c9",
   "metadata": {},
   "outputs": [
    {
     "data": {
      "image/png": "[encoded data removed]",
      "text/plain": [
       "<Figure size 640x480 with 1 Axes>"
      ]
     },
     "metadata": {},
     "output_type": "display_data"
    }
   ],
   "source": [
    "plt.pie(T['online_order'].value_counts(),labels=['YES','NO']\n",
    ",autopct='%0.2f%%',explode=[0.01,0.01])\n",
    "plt.show()"
   ]
  },
  {
   "cell_type": "code",
   "execution_count": 164,
   "id": "97c37262-10e6-4577-87b0-5e1553852fa6",
   "metadata": {},
   "outputs": [
    {
     "data": {
      "text/plain": [
       "order_status\n",
       "Approved     19625\n",
       "Cancelled      178\n",
       "Name: count, dtype: int64"
      ]
     },
     "execution_count": 164,
     "metadata": {},
     "output_type": "execute_result"
    }
   ],
   "source": [
    "T['order_status'].value_counts()"
   ]
  },
  {
   "cell_type": "code",
   "execution_count": 165,
   "id": "6e001332-66dc-4c1d-9cec-62ac57a25041",
   "metadata": {},
   "outputs": [
    {
     "data": {
      "image/png": "[encoded data removed]",
      "text/plain": [
       "<Figure size 640x480 with 1 Axes>"
      ]
     },
     "metadata": {},
     "output_type": "display_data"
    }
   ],
   "source": [
    "sns.countplot(T['order_status'],color='brown')\n",
    "plt.show()"
   ]
  },
  {
   "cell_type": "code",
   "execution_count": 166,
   "id": "3940ab4f-89d6-4cb1-8bd7-25b33d3c88da",
   "metadata": {},
   "outputs": [
    {
     "data": {
      "text/plain": [
       "brand\n",
       "Solex             4253\n",
       "Giant Bicycles    3312\n",
       "WeareA2B          3295\n",
       "OHM Cycles        3043\n",
       "Trek Bicycles     2990\n",
       "Norco Bicycles    2910\n",
       "Name: count, dtype: int64"
      ]
     },
     "execution_count": 166,
     "metadata": {},
     "output_type": "execute_result"
    }
   ],
   "source": [
    "T['brand'].value_counts()"
   ]
  },
  {
   "cell_type": "code",
   "execution_count": 167,
   "id": "4cd1190a-4dc2-45d5-ba62-5aff19586f82",
   "metadata": {},
   "outputs": [
    {
     "data": {
      "image/png": "[encoded data removed]",
      "text/plain": [
       "<Figure size 640x480 with 1 Axes>"
      ]
     },
     "metadata": {},
     "output_type": "display_data"
    }
   ],
   "source": [
    "sns.countplot(T['brand'],color='brown')\n",
    "plt.show()"
   ]
  },
  {
   "cell_type": "code",
   "execution_count": 168,
   "id": "baac1b83-b898-490a-82cc-d7225aa09513",
   "metadata": {},
   "outputs": [
    {
     "data": {
      "text/plain": [
       "product_line\n",
       "Standard    14176\n",
       "Road         3970\n",
       "Touring      1234\n",
       "Mountain      423\n",
       "Name: count, dtype: int64"
      ]
     },
     "execution_count": 168,
     "metadata": {},
     "output_type": "execute_result"
    }
   ],
   "source": [
    "T['product_line'].value_counts()"
   ]
  },
  {
   "cell_type": "code",
   "execution_count": 169,
   "id": "d534b85f-c0c2-4246-a20b-3a0529f8e10f",
   "metadata": {},
   "outputs": [
    {
     "data": {
      "image/png": "[encoded data removed]",
      "text/plain": [
       "<Figure size 640x480 with 1 Axes>"
      ]
     },
     "metadata": {},
     "output_type": "display_data"
    }
   ],
   "source": [
    "sns.countplot(T['product_line'],color='purple')\n",
    "plt.show()"
   ]
  },
  {
   "cell_type": "code",
   "execution_count": 170,
   "id": "939c261a-0f72-48af-97a3-1965ae497ec9",
   "metadata": {},
   "outputs": [
    {
     "data": {
      "text/plain": [
       "product_class\n",
       "medium    13826\n",
       "high       3013\n",
       "low        2964\n",
       "Name: count, dtype: int64"
      ]
     },
     "execution_count": 170,
     "metadata": {},
     "output_type": "execute_result"
    }
   ],
   "source": [
    "T['product_class'].value_counts()"
   ]
  },
  {
   "cell_type": "code",
   "execution_count": 171,
   "id": "4b1c1b83-1ad4-476b-99d4-25f37c5dc1fd",
   "metadata": {},
   "outputs": [
    {
     "data": {
      "image/png": "[encoded data removed]",
      "text/plain": [
       "<Figure size 640x480 with 1 Axes>"
      ]
     },
     "metadata": {},
     "output_type": "display_data"
    }
   ],
   "source": [
    "sns.countplot(T['product_class'],color='purple')\n",
    "plt.show()"
   ]
  },
  {
   "cell_type": "code",
   "execution_count": 172,
   "id": "c9cf51c6-fdbe-43f5-8163-c6a51b116c24",
   "metadata": {},
   "outputs": [
    {
     "data": {
      "text/plain": [
       "product_size\n",
       "medium    12990\n",
       "large      3976\n",
       "small      2837\n",
       "Name: count, dtype: int64"
      ]
     },
     "execution_count": 172,
     "metadata": {},
     "output_type": "execute_result"
    }
   ],
   "source": [
    "T['product_size'].value_counts()"
   ]
  },
  {
   "cell_type": "code",
   "execution_count": 173,
   "id": "829419c6-be9f-4023-b1f3-17a1f383eb43",
   "metadata": {},
   "outputs": [
    {
     "data": {
      "image/png": "[encoded data removed]",
      "text/plain": [
       "<Figure size 640x480 with 1 Axes>"
      ]
     },
     "metadata": {},
     "output_type": "display_data"
    }
   ],
   "source": [
    "sns.countplot(T['product_size'],color='purple')\n",
    "plt.show()"
   ]
  },
  {
   "cell_type": "code",
   "execution_count": 174,
   "id": "0459deae-82a1-4526-8a5b-0f1f2fa7185d",
   "metadata": {},
   "outputs": [
    {
     "data": {
      "text/plain": [
       "count    19803.000000\n",
       "mean       551.950915\n",
       "std        493.412849\n",
       "min          4.800000\n",
       "25%        133.780000\n",
       "50%        445.210000\n",
       "75%        830.240000\n",
       "max       1702.550000\n",
       "Name: profit, dtype: float64"
      ]
     },
     "execution_count": 174,
     "metadata": {},
     "output_type": "execute_result"
    }
   ],
   "source": [
    "T['profit'].describe()"
   ]
  },
  {
   "cell_type": "code",
   "execution_count": 175,
   "id": "0e7134e0-a090-4113-b986-bfea6b92c977",
   "metadata": {},
   "outputs": [
    {
     "data": {
      "text/plain": [
       "<Axes: xlabel='profit', ylabel='Count'>"
      ]
     },
     "execution_count": 175,
     "metadata": {},
     "output_type": "execute_result"
    },
    {
     "data": {
      "image/png": "[encoded data removed]",
      "text/plain": [
       "<Figure size 640x480 with 1 Axes>"
      ]
     },
     "metadata": {},
     "output_type": "display_data"
    }
   ],
   "source": [
    "sns.histplot(T['profit'],bins=6)"
   ]
  },
  {
   "cell_type": "code",
   "execution_count": 176,
   "id": "d9411a96-a98e-4138-98be-8726702dada9",
   "metadata": {},
   "outputs": [
    {
     "data": {
      "text/plain": [
       "months\n",
       "October      1751\n",
       "August       1735\n",
       "July         1700\n",
       "May          1666\n",
       "January      1665\n",
       "November     1648\n",
       "April        1641\n",
       "December     1633\n",
       "March        1629\n",
       "February     1612\n",
       "June         1564\n",
       "September    1559\n",
       "Name: count, dtype: int64"
      ]
     },
     "execution_count": 176,
     "metadata": {},
     "output_type": "execute_result"
    }
   ],
   "source": [
    "T['months'].value_counts()"
   ]
  },
  {
   "cell_type": "code",
   "execution_count": 177,
   "id": "15831627-2dc7-4181-9a2f-a5be49875018",
   "metadata": {},
   "outputs": [
    {
     "data": {
      "image/png": "[encoded data removed]",
      "text/plain": [
       "<Figure size 640x480 with 1 Axes>"
      ]
     },
     "metadata": {},
     "output_type": "display_data"
    }
   ],
   "source": [
    "sns.countplot(T['months'],color='purple')\n",
    "plt.show()"
   ]
  },
  {
   "cell_type": "code",
   "execution_count": 178,
   "id": "3d4ee941-11b6-434c-a0ff-6b20fb055ac8",
   "metadata": {},
   "outputs": [
    {
     "data": {
      "text/plain": [
       "pandas.core.series.Series"
      ]
     },
     "execution_count": 178,
     "metadata": {},
     "output_type": "execute_result"
    }
   ],
   "source": [
    "type(T['months'])"
   ]
  },
  {
   "cell_type": "code",
   "execution_count": 179,
   "id": "52be6410-fb51-4e18-8e71-16f5f22f16a1",
   "metadata": {},
   "outputs": [
    {
     "data": {
      "text/html": [
       "<div>\n",
       "<style scoped>\n",
       "    .dataframe tbody tr th:only-of-type {\n",
       "        vertical-align: middle;\n",
       "    }\n",
       "\n",
       "    .dataframe tbody tr th {\n",
       "        vertical-align: top;\n",
       "    }\n",
       "\n",
       "    .dataframe thead th {\n",
       "        text-align: right;\n",
       "    }\n",
       "</style>\n",
       "<table border=\"1\" class=\"dataframe\">\n",
       "  <thead>\n",
       "    <tr style=\"text-align: right;\">\n",
       "      <th>order_status</th>\n",
       "      <th>Approved</th>\n",
       "      <th>Cancelled</th>\n",
       "      <th>All</th>\n",
       "    </tr>\n",
       "    <tr>\n",
       "      <th>online_order</th>\n",
       "      <th></th>\n",
       "      <th></th>\n",
       "      <th></th>\n",
       "    </tr>\n",
       "  </thead>\n",
       "  <tbody>\n",
       "    <tr>\n",
       "      <th>False</th>\n",
       "      <td>9399</td>\n",
       "      <td>74</td>\n",
       "      <td>9473</td>\n",
       "    </tr>\n",
       "    <tr>\n",
       "      <th>True</th>\n",
       "      <td>9746</td>\n",
       "      <td>101</td>\n",
       "      <td>9847</td>\n",
       "    </tr>\n",
       "    <tr>\n",
       "      <th>All</th>\n",
       "      <td>19145</td>\n",
       "      <td>175</td>\n",
       "      <td>19320</td>\n",
       "    </tr>\n",
       "  </tbody>\n",
       "</table>\n",
       "</div>"
      ],
      "text/plain": [
       "order_status  Approved  Cancelled    All\n",
       "online_order                            \n",
       "False             9399         74   9473\n",
       "True              9746        101   9847\n",
       "All              19145        175  19320"
      ]
     },
     "execution_count": 179,
     "metadata": {},
     "output_type": "execute_result"
    }
   ],
   "source": [
    "pd.crosstab(D['online_order'],D[\"order_status\"],margins=1)"
   ]
  },
  {
   "cell_type": "code",
   "execution_count": 180,
   "id": "515fd6e7-e76f-4335-bbdd-6b2ede08be59",
   "metadata": {},
   "outputs": [
    {
     "data": {
      "text/html": [
       "<div>\n",
       "<style scoped>\n",
       "    .dataframe tbody tr th:only-of-type {\n",
       "        vertical-align: middle;\n",
       "    }\n",
       "\n",
       "    .dataframe tbody tr th {\n",
       "        vertical-align: top;\n",
       "    }\n",
       "\n",
       "    .dataframe thead th {\n",
       "        text-align: right;\n",
       "    }\n",
       "</style>\n",
       "<table border=\"1\" class=\"dataframe\">\n",
       "  <thead>\n",
       "    <tr style=\"text-align: right;\">\n",
       "      <th>brand</th>\n",
       "      <th>Giant Bicycles</th>\n",
       "      <th>Norco Bicycles</th>\n",
       "      <th>OHM Cycles</th>\n",
       "      <th>Solex</th>\n",
       "      <th>Trek Bicycles</th>\n",
       "      <th>WeareA2B</th>\n",
       "      <th>All</th>\n",
       "    </tr>\n",
       "    <tr>\n",
       "      <th>online_order</th>\n",
       "      <th></th>\n",
       "      <th></th>\n",
       "      <th></th>\n",
       "      <th></th>\n",
       "      <th></th>\n",
       "      <th></th>\n",
       "      <th></th>\n",
       "    </tr>\n",
       "  </thead>\n",
       "  <tbody>\n",
       "    <tr>\n",
       "      <th>False</th>\n",
       "      <td>1565</td>\n",
       "      <td>1414</td>\n",
       "      <td>1393</td>\n",
       "      <td>2078</td>\n",
       "      <td>1436</td>\n",
       "      <td>1587</td>\n",
       "      <td>9473</td>\n",
       "    </tr>\n",
       "    <tr>\n",
       "      <th>True</th>\n",
       "      <td>1671</td>\n",
       "      <td>1412</td>\n",
       "      <td>1581</td>\n",
       "      <td>2092</td>\n",
       "      <td>1477</td>\n",
       "      <td>1614</td>\n",
       "      <td>9847</td>\n",
       "    </tr>\n",
       "    <tr>\n",
       "      <th>All</th>\n",
       "      <td>3236</td>\n",
       "      <td>2826</td>\n",
       "      <td>2974</td>\n",
       "      <td>4170</td>\n",
       "      <td>2913</td>\n",
       "      <td>3201</td>\n",
       "      <td>19320</td>\n",
       "    </tr>\n",
       "  </tbody>\n",
       "</table>\n",
       "</div>"
      ],
      "text/plain": [
       "brand         Giant Bicycles  Norco Bicycles  OHM Cycles  Solex  \\\n",
       "online_order                                                      \n",
       "False                   1565            1414        1393   2078   \n",
       "True                    1671            1412        1581   2092   \n",
       "All                     3236            2826        2974   4170   \n",
       "\n",
       "brand         Trek Bicycles  WeareA2B    All  \n",
       "online_order                                  \n",
       "False                  1436      1587   9473  \n",
       "True                   1477      1614   9847  \n",
       "All                    2913      3201  19320  "
      ]
     },
     "execution_count": 180,
     "metadata": {},
     "output_type": "execute_result"
    }
   ],
   "source": [
    "pd.crosstab(D['online_order'],D[\"brand\"],margins=1)"
   ]
  },
  {
   "cell_type": "code",
   "execution_count": 181,
   "id": "bf2bae95-0949-4c37-bfd1-e26a1a3c9e92",
   "metadata": {},
   "outputs": [
    {
     "data": {
      "text/html": [
       "<div>\n",
       "<style scoped>\n",
       "    .dataframe tbody tr th:only-of-type {\n",
       "        vertical-align: middle;\n",
       "    }\n",
       "\n",
       "    .dataframe tbody tr th {\n",
       "        vertical-align: top;\n",
       "    }\n",
       "\n",
       "    .dataframe thead th {\n",
       "        text-align: right;\n",
       "    }\n",
       "</style>\n",
       "<table border=\"1\" class=\"dataframe\">\n",
       "  <thead>\n",
       "    <tr style=\"text-align: right;\">\n",
       "      <th>product_line</th>\n",
       "      <th>Mountain</th>\n",
       "      <th>Road</th>\n",
       "      <th>Standard</th>\n",
       "      <th>Touring</th>\n",
       "      <th>All</th>\n",
       "    </tr>\n",
       "    <tr>\n",
       "      <th>online_order</th>\n",
       "      <th></th>\n",
       "      <th></th>\n",
       "      <th></th>\n",
       "      <th></th>\n",
       "      <th></th>\n",
       "    </tr>\n",
       "  </thead>\n",
       "  <tbody>\n",
       "    <tr>\n",
       "      <th>False</th>\n",
       "      <td>189</td>\n",
       "      <td>1886</td>\n",
       "      <td>6823</td>\n",
       "      <td>575</td>\n",
       "      <td>9473</td>\n",
       "    </tr>\n",
       "    <tr>\n",
       "      <th>True</th>\n",
       "      <td>223</td>\n",
       "      <td>1985</td>\n",
       "      <td>7023</td>\n",
       "      <td>616</td>\n",
       "      <td>9847</td>\n",
       "    </tr>\n",
       "    <tr>\n",
       "      <th>All</th>\n",
       "      <td>412</td>\n",
       "      <td>3871</td>\n",
       "      <td>13846</td>\n",
       "      <td>1191</td>\n",
       "      <td>19320</td>\n",
       "    </tr>\n",
       "  </tbody>\n",
       "</table>\n",
       "</div>"
      ],
      "text/plain": [
       "product_line  Mountain  Road  Standard  Touring    All\n",
       "online_order                                          \n",
       "False              189  1886      6823      575   9473\n",
       "True               223  1985      7023      616   9847\n",
       "All                412  3871     13846     1191  19320"
      ]
     },
     "execution_count": 181,
     "metadata": {},
     "output_type": "execute_result"
    }
   ],
   "source": [
    "pd.crosstab(D['online_order'],D[\"product_line\"],margins=1)"
   ]
  },
  {
   "cell_type": "code",
   "execution_count": 182,
   "id": "ea03598b-651b-400d-a28a-b3a9307c780d",
   "metadata": {},
   "outputs": [
    {
     "data": {
      "text/html": [
       "<div>\n",
       "<style scoped>\n",
       "    .dataframe tbody tr th:only-of-type {\n",
       "        vertical-align: middle;\n",
       "    }\n",
       "\n",
       "    .dataframe tbody tr th {\n",
       "        vertical-align: top;\n",
       "    }\n",
       "\n",
       "    .dataframe thead th {\n",
       "        text-align: right;\n",
       "    }\n",
       "</style>\n",
       "<table border=\"1\" class=\"dataframe\">\n",
       "  <thead>\n",
       "    <tr style=\"text-align: right;\">\n",
       "      <th>product_class</th>\n",
       "      <th>high</th>\n",
       "      <th>low</th>\n",
       "      <th>medium</th>\n",
       "      <th>All</th>\n",
       "    </tr>\n",
       "    <tr>\n",
       "      <th>online_order</th>\n",
       "      <th></th>\n",
       "      <th></th>\n",
       "      <th></th>\n",
       "      <th></th>\n",
       "    </tr>\n",
       "  </thead>\n",
       "  <tbody>\n",
       "    <tr>\n",
       "      <th>False</th>\n",
       "      <td>1406</td>\n",
       "      <td>1373</td>\n",
       "      <td>6694</td>\n",
       "      <td>9473</td>\n",
       "    </tr>\n",
       "    <tr>\n",
       "      <th>True</th>\n",
       "      <td>1539</td>\n",
       "      <td>1531</td>\n",
       "      <td>6777</td>\n",
       "      <td>9847</td>\n",
       "    </tr>\n",
       "    <tr>\n",
       "      <th>All</th>\n",
       "      <td>2945</td>\n",
       "      <td>2904</td>\n",
       "      <td>13471</td>\n",
       "      <td>19320</td>\n",
       "    </tr>\n",
       "  </tbody>\n",
       "</table>\n",
       "</div>"
      ],
      "text/plain": [
       "product_class  high   low  medium    All\n",
       "online_order                            \n",
       "False          1406  1373    6694   9473\n",
       "True           1539  1531    6777   9847\n",
       "All            2945  2904   13471  19320"
      ]
     },
     "execution_count": 182,
     "metadata": {},
     "output_type": "execute_result"
    }
   ],
   "source": [
    "pd.crosstab(D['online_order'],D[\"product_class\"],margins=1)"
   ]
  },
  {
   "cell_type": "code",
   "execution_count": 183,
   "id": "1599aa2c-9be3-4ed1-a56b-b38be7c3104a",
   "metadata": {},
   "outputs": [
    {
     "data": {
      "text/html": [
       "<div>\n",
       "<style scoped>\n",
       "    .dataframe tbody tr th:only-of-type {\n",
       "        vertical-align: middle;\n",
       "    }\n",
       "\n",
       "    .dataframe tbody tr th {\n",
       "        vertical-align: top;\n",
       "    }\n",
       "\n",
       "    .dataframe thead th {\n",
       "        text-align: right;\n",
       "    }\n",
       "</style>\n",
       "<table border=\"1\" class=\"dataframe\">\n",
       "  <thead>\n",
       "    <tr style=\"text-align: right;\">\n",
       "      <th>product_size</th>\n",
       "      <th>large</th>\n",
       "      <th>medium</th>\n",
       "      <th>small</th>\n",
       "      <th>All</th>\n",
       "    </tr>\n",
       "    <tr>\n",
       "      <th>online_order</th>\n",
       "      <th></th>\n",
       "      <th></th>\n",
       "      <th></th>\n",
       "      <th></th>\n",
       "    </tr>\n",
       "  </thead>\n",
       "  <tbody>\n",
       "    <tr>\n",
       "      <th>False</th>\n",
       "      <td>1931</td>\n",
       "      <td>6211</td>\n",
       "      <td>1331</td>\n",
       "      <td>9473</td>\n",
       "    </tr>\n",
       "    <tr>\n",
       "      <th>True</th>\n",
       "      <td>1948</td>\n",
       "      <td>6469</td>\n",
       "      <td>1430</td>\n",
       "      <td>9847</td>\n",
       "    </tr>\n",
       "    <tr>\n",
       "      <th>All</th>\n",
       "      <td>3879</td>\n",
       "      <td>12680</td>\n",
       "      <td>2761</td>\n",
       "      <td>19320</td>\n",
       "    </tr>\n",
       "  </tbody>\n",
       "</table>\n",
       "</div>"
      ],
      "text/plain": [
       "product_size  large  medium  small    All\n",
       "online_order                             \n",
       "False          1931    6211   1331   9473\n",
       "True           1948    6469   1430   9847\n",
       "All            3879   12680   2761  19320"
      ]
     },
     "execution_count": 183,
     "metadata": {},
     "output_type": "execute_result"
    }
   ],
   "source": [
    "pd.crosstab(D['online_order'],D[\"product_size\"],margins=1)"
   ]
  },
  {
   "cell_type": "code",
   "execution_count": 184,
   "id": "10edb988-52aa-4217-8dde-e55afa1965bc",
   "metadata": {},
   "outputs": [
    {
     "data": {
      "text/html": [
       "<div>\n",
       "<style scoped>\n",
       "    .dataframe tbody tr th:only-of-type {\n",
       "        vertical-align: middle;\n",
       "    }\n",
       "\n",
       "    .dataframe tbody tr th {\n",
       "        vertical-align: top;\n",
       "    }\n",
       "\n",
       "    .dataframe thead th {\n",
       "        text-align: right;\n",
       "    }\n",
       "</style>\n",
       "<table border=\"1\" class=\"dataframe\">\n",
       "  <thead>\n",
       "    <tr style=\"text-align: right;\">\n",
       "      <th>job_industry_category</th>\n",
       "      <th>Argiculture</th>\n",
       "      <th>Entertainment</th>\n",
       "      <th>Financial Services</th>\n",
       "      <th>Health</th>\n",
       "      <th>IT</th>\n",
       "      <th>Manufacturing</th>\n",
       "      <th>Others</th>\n",
       "      <th>Property</th>\n",
       "      <th>Retail</th>\n",
       "      <th>Telecommunications</th>\n",
       "      <th>All</th>\n",
       "    </tr>\n",
       "    <tr>\n",
       "      <th>online_order</th>\n",
       "      <th></th>\n",
       "      <th></th>\n",
       "      <th></th>\n",
       "      <th></th>\n",
       "      <th></th>\n",
       "      <th></th>\n",
       "      <th></th>\n",
       "      <th></th>\n",
       "      <th></th>\n",
       "      <th></th>\n",
       "      <th></th>\n",
       "    </tr>\n",
       "  </thead>\n",
       "  <tbody>\n",
       "    <tr>\n",
       "      <th>False</th>\n",
       "      <td>59</td>\n",
       "      <td>60</td>\n",
       "      <td>403</td>\n",
       "      <td>277</td>\n",
       "      <td>81</td>\n",
       "      <td>386</td>\n",
       "      <td>301</td>\n",
       "      <td>125</td>\n",
       "      <td>162</td>\n",
       "      <td>29</td>\n",
       "      <td>1883</td>\n",
       "    </tr>\n",
       "    <tr>\n",
       "      <th>True</th>\n",
       "      <td>51</td>\n",
       "      <td>70</td>\n",
       "      <td>340</td>\n",
       "      <td>304</td>\n",
       "      <td>64</td>\n",
       "      <td>385</td>\n",
       "      <td>331</td>\n",
       "      <td>134</td>\n",
       "      <td>188</td>\n",
       "      <td>43</td>\n",
       "      <td>1910</td>\n",
       "    </tr>\n",
       "    <tr>\n",
       "      <th>All</th>\n",
       "      <td>110</td>\n",
       "      <td>130</td>\n",
       "      <td>743</td>\n",
       "      <td>581</td>\n",
       "      <td>145</td>\n",
       "      <td>771</td>\n",
       "      <td>632</td>\n",
       "      <td>259</td>\n",
       "      <td>350</td>\n",
       "      <td>72</td>\n",
       "      <td>3793</td>\n",
       "    </tr>\n",
       "  </tbody>\n",
       "</table>\n",
       "</div>"
      ],
      "text/plain": [
       "job_industry_category  Argiculture  Entertainment  Financial Services  Health  \\\n",
       "online_order                                                                    \n",
       "False                           59             60                 403     277   \n",
       "True                            51             70                 340     304   \n",
       "All                            110            130                 743     581   \n",
       "\n",
       "job_industry_category   IT  Manufacturing  Others  Property  Retail  \\\n",
       "online_order                                                          \n",
       "False                   81            386     301       125     162   \n",
       "True                    64            385     331       134     188   \n",
       "All                    145            771     632       259     350   \n",
       "\n",
       "job_industry_category  Telecommunications   All  \n",
       "online_order                                     \n",
       "False                                  29  1883  \n",
       "True                                   43  1910  \n",
       "All                                    72  3793  "
      ]
     },
     "execution_count": 184,
     "metadata": {},
     "output_type": "execute_result"
    }
   ],
   "source": [
    "pd.crosstab(D['online_order'],R_D[\"job_industry_category\"],margins=1)"
   ]
  },
  {
   "cell_type": "code",
   "execution_count": 185,
   "id": "e487484d-958a-436c-bbb3-d36b971097f2",
   "metadata": {},
   "outputs": [
    {
     "data": {
      "text/html": [
       "<div>\n",
       "<style scoped>\n",
       "    .dataframe tbody tr th:only-of-type {\n",
       "        vertical-align: middle;\n",
       "    }\n",
       "\n",
       "    .dataframe tbody tr th {\n",
       "        vertical-align: top;\n",
       "    }\n",
       "\n",
       "    .dataframe thead th {\n",
       "        text-align: right;\n",
       "    }\n",
       "</style>\n",
       "<table border=\"1\" class=\"dataframe\">\n",
       "  <thead>\n",
       "    <tr style=\"text-align: right;\">\n",
       "      <th>wealth_segment</th>\n",
       "      <th>Affluent Customer</th>\n",
       "      <th>High Net Worth</th>\n",
       "      <th>Mass Customer</th>\n",
       "      <th>All</th>\n",
       "    </tr>\n",
       "    <tr>\n",
       "      <th>online_order</th>\n",
       "      <th></th>\n",
       "      <th></th>\n",
       "      <th></th>\n",
       "      <th></th>\n",
       "    </tr>\n",
       "  </thead>\n",
       "  <tbody>\n",
       "    <tr>\n",
       "      <th>False</th>\n",
       "      <td>466</td>\n",
       "      <td>488</td>\n",
       "      <td>929</td>\n",
       "      <td>1883</td>\n",
       "    </tr>\n",
       "    <tr>\n",
       "      <th>True</th>\n",
       "      <td>459</td>\n",
       "      <td>479</td>\n",
       "      <td>972</td>\n",
       "      <td>1910</td>\n",
       "    </tr>\n",
       "    <tr>\n",
       "      <th>All</th>\n",
       "      <td>925</td>\n",
       "      <td>967</td>\n",
       "      <td>1901</td>\n",
       "      <td>3793</td>\n",
       "    </tr>\n",
       "  </tbody>\n",
       "</table>\n",
       "</div>"
      ],
      "text/plain": [
       "wealth_segment  Affluent Customer  High Net Worth  Mass Customer   All\n",
       "online_order                                                          \n",
       "False                         466             488            929  1883\n",
       "True                          459             479            972  1910\n",
       "All                           925             967           1901  3793"
      ]
     },
     "execution_count": 185,
     "metadata": {},
     "output_type": "execute_result"
    }
   ],
   "source": [
    "pd.crosstab(D['online_order'],R_D[\"wealth_segment\"],margins=1)"
   ]
  },
  {
   "cell_type": "code",
   "execution_count": 186,
   "id": "6448a9c2-6457-41d1-8244-c96f27de7e35",
   "metadata": {},
   "outputs": [
    {
     "data": {
      "text/html": [
       "<div>\n",
       "<style scoped>\n",
       "    .dataframe tbody tr th:only-of-type {\n",
       "        vertical-align: middle;\n",
       "    }\n",
       "\n",
       "    .dataframe tbody tr th {\n",
       "        vertical-align: top;\n",
       "    }\n",
       "\n",
       "    .dataframe thead th {\n",
       "        text-align: right;\n",
       "    }\n",
       "</style>\n",
       "<table border=\"1\" class=\"dataframe\">\n",
       "  <thead>\n",
       "    <tr style=\"text-align: right;\">\n",
       "      <th>state</th>\n",
       "      <th>NSW</th>\n",
       "      <th>New South Wales</th>\n",
       "      <th>QLD</th>\n",
       "      <th>VIC</th>\n",
       "      <th>Victoria</th>\n",
       "      <th>All</th>\n",
       "    </tr>\n",
       "    <tr>\n",
       "      <th>online_order</th>\n",
       "      <th></th>\n",
       "      <th></th>\n",
       "      <th></th>\n",
       "      <th></th>\n",
       "      <th></th>\n",
       "      <th></th>\n",
       "    </tr>\n",
       "  </thead>\n",
       "  <tbody>\n",
       "    <tr>\n",
       "      <th>False</th>\n",
       "      <td>952</td>\n",
       "      <td>37</td>\n",
       "      <td>421</td>\n",
       "      <td>433</td>\n",
       "      <td>40</td>\n",
       "      <td>1883</td>\n",
       "    </tr>\n",
       "    <tr>\n",
       "      <th>True</th>\n",
       "      <td>1004</td>\n",
       "      <td>31</td>\n",
       "      <td>379</td>\n",
       "      <td>457</td>\n",
       "      <td>39</td>\n",
       "      <td>1910</td>\n",
       "    </tr>\n",
       "    <tr>\n",
       "      <th>All</th>\n",
       "      <td>1956</td>\n",
       "      <td>68</td>\n",
       "      <td>800</td>\n",
       "      <td>890</td>\n",
       "      <td>79</td>\n",
       "      <td>3793</td>\n",
       "    </tr>\n",
       "  </tbody>\n",
       "</table>\n",
       "</div>"
      ],
      "text/plain": [
       "state          NSW  New South Wales  QLD  VIC  Victoria   All\n",
       "online_order                                                 \n",
       "False          952               37  421  433        40  1883\n",
       "True          1004               31  379  457        39  1910\n",
       "All           1956               68  800  890        79  3793"
      ]
     },
     "execution_count": 186,
     "metadata": {},
     "output_type": "execute_result"
    }
   ],
   "source": [
    "pd.crosstab(D['online_order'],R_D[\"state\"],margins=1)"
   ]
  },
  {
   "cell_type": "code",
   "execution_count": 187,
   "id": "24fca2d7-6e5c-4592-abab-febc527266e1",
   "metadata": {},
   "outputs": [
    {
     "data": {
      "text/html": [
       "<div>\n",
       "<style scoped>\n",
       "    .dataframe tbody tr th:only-of-type {\n",
       "        vertical-align: middle;\n",
       "    }\n",
       "\n",
       "    .dataframe tbody tr th {\n",
       "        vertical-align: top;\n",
       "    }\n",
       "\n",
       "    .dataframe thead th {\n",
       "        text-align: right;\n",
       "    }\n",
       "</style>\n",
       "<table border=\"1\" class=\"dataframe\">\n",
       "  <thead>\n",
       "    <tr style=\"text-align: right;\">\n",
       "      <th></th>\n",
       "      <th>count</th>\n",
       "      <th>mean</th>\n",
       "      <th>std</th>\n",
       "      <th>min</th>\n",
       "      <th>25%</th>\n",
       "      <th>50%</th>\n",
       "      <th>75%</th>\n",
       "      <th>max</th>\n",
       "    </tr>\n",
       "    <tr>\n",
       "      <th>online_order</th>\n",
       "      <th></th>\n",
       "      <th></th>\n",
       "      <th></th>\n",
       "      <th></th>\n",
       "      <th></th>\n",
       "      <th></th>\n",
       "      <th></th>\n",
       "      <th></th>\n",
       "    </tr>\n",
       "  </thead>\n",
       "  <tbody>\n",
       "    <tr>\n",
       "      <th>False</th>\n",
       "      <td>9473.0</td>\n",
       "      <td>553.460395</td>\n",
       "      <td>493.615041</td>\n",
       "      <td>4.8</td>\n",
       "      <td>133.78</td>\n",
       "      <td>445.21</td>\n",
       "      <td>830.24</td>\n",
       "      <td>1702.55</td>\n",
       "    </tr>\n",
       "    <tr>\n",
       "      <th>True</th>\n",
       "      <td>9847.0</td>\n",
       "      <td>547.657452</td>\n",
       "      <td>492.244809</td>\n",
       "      <td>4.8</td>\n",
       "      <td>133.78</td>\n",
       "      <td>445.21</td>\n",
       "      <td>827.16</td>\n",
       "      <td>1702.55</td>\n",
       "    </tr>\n",
       "  </tbody>\n",
       "</table>\n",
       "</div>"
      ],
      "text/plain": [
       "               count        mean         std  min     25%     50%     75%  \\\n",
       "online_order                                                                \n",
       "False         9473.0  553.460395  493.615041  4.8  133.78  445.21  830.24   \n",
       "True          9847.0  547.657452  492.244809  4.8  133.78  445.21  827.16   \n",
       "\n",
       "                  max  \n",
       "online_order           \n",
       "False         1702.55  \n",
       "True          1702.55  "
      ]
     },
     "execution_count": 187,
     "metadata": {},
     "output_type": "execute_result"
    }
   ],
   "source": [
    "D.groupby('online_order')[\"profit\"].describe()"
   ]
  },
  {
   "cell_type": "code",
   "execution_count": 188,
   "id": "131fd3cd-05af-4207-884d-cc52c46c91da",
   "metadata": {},
   "outputs": [
    {
     "data": {
      "text/plain": [
       "online_order\n",
       "False    5.242930e+06\n",
       "True     5.392783e+06\n",
       "Name: profit, dtype: float64"
      ]
     },
     "execution_count": 188,
     "metadata": {},
     "output_type": "execute_result"
    }
   ],
   "source": [
    "D.groupby('online_order')[\"profit\"].sum()"
   ]
  },
  {
   "cell_type": "code",
   "execution_count": 189,
   "id": "80b2e04c-d995-4130-832e-19a374e4f724",
   "metadata": {},
   "outputs": [
    {
     "data": {
      "text/plain": [
       "<seaborn.axisgrid.FacetGrid at 0x27e30365550>"
      ]
     },
     "execution_count": 189,
     "metadata": {},
     "output_type": "execute_result"
    },
    {
     "data": {
      "image/png": "[encoded data removed]",
      "text/plain": [
       "<Figure size 511.111x500 with 1 Axes>"
      ]
     },
     "metadata": {},
     "output_type": "display_data"
    }
   ],
   "source": [
    "sns.catplot(x=D['online_order'],y=D['profit'],kind='bar')"
   ]
  },
  {
   "cell_type": "code",
   "execution_count": 190,
   "id": "8c53852b-6f00-4637-90cd-674a249402ee",
   "metadata": {},
   "outputs": [
    {
     "data": {
      "text/html": [
       "<div>\n",
       "<style scoped>\n",
       "    .dataframe tbody tr th:only-of-type {\n",
       "        vertical-align: middle;\n",
       "    }\n",
       "\n",
       "    .dataframe tbody tr th {\n",
       "        vertical-align: top;\n",
       "    }\n",
       "\n",
       "    .dataframe thead th {\n",
       "        text-align: right;\n",
       "    }\n",
       "</style>\n",
       "<table border=\"1\" class=\"dataframe\">\n",
       "  <thead>\n",
       "    <tr style=\"text-align: right;\">\n",
       "      <th>product_line</th>\n",
       "      <th>Mountain</th>\n",
       "      <th>Road</th>\n",
       "      <th>Standard</th>\n",
       "      <th>Touring</th>\n",
       "      <th>All</th>\n",
       "    </tr>\n",
       "    <tr>\n",
       "      <th>brand</th>\n",
       "      <th></th>\n",
       "      <th></th>\n",
       "      <th></th>\n",
       "      <th></th>\n",
       "      <th></th>\n",
       "    </tr>\n",
       "  </thead>\n",
       "  <tbody>\n",
       "    <tr>\n",
       "      <th>Giant Bicycles</th>\n",
       "      <td>0</td>\n",
       "      <td>568</td>\n",
       "      <td>2496</td>\n",
       "      <td>172</td>\n",
       "      <td>3236</td>\n",
       "    </tr>\n",
       "    <tr>\n",
       "      <th>Norco Bicycles</th>\n",
       "      <td>195</td>\n",
       "      <td>895</td>\n",
       "      <td>1736</td>\n",
       "      <td>0</td>\n",
       "      <td>2826</td>\n",
       "    </tr>\n",
       "    <tr>\n",
       "      <th>OHM Cycles</th>\n",
       "      <td>0</td>\n",
       "      <td>763</td>\n",
       "      <td>1986</td>\n",
       "      <td>225</td>\n",
       "      <td>2974</td>\n",
       "    </tr>\n",
       "    <tr>\n",
       "      <th>Solex</th>\n",
       "      <td>0</td>\n",
       "      <td>528</td>\n",
       "      <td>3444</td>\n",
       "      <td>198</td>\n",
       "      <td>4170</td>\n",
       "    </tr>\n",
       "    <tr>\n",
       "      <th>Trek Bicycles</th>\n",
       "      <td>217</td>\n",
       "      <td>963</td>\n",
       "      <td>1733</td>\n",
       "      <td>0</td>\n",
       "      <td>2913</td>\n",
       "    </tr>\n",
       "    <tr>\n",
       "      <th>WeareA2B</th>\n",
       "      <td>0</td>\n",
       "      <td>154</td>\n",
       "      <td>2451</td>\n",
       "      <td>596</td>\n",
       "      <td>3201</td>\n",
       "    </tr>\n",
       "    <tr>\n",
       "      <th>All</th>\n",
       "      <td>412</td>\n",
       "      <td>3871</td>\n",
       "      <td>13846</td>\n",
       "      <td>1191</td>\n",
       "      <td>19320</td>\n",
       "    </tr>\n",
       "  </tbody>\n",
       "</table>\n",
       "</div>"
      ],
      "text/plain": [
       "product_line    Mountain  Road  Standard  Touring    All\n",
       "brand                                                   \n",
       "Giant Bicycles         0   568      2496      172   3236\n",
       "Norco Bicycles       195   895      1736        0   2826\n",
       "OHM Cycles             0   763      1986      225   2974\n",
       "Solex                  0   528      3444      198   4170\n",
       "Trek Bicycles        217   963      1733        0   2913\n",
       "WeareA2B               0   154      2451      596   3201\n",
       "All                  412  3871     13846     1191  19320"
      ]
     },
     "execution_count": 190,
     "metadata": {},
     "output_type": "execute_result"
    }
   ],
   "source": [
    "pd.crosstab(D['brand'],D[\"product_line\"],margins=1)"
   ]
  },
  {
   "cell_type": "code",
   "execution_count": 191,
   "id": "58254ec5-325c-476c-a9eb-0da5339e7a60",
   "metadata": {},
   "outputs": [
    {
     "data": {
      "text/html": [
       "<div>\n",
       "<style scoped>\n",
       "    .dataframe tbody tr th:only-of-type {\n",
       "        vertical-align: middle;\n",
       "    }\n",
       "\n",
       "    .dataframe tbody tr th {\n",
       "        vertical-align: top;\n",
       "    }\n",
       "\n",
       "    .dataframe thead th {\n",
       "        text-align: right;\n",
       "    }\n",
       "</style>\n",
       "<table border=\"1\" class=\"dataframe\">\n",
       "  <thead>\n",
       "    <tr style=\"text-align: right;\">\n",
       "      <th>product_class</th>\n",
       "      <th>high</th>\n",
       "      <th>low</th>\n",
       "      <th>medium</th>\n",
       "      <th>All</th>\n",
       "    </tr>\n",
       "    <tr>\n",
       "      <th>brand</th>\n",
       "      <th></th>\n",
       "      <th></th>\n",
       "      <th></th>\n",
       "      <th></th>\n",
       "    </tr>\n",
       "  </thead>\n",
       "  <tbody>\n",
       "    <tr>\n",
       "      <th>Giant Bicycles</th>\n",
       "      <td>765</td>\n",
       "      <td>193</td>\n",
       "      <td>2278</td>\n",
       "      <td>3236</td>\n",
       "    </tr>\n",
       "    <tr>\n",
       "      <th>Norco Bicycles</th>\n",
       "      <td>546</td>\n",
       "      <td>618</td>\n",
       "      <td>1662</td>\n",
       "      <td>2826</td>\n",
       "    </tr>\n",
       "    <tr>\n",
       "      <th>OHM Cycles</th>\n",
       "      <td>763</td>\n",
       "      <td>596</td>\n",
       "      <td>1615</td>\n",
       "      <td>2974</td>\n",
       "    </tr>\n",
       "    <tr>\n",
       "      <th>Solex</th>\n",
       "      <td>555</td>\n",
       "      <td>404</td>\n",
       "      <td>3211</td>\n",
       "      <td>4170</td>\n",
       "    </tr>\n",
       "    <tr>\n",
       "      <th>Trek Bicycles</th>\n",
       "      <td>316</td>\n",
       "      <td>766</td>\n",
       "      <td>1831</td>\n",
       "      <td>2913</td>\n",
       "    </tr>\n",
       "    <tr>\n",
       "      <th>WeareA2B</th>\n",
       "      <td>0</td>\n",
       "      <td>327</td>\n",
       "      <td>2874</td>\n",
       "      <td>3201</td>\n",
       "    </tr>\n",
       "    <tr>\n",
       "      <th>All</th>\n",
       "      <td>2945</td>\n",
       "      <td>2904</td>\n",
       "      <td>13471</td>\n",
       "      <td>19320</td>\n",
       "    </tr>\n",
       "  </tbody>\n",
       "</table>\n",
       "</div>"
      ],
      "text/plain": [
       "product_class   high   low  medium    All\n",
       "brand                                    \n",
       "Giant Bicycles   765   193    2278   3236\n",
       "Norco Bicycles   546   618    1662   2826\n",
       "OHM Cycles       763   596    1615   2974\n",
       "Solex            555   404    3211   4170\n",
       "Trek Bicycles    316   766    1831   2913\n",
       "WeareA2B           0   327    2874   3201\n",
       "All             2945  2904   13471  19320"
      ]
     },
     "execution_count": 191,
     "metadata": {},
     "output_type": "execute_result"
    }
   ],
   "source": [
    "pd.crosstab(D['brand'],D[\"product_class\"],margins=1)"
   ]
  },
  {
   "cell_type": "code",
   "execution_count": 192,
   "id": "6922cb88-2cbd-4102-bf71-1d64a3d19e37",
   "metadata": {},
   "outputs": [
    {
     "data": {
      "text/html": [
       "<div>\n",
       "<style scoped>\n",
       "    .dataframe tbody tr th:only-of-type {\n",
       "        vertical-align: middle;\n",
       "    }\n",
       "\n",
       "    .dataframe tbody tr th {\n",
       "        vertical-align: top;\n",
       "    }\n",
       "\n",
       "    .dataframe thead th {\n",
       "        text-align: right;\n",
       "    }\n",
       "</style>\n",
       "<table border=\"1\" class=\"dataframe\">\n",
       "  <thead>\n",
       "    <tr style=\"text-align: right;\">\n",
       "      <th>product_size</th>\n",
       "      <th>large</th>\n",
       "      <th>medium</th>\n",
       "      <th>small</th>\n",
       "      <th>All</th>\n",
       "    </tr>\n",
       "    <tr>\n",
       "      <th>brand</th>\n",
       "      <th></th>\n",
       "      <th></th>\n",
       "      <th></th>\n",
       "      <th></th>\n",
       "    </tr>\n",
       "  </thead>\n",
       "  <tbody>\n",
       "    <tr>\n",
       "      <th>Giant Bicycles</th>\n",
       "      <td>927</td>\n",
       "      <td>1741</td>\n",
       "      <td>568</td>\n",
       "      <td>3236</td>\n",
       "    </tr>\n",
       "    <tr>\n",
       "      <th>Norco Bicycles</th>\n",
       "      <td>397</td>\n",
       "      <td>1687</td>\n",
       "      <td>742</td>\n",
       "      <td>2826</td>\n",
       "    </tr>\n",
       "    <tr>\n",
       "      <th>OHM Cycles</th>\n",
       "      <td>194</td>\n",
       "      <td>2583</td>\n",
       "      <td>197</td>\n",
       "      <td>2974</td>\n",
       "    </tr>\n",
       "    <tr>\n",
       "      <th>Solex</th>\n",
       "      <td>1064</td>\n",
       "      <td>2926</td>\n",
       "      <td>180</td>\n",
       "      <td>4170</td>\n",
       "    </tr>\n",
       "    <tr>\n",
       "      <th>Trek Bicycles</th>\n",
       "      <td>881</td>\n",
       "      <td>1500</td>\n",
       "      <td>532</td>\n",
       "      <td>2913</td>\n",
       "    </tr>\n",
       "    <tr>\n",
       "      <th>WeareA2B</th>\n",
       "      <td>416</td>\n",
       "      <td>2243</td>\n",
       "      <td>542</td>\n",
       "      <td>3201</td>\n",
       "    </tr>\n",
       "    <tr>\n",
       "      <th>All</th>\n",
       "      <td>3879</td>\n",
       "      <td>12680</td>\n",
       "      <td>2761</td>\n",
       "      <td>19320</td>\n",
       "    </tr>\n",
       "  </tbody>\n",
       "</table>\n",
       "</div>"
      ],
      "text/plain": [
       "product_size    large  medium  small    All\n",
       "brand                                      \n",
       "Giant Bicycles    927    1741    568   3236\n",
       "Norco Bicycles    397    1687    742   2826\n",
       "OHM Cycles        194    2583    197   2974\n",
       "Solex            1064    2926    180   4170\n",
       "Trek Bicycles     881    1500    532   2913\n",
       "WeareA2B          416    2243    542   3201\n",
       "All              3879   12680   2761  19320"
      ]
     },
     "execution_count": 192,
     "metadata": {},
     "output_type": "execute_result"
    }
   ],
   "source": [
    "pd.crosstab(D['brand'],D[\"product_size\"],margins=1)"
   ]
  },
  {
   "cell_type": "code",
   "execution_count": 193,
   "id": "f5bb1f3e-1839-4e54-9f27-e002596ad17e",
   "metadata": {},
   "outputs": [
    {
     "data": {
      "text/html": [
       "<div>\n",
       "<style scoped>\n",
       "    .dataframe tbody tr th:only-of-type {\n",
       "        vertical-align: middle;\n",
       "    }\n",
       "\n",
       "    .dataframe tbody tr th {\n",
       "        vertical-align: top;\n",
       "    }\n",
       "\n",
       "    .dataframe thead th {\n",
       "        text-align: right;\n",
       "    }\n",
       "</style>\n",
       "<table border=\"1\" class=\"dataframe\">\n",
       "  <thead>\n",
       "    <tr style=\"text-align: right;\">\n",
       "      <th></th>\n",
       "      <th>count</th>\n",
       "      <th>mean</th>\n",
       "      <th>std</th>\n",
       "      <th>min</th>\n",
       "      <th>25%</th>\n",
       "      <th>50%</th>\n",
       "      <th>75%</th>\n",
       "      <th>max</th>\n",
       "    </tr>\n",
       "    <tr>\n",
       "      <th>brand</th>\n",
       "      <th></th>\n",
       "      <th></th>\n",
       "      <th></th>\n",
       "      <th></th>\n",
       "      <th></th>\n",
       "      <th></th>\n",
       "      <th></th>\n",
       "      <th></th>\n",
       "    </tr>\n",
       "  </thead>\n",
       "  <tbody>\n",
       "    <tr>\n",
       "      <th>Giant Bicycles</th>\n",
       "      <td>3236.0</td>\n",
       "      <td>474.802608</td>\n",
       "      <td>348.795569</td>\n",
       "      <td>41.13</td>\n",
       "      <td>198.22</td>\n",
       "      <td>448.68</td>\n",
       "      <td>641.64</td>\n",
       "      <td>1230.27</td>\n",
       "    </tr>\n",
       "    <tr>\n",
       "      <th>Norco Bicycles</th>\n",
       "      <td>2826.0</td>\n",
       "      <td>296.829883</td>\n",
       "      <td>254.523443</td>\n",
       "      <td>64.51</td>\n",
       "      <td>90.10</td>\n",
       "      <td>182.81</td>\n",
       "      <td>445.21</td>\n",
       "      <td>830.24</td>\n",
       "    </tr>\n",
       "    <tr>\n",
       "      <th>OHM Cycles</th>\n",
       "      <td>2974.0</td>\n",
       "      <td>484.739149</td>\n",
       "      <td>504.904772</td>\n",
       "      <td>4.80</td>\n",
       "      <td>91.15</td>\n",
       "      <td>199.10</td>\n",
       "      <td>771.12</td>\n",
       "      <td>1592.19</td>\n",
       "    </tr>\n",
       "    <tr>\n",
       "      <th>Solex</th>\n",
       "      <td>4170.0</td>\n",
       "      <td>564.907570</td>\n",
       "      <td>469.262309</td>\n",
       "      <td>17.87</td>\n",
       "      <td>179.44</td>\n",
       "      <td>437.46</td>\n",
       "      <td>751.02</td>\n",
       "      <td>1612.25</td>\n",
       "    </tr>\n",
       "    <tr>\n",
       "      <th>Trek Bicycles</th>\n",
       "      <td>2913.0</td>\n",
       "      <td>616.774844</td>\n",
       "      <td>598.100481</td>\n",
       "      <td>75.48</td>\n",
       "      <td>133.38</td>\n",
       "      <td>195.34</td>\n",
       "      <td>903.11</td>\n",
       "      <td>1702.55</td>\n",
       "    </tr>\n",
       "    <tr>\n",
       "      <th>WeareA2B</th>\n",
       "      <td>3201.0</td>\n",
       "      <td>833.010575</td>\n",
       "      <td>535.373355</td>\n",
       "      <td>15.08</td>\n",
       "      <td>155.65</td>\n",
       "      <td>834.94</td>\n",
       "      <td>1230.30</td>\n",
       "      <td>1660.88</td>\n",
       "    </tr>\n",
       "  </tbody>\n",
       "</table>\n",
       "</div>"
      ],
      "text/plain": [
       "                 count        mean         std    min     25%     50%  \\\n",
       "brand                                                                   \n",
       "Giant Bicycles  3236.0  474.802608  348.795569  41.13  198.22  448.68   \n",
       "Norco Bicycles  2826.0  296.829883  254.523443  64.51   90.10  182.81   \n",
       "OHM Cycles      2974.0  484.739149  504.904772   4.80   91.15  199.10   \n",
       "Solex           4170.0  564.907570  469.262309  17.87  179.44  437.46   \n",
       "Trek Bicycles   2913.0  616.774844  598.100481  75.48  133.38  195.34   \n",
       "WeareA2B        3201.0  833.010575  535.373355  15.08  155.65  834.94   \n",
       "\n",
       "                    75%      max  \n",
       "brand                             \n",
       "Giant Bicycles   641.64  1230.27  \n",
       "Norco Bicycles   445.21   830.24  \n",
       "OHM Cycles       771.12  1592.19  \n",
       "Solex            751.02  1612.25  \n",
       "Trek Bicycles    903.11  1702.55  \n",
       "WeareA2B        1230.30  1660.88  "
      ]
     },
     "execution_count": 193,
     "metadata": {},
     "output_type": "execute_result"
    }
   ],
   "source": [
    "D.groupby('brand')[\"profit\"].describe()"
   ]
  },
  {
   "cell_type": "code",
   "execution_count": 194,
   "id": "3c4c6e36-1eca-4b4d-a19d-919ca983c1e7",
   "metadata": {},
   "outputs": [
    {
     "data": {
      "text/plain": [
       "brand\n",
       "Giant Bicycles    1.536461e+06\n",
       "Norco Bicycles    8.388412e+05\n",
       "OHM Cycles        1.441614e+06\n",
       "Solex             2.355665e+06\n",
       "Trek Bicycles     1.796665e+06\n",
       "WeareA2B          2.666467e+06\n",
       "Name: profit, dtype: float64"
      ]
     },
     "execution_count": 194,
     "metadata": {},
     "output_type": "execute_result"
    }
   ],
   "source": [
    "D.groupby('brand')[\"profit\"].sum()"
   ]
  },
  {
   "cell_type": "code",
   "execution_count": 195,
   "id": "c8f1cff1-a6a9-407f-9d0d-f5e685a11e2d",
   "metadata": {},
   "outputs": [
    {
     "data": {
      "image/png": "[encoded data removed]",
      "text/plain": [
       "<Figure size 511.111x500 with 1 Axes>"
      ]
     },
     "metadata": {},
     "output_type": "display_data"
    }
   ],
   "source": [
    "sns.catplot(y=D['brand'],x=D['profit'],kind='bar')\n",
    "plt.show()"
   ]
  },
  {
   "cell_type": "code",
   "execution_count": 196,
   "id": "5230f3d3-7402-424c-b6f3-6cd7dc27c888",
   "metadata": {},
   "outputs": [
    {
     "data": {
      "image/png": "[encoded data removed]",
      "text/plain": [
       "<Figure size 511.111x500 with 1 Axes>"
      ]
     },
     "metadata": {},
     "output_type": "display_data"
    }
   ],
   "source": [
    "sns.catplot(y=D['brand'],x=D['profit'],kind='bar',estimator='sum',color='brown')\n",
    "plt.show()"
   ]
  },
  {
   "cell_type": "code",
   "execution_count": 197,
   "id": "c101f43b-9b02-4a50-affc-b87e3faadcbc",
   "metadata": {},
   "outputs": [
    {
     "data": {
      "text/html": [
       "<div>\n",
       "<style scoped>\n",
       "    .dataframe tbody tr th:only-of-type {\n",
       "        vertical-align: middle;\n",
       "    }\n",
       "\n",
       "    .dataframe tbody tr th {\n",
       "        vertical-align: top;\n",
       "    }\n",
       "\n",
       "    .dataframe thead th {\n",
       "        text-align: right;\n",
       "    }\n",
       "</style>\n",
       "<table border=\"1\" class=\"dataframe\">\n",
       "  <thead>\n",
       "    <tr style=\"text-align: right;\">\n",
       "      <th>months</th>\n",
       "      <th>April</th>\n",
       "      <th>August</th>\n",
       "      <th>December</th>\n",
       "      <th>February</th>\n",
       "      <th>January</th>\n",
       "      <th>July</th>\n",
       "      <th>June</th>\n",
       "      <th>March</th>\n",
       "      <th>May</th>\n",
       "      <th>November</th>\n",
       "      <th>October</th>\n",
       "      <th>September</th>\n",
       "      <th>All</th>\n",
       "    </tr>\n",
       "    <tr>\n",
       "      <th>brand</th>\n",
       "      <th></th>\n",
       "      <th></th>\n",
       "      <th></th>\n",
       "      <th></th>\n",
       "      <th></th>\n",
       "      <th></th>\n",
       "      <th></th>\n",
       "      <th></th>\n",
       "      <th></th>\n",
       "      <th></th>\n",
       "      <th></th>\n",
       "      <th></th>\n",
       "      <th></th>\n",
       "    </tr>\n",
       "  </thead>\n",
       "  <tbody>\n",
       "    <tr>\n",
       "      <th>Giant Bicycles</th>\n",
       "      <td>258</td>\n",
       "      <td>289</td>\n",
       "      <td>293</td>\n",
       "      <td>263</td>\n",
       "      <td>274</td>\n",
       "      <td>277</td>\n",
       "      <td>250</td>\n",
       "      <td>238</td>\n",
       "      <td>297</td>\n",
       "      <td>284</td>\n",
       "      <td>276</td>\n",
       "      <td>237</td>\n",
       "      <td>3236</td>\n",
       "    </tr>\n",
       "    <tr>\n",
       "      <th>Norco Bicycles</th>\n",
       "      <td>253</td>\n",
       "      <td>223</td>\n",
       "      <td>258</td>\n",
       "      <td>238</td>\n",
       "      <td>240</td>\n",
       "      <td>224</td>\n",
       "      <td>217</td>\n",
       "      <td>247</td>\n",
       "      <td>236</td>\n",
       "      <td>220</td>\n",
       "      <td>263</td>\n",
       "      <td>207</td>\n",
       "      <td>2826</td>\n",
       "    </tr>\n",
       "    <tr>\n",
       "      <th>OHM Cycles</th>\n",
       "      <td>247</td>\n",
       "      <td>271</td>\n",
       "      <td>226</td>\n",
       "      <td>221</td>\n",
       "      <td>257</td>\n",
       "      <td>277</td>\n",
       "      <td>251</td>\n",
       "      <td>263</td>\n",
       "      <td>224</td>\n",
       "      <td>260</td>\n",
       "      <td>249</td>\n",
       "      <td>228</td>\n",
       "      <td>2974</td>\n",
       "    </tr>\n",
       "    <tr>\n",
       "      <th>Solex</th>\n",
       "      <td>351</td>\n",
       "      <td>375</td>\n",
       "      <td>303</td>\n",
       "      <td>337</td>\n",
       "      <td>357</td>\n",
       "      <td>354</td>\n",
       "      <td>323</td>\n",
       "      <td>343</td>\n",
       "      <td>337</td>\n",
       "      <td>376</td>\n",
       "      <td>362</td>\n",
       "      <td>352</td>\n",
       "      <td>4170</td>\n",
       "    </tr>\n",
       "    <tr>\n",
       "      <th>Trek Bicycles</th>\n",
       "      <td>231</td>\n",
       "      <td>249</td>\n",
       "      <td>223</td>\n",
       "      <td>255</td>\n",
       "      <td>223</td>\n",
       "      <td>266</td>\n",
       "      <td>237</td>\n",
       "      <td>242</td>\n",
       "      <td>280</td>\n",
       "      <td>210</td>\n",
       "      <td>273</td>\n",
       "      <td>224</td>\n",
       "      <td>2913</td>\n",
       "    </tr>\n",
       "    <tr>\n",
       "      <th>WeareA2B</th>\n",
       "      <td>255</td>\n",
       "      <td>283</td>\n",
       "      <td>278</td>\n",
       "      <td>270</td>\n",
       "      <td>269</td>\n",
       "      <td>251</td>\n",
       "      <td>243</td>\n",
       "      <td>256</td>\n",
       "      <td>264</td>\n",
       "      <td>266</td>\n",
       "      <td>296</td>\n",
       "      <td>270</td>\n",
       "      <td>3201</td>\n",
       "    </tr>\n",
       "    <tr>\n",
       "      <th>All</th>\n",
       "      <td>1595</td>\n",
       "      <td>1690</td>\n",
       "      <td>1581</td>\n",
       "      <td>1584</td>\n",
       "      <td>1620</td>\n",
       "      <td>1649</td>\n",
       "      <td>1521</td>\n",
       "      <td>1589</td>\n",
       "      <td>1638</td>\n",
       "      <td>1616</td>\n",
       "      <td>1719</td>\n",
       "      <td>1518</td>\n",
       "      <td>19320</td>\n",
       "    </tr>\n",
       "  </tbody>\n",
       "</table>\n",
       "</div>"
      ],
      "text/plain": [
       "months          April  August  December  February  January  July  June  March  \\\n",
       "brand                                                                           \n",
       "Giant Bicycles    258     289       293       263      274   277   250    238   \n",
       "Norco Bicycles    253     223       258       238      240   224   217    247   \n",
       "OHM Cycles        247     271       226       221      257   277   251    263   \n",
       "Solex             351     375       303       337      357   354   323    343   \n",
       "Trek Bicycles     231     249       223       255      223   266   237    242   \n",
       "WeareA2B          255     283       278       270      269   251   243    256   \n",
       "All              1595    1690      1581      1584     1620  1649  1521   1589   \n",
       "\n",
       "months           May  November  October  September    All  \n",
       "brand                                                      \n",
       "Giant Bicycles   297       284      276        237   3236  \n",
       "Norco Bicycles   236       220      263        207   2826  \n",
       "OHM Cycles       224       260      249        228   2974  \n",
       "Solex            337       376      362        352   4170  \n",
       "Trek Bicycles    280       210      273        224   2913  \n",
       "WeareA2B         264       266      296        270   3201  \n",
       "All             1638      1616     1719       1518  19320  "
      ]
     },
     "execution_count": 197,
     "metadata": {},
     "output_type": "execute_result"
    }
   ],
   "source": [
    "pd.crosstab(D['brand'],D[\"months\"],margins=1)"
   ]
  },
  {
   "cell_type": "code",
   "execution_count": 198,
   "id": "7b31821e-faa2-4afa-bf4f-e97f9bf495fb",
   "metadata": {},
   "outputs": [
    {
     "data": {
      "text/html": [
       "<div>\n",
       "<style scoped>\n",
       "    .dataframe tbody tr th:only-of-type {\n",
       "        vertical-align: middle;\n",
       "    }\n",
       "\n",
       "    .dataframe tbody tr th {\n",
       "        vertical-align: top;\n",
       "    }\n",
       "\n",
       "    .dataframe thead th {\n",
       "        text-align: right;\n",
       "    }\n",
       "</style>\n",
       "<table border=\"1\" class=\"dataframe\">\n",
       "  <thead>\n",
       "    <tr style=\"text-align: right;\">\n",
       "      <th>gender</th>\n",
       "      <th>F</th>\n",
       "      <th>M</th>\n",
       "      <th>All</th>\n",
       "    </tr>\n",
       "    <tr>\n",
       "      <th>brand</th>\n",
       "      <th></th>\n",
       "      <th></th>\n",
       "      <th></th>\n",
       "    </tr>\n",
       "  </thead>\n",
       "  <tbody>\n",
       "    <tr>\n",
       "      <th>Giant Bicycles</th>\n",
       "      <td>353</td>\n",
       "      <td>301</td>\n",
       "      <td>654</td>\n",
       "    </tr>\n",
       "    <tr>\n",
       "      <th>Norco Bicycles</th>\n",
       "      <td>284</td>\n",
       "      <td>242</td>\n",
       "      <td>526</td>\n",
       "    </tr>\n",
       "    <tr>\n",
       "      <th>OHM Cycles</th>\n",
       "      <td>315</td>\n",
       "      <td>246</td>\n",
       "      <td>561</td>\n",
       "    </tr>\n",
       "    <tr>\n",
       "      <th>Solex</th>\n",
       "      <td>399</td>\n",
       "      <td>415</td>\n",
       "      <td>814</td>\n",
       "    </tr>\n",
       "    <tr>\n",
       "      <th>Trek Bicycles</th>\n",
       "      <td>302</td>\n",
       "      <td>293</td>\n",
       "      <td>595</td>\n",
       "    </tr>\n",
       "    <tr>\n",
       "      <th>WeareA2B</th>\n",
       "      <td>342</td>\n",
       "      <td>301</td>\n",
       "      <td>643</td>\n",
       "    </tr>\n",
       "    <tr>\n",
       "      <th>All</th>\n",
       "      <td>1995</td>\n",
       "      <td>1798</td>\n",
       "      <td>3793</td>\n",
       "    </tr>\n",
       "  </tbody>\n",
       "</table>\n",
       "</div>"
      ],
      "text/plain": [
       "gender             F     M   All\n",
       "brand                           \n",
       "Giant Bicycles   353   301   654\n",
       "Norco Bicycles   284   242   526\n",
       "OHM Cycles       315   246   561\n",
       "Solex            399   415   814\n",
       "Trek Bicycles    302   293   595\n",
       "WeareA2B         342   301   643\n",
       "All             1995  1798  3793"
      ]
     },
     "execution_count": 198,
     "metadata": {},
     "output_type": "execute_result"
    }
   ],
   "source": [
    "pd.crosstab(D['brand'],R_D[\"gender\"],margins=1)"
   ]
  },
  {
   "cell_type": "code",
   "execution_count": 199,
   "id": "2406995b-bd0e-4092-bb2a-46ffbf1b8635",
   "metadata": {},
   "outputs": [
    {
     "data": {
      "text/html": [
       "<div>\n",
       "<style scoped>\n",
       "    .dataframe tbody tr th:only-of-type {\n",
       "        vertical-align: middle;\n",
       "    }\n",
       "\n",
       "    .dataframe tbody tr th {\n",
       "        vertical-align: top;\n",
       "    }\n",
       "\n",
       "    .dataframe thead th {\n",
       "        text-align: right;\n",
       "    }\n",
       "</style>\n",
       "<table border=\"1\" class=\"dataframe\">\n",
       "  <thead>\n",
       "    <tr style=\"text-align: right;\">\n",
       "      <th>job_industry_category</th>\n",
       "      <th>Argiculture</th>\n",
       "      <th>Entertainment</th>\n",
       "      <th>Financial Services</th>\n",
       "      <th>Health</th>\n",
       "      <th>IT</th>\n",
       "      <th>Manufacturing</th>\n",
       "      <th>Others</th>\n",
       "      <th>Property</th>\n",
       "      <th>Retail</th>\n",
       "      <th>Telecommunications</th>\n",
       "      <th>All</th>\n",
       "    </tr>\n",
       "    <tr>\n",
       "      <th>brand</th>\n",
       "      <th></th>\n",
       "      <th></th>\n",
       "      <th></th>\n",
       "      <th></th>\n",
       "      <th></th>\n",
       "      <th></th>\n",
       "      <th></th>\n",
       "      <th></th>\n",
       "      <th></th>\n",
       "      <th></th>\n",
       "      <th></th>\n",
       "    </tr>\n",
       "  </thead>\n",
       "  <tbody>\n",
       "    <tr>\n",
       "      <th>Giant Bicycles</th>\n",
       "      <td>22</td>\n",
       "      <td>19</td>\n",
       "      <td>136</td>\n",
       "      <td>90</td>\n",
       "      <td>16</td>\n",
       "      <td>134</td>\n",
       "      <td>113</td>\n",
       "      <td>49</td>\n",
       "      <td>66</td>\n",
       "      <td>9</td>\n",
       "      <td>654</td>\n",
       "    </tr>\n",
       "    <tr>\n",
       "      <th>Norco Bicycles</th>\n",
       "      <td>11</td>\n",
       "      <td>12</td>\n",
       "      <td>107</td>\n",
       "      <td>75</td>\n",
       "      <td>24</td>\n",
       "      <td>100</td>\n",
       "      <td>99</td>\n",
       "      <td>41</td>\n",
       "      <td>51</td>\n",
       "      <td>6</td>\n",
       "      <td>526</td>\n",
       "    </tr>\n",
       "    <tr>\n",
       "      <th>OHM Cycles</th>\n",
       "      <td>15</td>\n",
       "      <td>28</td>\n",
       "      <td>100</td>\n",
       "      <td>90</td>\n",
       "      <td>16</td>\n",
       "      <td>113</td>\n",
       "      <td>92</td>\n",
       "      <td>40</td>\n",
       "      <td>51</td>\n",
       "      <td>16</td>\n",
       "      <td>561</td>\n",
       "    </tr>\n",
       "    <tr>\n",
       "      <th>Solex</th>\n",
       "      <td>27</td>\n",
       "      <td>30</td>\n",
       "      <td>156</td>\n",
       "      <td>130</td>\n",
       "      <td>32</td>\n",
       "      <td>170</td>\n",
       "      <td>131</td>\n",
       "      <td>49</td>\n",
       "      <td>70</td>\n",
       "      <td>19</td>\n",
       "      <td>814</td>\n",
       "    </tr>\n",
       "    <tr>\n",
       "      <th>Trek Bicycles</th>\n",
       "      <td>11</td>\n",
       "      <td>26</td>\n",
       "      <td>122</td>\n",
       "      <td>99</td>\n",
       "      <td>24</td>\n",
       "      <td>116</td>\n",
       "      <td>86</td>\n",
       "      <td>39</td>\n",
       "      <td>59</td>\n",
       "      <td>13</td>\n",
       "      <td>595</td>\n",
       "    </tr>\n",
       "    <tr>\n",
       "      <th>WeareA2B</th>\n",
       "      <td>24</td>\n",
       "      <td>15</td>\n",
       "      <td>122</td>\n",
       "      <td>97</td>\n",
       "      <td>33</td>\n",
       "      <td>138</td>\n",
       "      <td>111</td>\n",
       "      <td>41</td>\n",
       "      <td>53</td>\n",
       "      <td>9</td>\n",
       "      <td>643</td>\n",
       "    </tr>\n",
       "    <tr>\n",
       "      <th>All</th>\n",
       "      <td>110</td>\n",
       "      <td>130</td>\n",
       "      <td>743</td>\n",
       "      <td>581</td>\n",
       "      <td>145</td>\n",
       "      <td>771</td>\n",
       "      <td>632</td>\n",
       "      <td>259</td>\n",
       "      <td>350</td>\n",
       "      <td>72</td>\n",
       "      <td>3793</td>\n",
       "    </tr>\n",
       "  </tbody>\n",
       "</table>\n",
       "</div>"
      ],
      "text/plain": [
       "job_industry_category  Argiculture  Entertainment  Financial Services  Health  \\\n",
       "brand                                                                           \n",
       "Giant Bicycles                  22             19                 136      90   \n",
       "Norco Bicycles                  11             12                 107      75   \n",
       "OHM Cycles                      15             28                 100      90   \n",
       "Solex                           27             30                 156     130   \n",
       "Trek Bicycles                   11             26                 122      99   \n",
       "WeareA2B                        24             15                 122      97   \n",
       "All                            110            130                 743     581   \n",
       "\n",
       "job_industry_category   IT  Manufacturing  Others  Property  Retail  \\\n",
       "brand                                                                 \n",
       "Giant Bicycles          16            134     113        49      66   \n",
       "Norco Bicycles          24            100      99        41      51   \n",
       "OHM Cycles              16            113      92        40      51   \n",
       "Solex                   32            170     131        49      70   \n",
       "Trek Bicycles           24            116      86        39      59   \n",
       "WeareA2B                33            138     111        41      53   \n",
       "All                    145            771     632       259     350   \n",
       "\n",
       "job_industry_category  Telecommunications   All  \n",
       "brand                                            \n",
       "Giant Bicycles                          9   654  \n",
       "Norco Bicycles                          6   526  \n",
       "OHM Cycles                             16   561  \n",
       "Solex                                  19   814  \n",
       "Trek Bicycles                          13   595  \n",
       "WeareA2B                                9   643  \n",
       "All                                    72  3793  "
      ]
     },
     "execution_count": 199,
     "metadata": {},
     "output_type": "execute_result"
    }
   ],
   "source": [
    "pd.crosstab(D['brand'],R_D[\"job_industry_category\"],margins=1)"
   ]
  },
  {
   "cell_type": "code",
   "execution_count": 200,
   "id": "8f17aa3e-d74d-4d83-97bf-1bba96fff9f3",
   "metadata": {},
   "outputs": [
    {
     "data": {
      "text/html": [
       "<div>\n",
       "<style scoped>\n",
       "    .dataframe tbody tr th:only-of-type {\n",
       "        vertical-align: middle;\n",
       "    }\n",
       "\n",
       "    .dataframe tbody tr th {\n",
       "        vertical-align: top;\n",
       "    }\n",
       "\n",
       "    .dataframe thead th {\n",
       "        text-align: right;\n",
       "    }\n",
       "</style>\n",
       "<table border=\"1\" class=\"dataframe\">\n",
       "  <thead>\n",
       "    <tr style=\"text-align: right;\">\n",
       "      <th>wealth_segment</th>\n",
       "      <th>Affluent Customer</th>\n",
       "      <th>High Net Worth</th>\n",
       "      <th>Mass Customer</th>\n",
       "      <th>All</th>\n",
       "    </tr>\n",
       "    <tr>\n",
       "      <th>brand</th>\n",
       "      <th></th>\n",
       "      <th></th>\n",
       "      <th></th>\n",
       "      <th></th>\n",
       "    </tr>\n",
       "  </thead>\n",
       "  <tbody>\n",
       "    <tr>\n",
       "      <th>Giant Bicycles</th>\n",
       "      <td>0.044556</td>\n",
       "      <td>0.043238</td>\n",
       "      <td>0.084630</td>\n",
       "      <td>0.172423</td>\n",
       "    </tr>\n",
       "    <tr>\n",
       "      <th>Norco Bicycles</th>\n",
       "      <td>0.035856</td>\n",
       "      <td>0.033746</td>\n",
       "      <td>0.069075</td>\n",
       "      <td>0.138677</td>\n",
       "    </tr>\n",
       "    <tr>\n",
       "      <th>OHM Cycles</th>\n",
       "      <td>0.031374</td>\n",
       "      <td>0.037701</td>\n",
       "      <td>0.078829</td>\n",
       "      <td>0.147904</td>\n",
       "    </tr>\n",
       "    <tr>\n",
       "      <th>Solex</th>\n",
       "      <td>0.049829</td>\n",
       "      <td>0.050356</td>\n",
       "      <td>0.114421</td>\n",
       "      <td>0.214606</td>\n",
       "    </tr>\n",
       "    <tr>\n",
       "      <th>Trek Bicycles</th>\n",
       "      <td>0.038492</td>\n",
       "      <td>0.042710</td>\n",
       "      <td>0.075666</td>\n",
       "      <td>0.156868</td>\n",
       "    </tr>\n",
       "    <tr>\n",
       "      <th>WeareA2B</th>\n",
       "      <td>0.043765</td>\n",
       "      <td>0.047192</td>\n",
       "      <td>0.078566</td>\n",
       "      <td>0.169523</td>\n",
       "    </tr>\n",
       "    <tr>\n",
       "      <th>All</th>\n",
       "      <td>0.243870</td>\n",
       "      <td>0.254943</td>\n",
       "      <td>0.501186</td>\n",
       "      <td>1.000000</td>\n",
       "    </tr>\n",
       "  </tbody>\n",
       "</table>\n",
       "</div>"
      ],
      "text/plain": [
       "wealth_segment  Affluent Customer  High Net Worth  Mass Customer       All\n",
       "brand                                                                     \n",
       "Giant Bicycles           0.044556        0.043238       0.084630  0.172423\n",
       "Norco Bicycles           0.035856        0.033746       0.069075  0.138677\n",
       "OHM Cycles               0.031374        0.037701       0.078829  0.147904\n",
       "Solex                    0.049829        0.050356       0.114421  0.214606\n",
       "Trek Bicycles            0.038492        0.042710       0.075666  0.156868\n",
       "WeareA2B                 0.043765        0.047192       0.078566  0.169523\n",
       "All                      0.243870        0.254943       0.501186  1.000000"
      ]
     },
     "execution_count": 200,
     "metadata": {},
     "output_type": "execute_result"
    }
   ],
   "source": [
    "pd.crosstab(D['brand'],R_D[\"wealth_segment\"],margins=True,normalize=True)"
   ]
  },
  {
   "cell_type": "code",
   "execution_count": 201,
   "id": "dd5e063a-23f3-4e3d-8661-e49695dab867",
   "metadata": {},
   "outputs": [
    {
     "data": {
      "text/html": [
       "<div>\n",
       "<style scoped>\n",
       "    .dataframe tbody tr th:only-of-type {\n",
       "        vertical-align: middle;\n",
       "    }\n",
       "\n",
       "    .dataframe tbody tr th {\n",
       "        vertical-align: top;\n",
       "    }\n",
       "\n",
       "    .dataframe thead th {\n",
       "        text-align: right;\n",
       "    }\n",
       "</style>\n",
       "<table border=\"1\" class=\"dataframe\">\n",
       "  <thead>\n",
       "    <tr style=\"text-align: right;\">\n",
       "      <th>state</th>\n",
       "      <th>NSW</th>\n",
       "      <th>New South Wales</th>\n",
       "      <th>QLD</th>\n",
       "      <th>VIC</th>\n",
       "      <th>Victoria</th>\n",
       "      <th>All</th>\n",
       "    </tr>\n",
       "    <tr>\n",
       "      <th>brand</th>\n",
       "      <th></th>\n",
       "      <th></th>\n",
       "      <th></th>\n",
       "      <th></th>\n",
       "      <th></th>\n",
       "      <th></th>\n",
       "    </tr>\n",
       "  </thead>\n",
       "  <tbody>\n",
       "    <tr>\n",
       "      <th>Giant Bicycles</th>\n",
       "      <td>335</td>\n",
       "      <td>17</td>\n",
       "      <td>134</td>\n",
       "      <td>155</td>\n",
       "      <td>13</td>\n",
       "      <td>654</td>\n",
       "    </tr>\n",
       "    <tr>\n",
       "      <th>Norco Bicycles</th>\n",
       "      <td>278</td>\n",
       "      <td>10</td>\n",
       "      <td>110</td>\n",
       "      <td>118</td>\n",
       "      <td>10</td>\n",
       "      <td>526</td>\n",
       "    </tr>\n",
       "    <tr>\n",
       "      <th>OHM Cycles</th>\n",
       "      <td>290</td>\n",
       "      <td>10</td>\n",
       "      <td>126</td>\n",
       "      <td>124</td>\n",
       "      <td>11</td>\n",
       "      <td>561</td>\n",
       "    </tr>\n",
       "    <tr>\n",
       "      <th>Solex</th>\n",
       "      <td>423</td>\n",
       "      <td>16</td>\n",
       "      <td>169</td>\n",
       "      <td>191</td>\n",
       "      <td>15</td>\n",
       "      <td>814</td>\n",
       "    </tr>\n",
       "    <tr>\n",
       "      <th>Trek Bicycles</th>\n",
       "      <td>302</td>\n",
       "      <td>6</td>\n",
       "      <td>120</td>\n",
       "      <td>153</td>\n",
       "      <td>14</td>\n",
       "      <td>595</td>\n",
       "    </tr>\n",
       "    <tr>\n",
       "      <th>WeareA2B</th>\n",
       "      <td>328</td>\n",
       "      <td>9</td>\n",
       "      <td>141</td>\n",
       "      <td>149</td>\n",
       "      <td>16</td>\n",
       "      <td>643</td>\n",
       "    </tr>\n",
       "    <tr>\n",
       "      <th>All</th>\n",
       "      <td>1956</td>\n",
       "      <td>68</td>\n",
       "      <td>800</td>\n",
       "      <td>890</td>\n",
       "      <td>79</td>\n",
       "      <td>3793</td>\n",
       "    </tr>\n",
       "  </tbody>\n",
       "</table>\n",
       "</div>"
      ],
      "text/plain": [
       "state            NSW  New South Wales  QLD  VIC  Victoria   All\n",
       "brand                                                          \n",
       "Giant Bicycles   335               17  134  155        13   654\n",
       "Norco Bicycles   278               10  110  118        10   526\n",
       "OHM Cycles       290               10  126  124        11   561\n",
       "Solex            423               16  169  191        15   814\n",
       "Trek Bicycles    302                6  120  153        14   595\n",
       "WeareA2B         328                9  141  149        16   643\n",
       "All             1956               68  800  890        79  3793"
      ]
     },
     "execution_count": 201,
     "metadata": {},
     "output_type": "execute_result"
    }
   ],
   "source": [
    "pd.crosstab(D['brand'],R_D[\"state\"],margins=1)"
   ]
  },
  {
   "cell_type": "code",
   "execution_count": 202,
   "id": "e2450888-0551-475d-8719-126548f8c2fd",
   "metadata": {},
   "outputs": [
    {
     "data": {
      "text/html": [
       "<div>\n",
       "<style scoped>\n",
       "    .dataframe tbody tr th:only-of-type {\n",
       "        vertical-align: middle;\n",
       "    }\n",
       "\n",
       "    .dataframe tbody tr th {\n",
       "        vertical-align: top;\n",
       "    }\n",
       "\n",
       "    .dataframe thead th {\n",
       "        text-align: right;\n",
       "    }\n",
       "</style>\n",
       "<table border=\"1\" class=\"dataframe\">\n",
       "  <thead>\n",
       "    <tr style=\"text-align: right;\">\n",
       "      <th>Age_category</th>\n",
       "      <th>middle</th>\n",
       "      <th>old</th>\n",
       "      <th>senior</th>\n",
       "      <th>All</th>\n",
       "    </tr>\n",
       "    <tr>\n",
       "      <th>brand</th>\n",
       "      <th></th>\n",
       "      <th></th>\n",
       "      <th></th>\n",
       "      <th></th>\n",
       "    </tr>\n",
       "  </thead>\n",
       "  <tbody>\n",
       "    <tr>\n",
       "      <th>Giant Bicycles</th>\n",
       "      <td>82</td>\n",
       "      <td>463</td>\n",
       "      <td>109</td>\n",
       "      <td>654</td>\n",
       "    </tr>\n",
       "    <tr>\n",
       "      <th>Norco Bicycles</th>\n",
       "      <td>61</td>\n",
       "      <td>361</td>\n",
       "      <td>104</td>\n",
       "      <td>526</td>\n",
       "    </tr>\n",
       "    <tr>\n",
       "      <th>OHM Cycles</th>\n",
       "      <td>77</td>\n",
       "      <td>383</td>\n",
       "      <td>101</td>\n",
       "      <td>561</td>\n",
       "    </tr>\n",
       "    <tr>\n",
       "      <th>Solex</th>\n",
       "      <td>91</td>\n",
       "      <td>573</td>\n",
       "      <td>149</td>\n",
       "      <td>813</td>\n",
       "    </tr>\n",
       "    <tr>\n",
       "      <th>Trek Bicycles</th>\n",
       "      <td>93</td>\n",
       "      <td>391</td>\n",
       "      <td>111</td>\n",
       "      <td>595</td>\n",
       "    </tr>\n",
       "    <tr>\n",
       "      <th>WeareA2B</th>\n",
       "      <td>75</td>\n",
       "      <td>451</td>\n",
       "      <td>117</td>\n",
       "      <td>643</td>\n",
       "    </tr>\n",
       "    <tr>\n",
       "      <th>All</th>\n",
       "      <td>479</td>\n",
       "      <td>2622</td>\n",
       "      <td>691</td>\n",
       "      <td>3792</td>\n",
       "    </tr>\n",
       "  </tbody>\n",
       "</table>\n",
       "</div>"
      ],
      "text/plain": [
       "Age_category    middle   old  senior   All\n",
       "brand                                     \n",
       "Giant Bicycles      82   463     109   654\n",
       "Norco Bicycles      61   361     104   526\n",
       "OHM Cycles          77   383     101   561\n",
       "Solex               91   573     149   813\n",
       "Trek Bicycles       93   391     111   595\n",
       "WeareA2B            75   451     117   643\n",
       "All                479  2622     691  3792"
      ]
     },
     "execution_count": 202,
     "metadata": {},
     "output_type": "execute_result"
    }
   ],
   "source": [
    "pd.crosstab(D['brand'],R_D[\"Age_category\"],margins=1)"
   ]
  },
  {
   "cell_type": "code",
   "execution_count": 203,
   "id": "369a1aa1-0901-4f48-b55a-2b14c4363b22",
   "metadata": {},
   "outputs": [
    {
     "data": {
      "text/html": [
       "<div>\n",
       "<style scoped>\n",
       "    .dataframe tbody tr th:only-of-type {\n",
       "        vertical-align: middle;\n",
       "    }\n",
       "\n",
       "    .dataframe tbody tr th {\n",
       "        vertical-align: top;\n",
       "    }\n",
       "\n",
       "    .dataframe thead th {\n",
       "        text-align: right;\n",
       "    }\n",
       "</style>\n",
       "<table border=\"1\" class=\"dataframe\">\n",
       "  <thead>\n",
       "    <tr style=\"text-align: right;\">\n",
       "      <th></th>\n",
       "      <th>count</th>\n",
       "      <th>mean</th>\n",
       "      <th>std</th>\n",
       "      <th>min</th>\n",
       "      <th>25%</th>\n",
       "      <th>50%</th>\n",
       "      <th>75%</th>\n",
       "      <th>max</th>\n",
       "    </tr>\n",
       "    <tr>\n",
       "      <th>brand</th>\n",
       "      <th></th>\n",
       "      <th></th>\n",
       "      <th></th>\n",
       "      <th></th>\n",
       "      <th></th>\n",
       "      <th></th>\n",
       "      <th></th>\n",
       "      <th></th>\n",
       "    </tr>\n",
       "  </thead>\n",
       "  <tbody>\n",
       "    <tr>\n",
       "      <th>Giant Bicycles</th>\n",
       "      <td>3236.0</td>\n",
       "      <td>474.802608</td>\n",
       "      <td>348.795569</td>\n",
       "      <td>41.13</td>\n",
       "      <td>198.22</td>\n",
       "      <td>448.68</td>\n",
       "      <td>641.64</td>\n",
       "      <td>1230.27</td>\n",
       "    </tr>\n",
       "    <tr>\n",
       "      <th>Norco Bicycles</th>\n",
       "      <td>2826.0</td>\n",
       "      <td>296.829883</td>\n",
       "      <td>254.523443</td>\n",
       "      <td>64.51</td>\n",
       "      <td>90.10</td>\n",
       "      <td>182.81</td>\n",
       "      <td>445.21</td>\n",
       "      <td>830.24</td>\n",
       "    </tr>\n",
       "    <tr>\n",
       "      <th>OHM Cycles</th>\n",
       "      <td>2974.0</td>\n",
       "      <td>484.739149</td>\n",
       "      <td>504.904772</td>\n",
       "      <td>4.80</td>\n",
       "      <td>91.15</td>\n",
       "      <td>199.10</td>\n",
       "      <td>771.12</td>\n",
       "      <td>1592.19</td>\n",
       "    </tr>\n",
       "    <tr>\n",
       "      <th>Solex</th>\n",
       "      <td>4170.0</td>\n",
       "      <td>564.907570</td>\n",
       "      <td>469.262309</td>\n",
       "      <td>17.87</td>\n",
       "      <td>179.44</td>\n",
       "      <td>437.46</td>\n",
       "      <td>751.02</td>\n",
       "      <td>1612.25</td>\n",
       "    </tr>\n",
       "    <tr>\n",
       "      <th>Trek Bicycles</th>\n",
       "      <td>2913.0</td>\n",
       "      <td>616.774844</td>\n",
       "      <td>598.100481</td>\n",
       "      <td>75.48</td>\n",
       "      <td>133.38</td>\n",
       "      <td>195.34</td>\n",
       "      <td>903.11</td>\n",
       "      <td>1702.55</td>\n",
       "    </tr>\n",
       "    <tr>\n",
       "      <th>WeareA2B</th>\n",
       "      <td>3201.0</td>\n",
       "      <td>833.010575</td>\n",
       "      <td>535.373355</td>\n",
       "      <td>15.08</td>\n",
       "      <td>155.65</td>\n",
       "      <td>834.94</td>\n",
       "      <td>1230.30</td>\n",
       "      <td>1660.88</td>\n",
       "    </tr>\n",
       "  </tbody>\n",
       "</table>\n",
       "</div>"
      ],
      "text/plain": [
       "                 count        mean         std    min     25%     50%  \\\n",
       "brand                                                                   \n",
       "Giant Bicycles  3236.0  474.802608  348.795569  41.13  198.22  448.68   \n",
       "Norco Bicycles  2826.0  296.829883  254.523443  64.51   90.10  182.81   \n",
       "OHM Cycles      2974.0  484.739149  504.904772   4.80   91.15  199.10   \n",
       "Solex           4170.0  564.907570  469.262309  17.87  179.44  437.46   \n",
       "Trek Bicycles   2913.0  616.774844  598.100481  75.48  133.38  195.34   \n",
       "WeareA2B        3201.0  833.010575  535.373355  15.08  155.65  834.94   \n",
       "\n",
       "                    75%      max  \n",
       "brand                             \n",
       "Giant Bicycles   641.64  1230.27  \n",
       "Norco Bicycles   445.21   830.24  \n",
       "OHM Cycles       771.12  1592.19  \n",
       "Solex            751.02  1612.25  \n",
       "Trek Bicycles    903.11  1702.55  \n",
       "WeareA2B        1230.30  1660.88  "
      ]
     },
     "execution_count": 203,
     "metadata": {},
     "output_type": "execute_result"
    }
   ],
   "source": [
    "D.groupby('brand')[\"profit\"].describe()"
   ]
  },
  {
   "cell_type": "code",
   "execution_count": 204,
   "id": "b63cf379-231d-45f2-b17c-a9ea065e1ccf",
   "metadata": {},
   "outputs": [
    {
     "data": {
      "image/png": "[encoded data removed]",
      "text/plain": [
       "<Figure size 511.111x500 with 1 Axes>"
      ]
     },
     "metadata": {},
     "output_type": "display_data"
    }
   ],
   "source": [
    "sns.catplot(y=D['product_line'],x=D['profit'],kind='bar',estimator='sum',color='brown')\n",
    "plt.show()"
   ]
  },
  {
   "cell_type": "code",
   "execution_count": 205,
   "id": "26ce6636-3f9e-4aec-acad-c671a57c1e4d",
   "metadata": {},
   "outputs": [
    {
     "data": {
      "image/png": "[encoded data removed]",
      "text/plain": [
       "<Figure size 511.111x500 with 1 Axes>"
      ]
     },
     "metadata": {},
     "output_type": "display_data"
    }
   ],
   "source": [
    "sns.catplot(y=D['product_line'],x=D['profit'],kind='bar',estimator='mean',color='brown')\n",
    "plt.show()"
   ]
  },
  {
   "cell_type": "code",
   "execution_count": 206,
   "id": "04f421b1-f8dd-4ef0-b644-e0b18f8b0159",
   "metadata": {},
   "outputs": [
    {
     "data": {
      "text/html": [
       "<div>\n",
       "<style scoped>\n",
       "    .dataframe tbody tr th:only-of-type {\n",
       "        vertical-align: middle;\n",
       "    }\n",
       "\n",
       "    .dataframe tbody tr th {\n",
       "        vertical-align: top;\n",
       "    }\n",
       "\n",
       "    .dataframe thead th {\n",
       "        text-align: right;\n",
       "    }\n",
       "</style>\n",
       "<table border=\"1\" class=\"dataframe\">\n",
       "  <thead>\n",
       "    <tr style=\"text-align: right;\">\n",
       "      <th></th>\n",
       "      <th>count</th>\n",
       "      <th>mean</th>\n",
       "      <th>std</th>\n",
       "      <th>min</th>\n",
       "      <th>25%</th>\n",
       "      <th>50%</th>\n",
       "      <th>75%</th>\n",
       "      <th>max</th>\n",
       "    </tr>\n",
       "    <tr>\n",
       "      <th>product_size</th>\n",
       "      <th></th>\n",
       "      <th></th>\n",
       "      <th></th>\n",
       "      <th></th>\n",
       "      <th></th>\n",
       "      <th></th>\n",
       "      <th></th>\n",
       "      <th></th>\n",
       "    </tr>\n",
       "  </thead>\n",
       "  <tbody>\n",
       "    <tr>\n",
       "      <th>large</th>\n",
       "      <td>3879.0</td>\n",
       "      <td>915.289750</td>\n",
       "      <td>538.247060</td>\n",
       "      <td>4.80</td>\n",
       "      <td>445.21</td>\n",
       "      <td>957.02</td>\n",
       "      <td>1305.25</td>\n",
       "      <td>1702.55</td>\n",
       "    </tr>\n",
       "    <tr>\n",
       "      <th>medium</th>\n",
       "      <td>12680.0</td>\n",
       "      <td>527.875921</td>\n",
       "      <td>450.960770</td>\n",
       "      <td>14.23</td>\n",
       "      <td>133.38</td>\n",
       "      <td>448.68</td>\n",
       "      <td>802.26</td>\n",
       "      <td>1660.88</td>\n",
       "    </tr>\n",
       "    <tr>\n",
       "      <th>small</th>\n",
       "      <td>2761.0</td>\n",
       "      <td>141.918740</td>\n",
       "      <td>54.656008</td>\n",
       "      <td>43.97</td>\n",
       "      <td>75.75</td>\n",
       "      <td>152.55</td>\n",
       "      <td>189.28</td>\n",
       "      <td>217.51</td>\n",
       "    </tr>\n",
       "  </tbody>\n",
       "</table>\n",
       "</div>"
      ],
      "text/plain": [
       "                count        mean         std    min     25%     50%      75%  \\\n",
       "product_size                                                                    \n",
       "large          3879.0  915.289750  538.247060   4.80  445.21  957.02  1305.25   \n",
       "medium        12680.0  527.875921  450.960770  14.23  133.38  448.68   802.26   \n",
       "small          2761.0  141.918740   54.656008  43.97   75.75  152.55   189.28   \n",
       "\n",
       "                  max  \n",
       "product_size           \n",
       "large         1702.55  \n",
       "medium        1660.88  \n",
       "small          217.51  "
      ]
     },
     "execution_count": 206,
     "metadata": {},
     "output_type": "execute_result"
    }
   ],
   "source": [
    "D.groupby('product_size')[\"profit\"].describe()"
   ]
  },
  {
   "cell_type": "code",
   "execution_count": 207,
   "id": "df1ebead-ce7c-41d4-a7ab-3aa8e2f7b37f",
   "metadata": {},
   "outputs": [
    {
     "data": {
      "image/png": "[encoded data removed]",
      "text/plain": [
       "<Figure size 511.111x500 with 1 Axes>"
      ]
     },
     "metadata": {},
     "output_type": "display_data"
    }
   ],
   "source": [
    "sns.catplot(y=D['product_size'],x=D['profit'],kind='bar',estimator='mean',color='brown')\n",
    "plt.show()"
   ]
  },
  {
   "cell_type": "code",
   "execution_count": 208,
   "id": "65f6e47f-9de2-4eff-8ae0-7d3b17296c55",
   "metadata": {},
   "outputs": [
    {
     "data": {
      "image/png": "[encoded data removed]",
      "text/plain": [
       "<Figure size 511.111x500 with 1 Axes>"
      ]
     },
     "metadata": {},
     "output_type": "display_data"
    }
   ],
   "source": [
    "sns.catplot(y=D['product_size'],x=D['profit'],kind='bar',estimator='sum',color='brown')\n",
    "plt.show()"
   ]
  },
  {
   "cell_type": "code",
   "execution_count": 209,
   "id": "d1ae9150-95b8-4ffd-ab7c-c6bfafd6cd3c",
   "metadata": {},
   "outputs": [
    {
     "data": {
      "text/html": [
       "<div>\n",
       "<style scoped>\n",
       "    .dataframe tbody tr th:only-of-type {\n",
       "        vertical-align: middle;\n",
       "    }\n",
       "\n",
       "    .dataframe tbody tr th {\n",
       "        vertical-align: top;\n",
       "    }\n",
       "\n",
       "    .dataframe thead th {\n",
       "        text-align: right;\n",
       "    }\n",
       "</style>\n",
       "<table border=\"1\" class=\"dataframe\">\n",
       "  <thead>\n",
       "    <tr style=\"text-align: right;\">\n",
       "      <th></th>\n",
       "      <th>count</th>\n",
       "      <th>mean</th>\n",
       "      <th>std</th>\n",
       "      <th>min</th>\n",
       "      <th>25%</th>\n",
       "      <th>50%</th>\n",
       "      <th>75%</th>\n",
       "      <th>max</th>\n",
       "    </tr>\n",
       "    <tr>\n",
       "      <th>product_class</th>\n",
       "      <th></th>\n",
       "      <th></th>\n",
       "      <th></th>\n",
       "      <th></th>\n",
       "      <th></th>\n",
       "      <th></th>\n",
       "      <th></th>\n",
       "      <th></th>\n",
       "    </tr>\n",
       "  </thead>\n",
       "  <tbody>\n",
       "    <tr>\n",
       "      <th>high</th>\n",
       "      <td>2945.0</td>\n",
       "      <td>370.663301</td>\n",
       "      <td>219.594681</td>\n",
       "      <td>4.80</td>\n",
       "      <td>198.29</td>\n",
       "      <td>409.86</td>\n",
       "      <td>509.97</td>\n",
       "      <td>802.26</td>\n",
       "    </tr>\n",
       "    <tr>\n",
       "      <th>low</th>\n",
       "      <td>2904.0</td>\n",
       "      <td>404.889091</td>\n",
       "      <td>464.707501</td>\n",
       "      <td>14.23</td>\n",
       "      <td>75.75</td>\n",
       "      <td>139.23</td>\n",
       "      <td>745.94</td>\n",
       "      <td>1544.61</td>\n",
       "    </tr>\n",
       "    <tr>\n",
       "      <th>medium</th>\n",
       "      <td>13471.0</td>\n",
       "      <td>621.209407</td>\n",
       "      <td>524.157221</td>\n",
       "      <td>15.08</td>\n",
       "      <td>143.82</td>\n",
       "      <td>456.45</td>\n",
       "      <td>1028.76</td>\n",
       "      <td>1702.55</td>\n",
       "    </tr>\n",
       "  </tbody>\n",
       "</table>\n",
       "</div>"
      ],
      "text/plain": [
       "                 count        mean         std    min     25%     50%  \\\n",
       "product_class                                                           \n",
       "high            2945.0  370.663301  219.594681   4.80  198.29  409.86   \n",
       "low             2904.0  404.889091  464.707501  14.23   75.75  139.23   \n",
       "medium         13471.0  621.209407  524.157221  15.08  143.82  456.45   \n",
       "\n",
       "                   75%      max  \n",
       "product_class                    \n",
       "high            509.97   802.26  \n",
       "low             745.94  1544.61  \n",
       "medium         1028.76  1702.55  "
      ]
     },
     "execution_count": 209,
     "metadata": {},
     "output_type": "execute_result"
    }
   ],
   "source": [
    "D.groupby('product_class')[\"profit\"].describe()"
   ]
  },
  {
   "cell_type": "code",
   "execution_count": 210,
   "id": "62860f59-9e31-4dfa-bf9b-d8a88dcba5d3",
   "metadata": {},
   "outputs": [
    {
     "data": {
      "text/html": [
       "<div>\n",
       "<style scoped>\n",
       "    .dataframe tbody tr th:only-of-type {\n",
       "        vertical-align: middle;\n",
       "    }\n",
       "\n",
       "    .dataframe tbody tr th {\n",
       "        vertical-align: top;\n",
       "    }\n",
       "\n",
       "    .dataframe thead th {\n",
       "        text-align: right;\n",
       "    }\n",
       "</style>\n",
       "<table border=\"1\" class=\"dataframe\">\n",
       "  <thead>\n",
       "    <tr style=\"text-align: right;\">\n",
       "      <th></th>\n",
       "      <th>count</th>\n",
       "      <th>mean</th>\n",
       "      <th>std</th>\n",
       "      <th>min</th>\n",
       "      <th>25%</th>\n",
       "      <th>50%</th>\n",
       "      <th>75%</th>\n",
       "      <th>max</th>\n",
       "    </tr>\n",
       "    <tr>\n",
       "      <th>months</th>\n",
       "      <th></th>\n",
       "      <th></th>\n",
       "      <th></th>\n",
       "      <th></th>\n",
       "      <th></th>\n",
       "      <th></th>\n",
       "      <th></th>\n",
       "      <th></th>\n",
       "    </tr>\n",
       "  </thead>\n",
       "  <tbody>\n",
       "    <tr>\n",
       "      <th>April</th>\n",
       "      <td>1595.0</td>\n",
       "      <td>550.002013</td>\n",
       "      <td>494.176362</td>\n",
       "      <td>4.8</td>\n",
       "      <td>133.78</td>\n",
       "      <td>437.46</td>\n",
       "      <td>828.70</td>\n",
       "      <td>1702.55</td>\n",
       "    </tr>\n",
       "    <tr>\n",
       "      <th>August</th>\n",
       "      <td>1690.0</td>\n",
       "      <td>555.902166</td>\n",
       "      <td>494.727187</td>\n",
       "      <td>4.8</td>\n",
       "      <td>135.85</td>\n",
       "      <td>445.21</td>\n",
       "      <td>827.16</td>\n",
       "      <td>1702.55</td>\n",
       "    </tr>\n",
       "    <tr>\n",
       "      <th>December</th>\n",
       "      <td>1581.0</td>\n",
       "      <td>539.895629</td>\n",
       "      <td>487.624333</td>\n",
       "      <td>4.8</td>\n",
       "      <td>133.78</td>\n",
       "      <td>437.46</td>\n",
       "      <td>827.16</td>\n",
       "      <td>1702.55</td>\n",
       "    </tr>\n",
       "    <tr>\n",
       "      <th>February</th>\n",
       "      <td>1584.0</td>\n",
       "      <td>539.297771</td>\n",
       "      <td>481.231669</td>\n",
       "      <td>4.8</td>\n",
       "      <td>135.85</td>\n",
       "      <td>437.46</td>\n",
       "      <td>817.36</td>\n",
       "      <td>1702.55</td>\n",
       "    </tr>\n",
       "    <tr>\n",
       "      <th>January</th>\n",
       "      <td>1620.0</td>\n",
       "      <td>557.480216</td>\n",
       "      <td>499.752704</td>\n",
       "      <td>4.8</td>\n",
       "      <td>135.85</td>\n",
       "      <td>445.21</td>\n",
       "      <td>827.16</td>\n",
       "      <td>1702.55</td>\n",
       "    </tr>\n",
       "    <tr>\n",
       "      <th>July</th>\n",
       "      <td>1649.0</td>\n",
       "      <td>551.147956</td>\n",
       "      <td>499.959634</td>\n",
       "      <td>4.8</td>\n",
       "      <td>129.01</td>\n",
       "      <td>437.46</td>\n",
       "      <td>830.24</td>\n",
       "      <td>1702.55</td>\n",
       "    </tr>\n",
       "    <tr>\n",
       "      <th>June</th>\n",
       "      <td>1521.0</td>\n",
       "      <td>546.839198</td>\n",
       "      <td>483.150303</td>\n",
       "      <td>4.8</td>\n",
       "      <td>135.85</td>\n",
       "      <td>445.21</td>\n",
       "      <td>827.16</td>\n",
       "      <td>1702.55</td>\n",
       "    </tr>\n",
       "    <tr>\n",
       "      <th>March</th>\n",
       "      <td>1589.0</td>\n",
       "      <td>536.761378</td>\n",
       "      <td>485.773830</td>\n",
       "      <td>4.8</td>\n",
       "      <td>129.01</td>\n",
       "      <td>437.46</td>\n",
       "      <td>817.36</td>\n",
       "      <td>1702.55</td>\n",
       "    </tr>\n",
       "    <tr>\n",
       "      <th>May</th>\n",
       "      <td>1638.0</td>\n",
       "      <td>548.453883</td>\n",
       "      <td>489.984818</td>\n",
       "      <td>4.8</td>\n",
       "      <td>133.78</td>\n",
       "      <td>445.21</td>\n",
       "      <td>829.47</td>\n",
       "      <td>1702.55</td>\n",
       "    </tr>\n",
       "    <tr>\n",
       "      <th>November</th>\n",
       "      <td>1616.0</td>\n",
       "      <td>559.674901</td>\n",
       "      <td>512.682334</td>\n",
       "      <td>4.8</td>\n",
       "      <td>133.78</td>\n",
       "      <td>437.46</td>\n",
       "      <td>834.94</td>\n",
       "      <td>1702.55</td>\n",
       "    </tr>\n",
       "    <tr>\n",
       "      <th>October</th>\n",
       "      <td>1719.0</td>\n",
       "      <td>564.205971</td>\n",
       "      <td>492.805652</td>\n",
       "      <td>4.8</td>\n",
       "      <td>135.85</td>\n",
       "      <td>448.68</td>\n",
       "      <td>830.24</td>\n",
       "      <td>1702.55</td>\n",
       "    </tr>\n",
       "    <tr>\n",
       "      <th>September</th>\n",
       "      <td>1518.0</td>\n",
       "      <td>554.593794</td>\n",
       "      <td>491.835658</td>\n",
       "      <td>4.8</td>\n",
       "      <td>133.78</td>\n",
       "      <td>445.21</td>\n",
       "      <td>827.16</td>\n",
       "      <td>1702.55</td>\n",
       "    </tr>\n",
       "  </tbody>\n",
       "</table>\n",
       "</div>"
      ],
      "text/plain": [
       "            count        mean         std  min     25%     50%     75%  \\\n",
       "months                                                                   \n",
       "April      1595.0  550.002013  494.176362  4.8  133.78  437.46  828.70   \n",
       "August     1690.0  555.902166  494.727187  4.8  135.85  445.21  827.16   \n",
       "December   1581.0  539.895629  487.624333  4.8  133.78  437.46  827.16   \n",
       "February   1584.0  539.297771  481.231669  4.8  135.85  437.46  817.36   \n",
       "January    1620.0  557.480216  499.752704  4.8  135.85  445.21  827.16   \n",
       "July       1649.0  551.147956  499.959634  4.8  129.01  437.46  830.24   \n",
       "June       1521.0  546.839198  483.150303  4.8  135.85  445.21  827.16   \n",
       "March      1589.0  536.761378  485.773830  4.8  129.01  437.46  817.36   \n",
       "May        1638.0  548.453883  489.984818  4.8  133.78  445.21  829.47   \n",
       "November   1616.0  559.674901  512.682334  4.8  133.78  437.46  834.94   \n",
       "October    1719.0  564.205971  492.805652  4.8  135.85  448.68  830.24   \n",
       "September  1518.0  554.593794  491.835658  4.8  133.78  445.21  827.16   \n",
       "\n",
       "               max  \n",
       "months              \n",
       "April      1702.55  \n",
       "August     1702.55  \n",
       "December   1702.55  \n",
       "February   1702.55  \n",
       "January    1702.55  \n",
       "July       1702.55  \n",
       "June       1702.55  \n",
       "March      1702.55  \n",
       "May        1702.55  \n",
       "November   1702.55  \n",
       "October    1702.55  \n",
       "September  1702.55  "
      ]
     },
     "execution_count": 210,
     "metadata": {},
     "output_type": "execute_result"
    }
   ],
   "source": [
    "D.groupby('months')[\"profit\"].describe()"
   ]
  },
  {
   "cell_type": "code",
   "execution_count": 211,
   "id": "40885711-6de4-4044-b6c9-a0c8d4d0bb30",
   "metadata": {},
   "outputs": [
    {
     "data": {
      "image/png": "[encoded data removed]",
      "text/plain": [
       "<Figure size 511.111x500 with 1 Axes>"
      ]
     },
     "metadata": {},
     "output_type": "display_data"
    }
   ],
   "source": [
    "sns.catplot(y=D['months'],x=D['profit'],kind='bar',estimator='sum',color='brown')\n",
    "plt.show()"
   ]
  },
  {
   "cell_type": "code",
   "execution_count": 212,
   "id": "caf794c3-9c88-425b-8f95-5bab09901854",
   "metadata": {},
   "outputs": [
    {
     "data": {
      "text/html": [
       "<div>\n",
       "<style scoped>\n",
       "    .dataframe tbody tr th:only-of-type {\n",
       "        vertical-align: middle;\n",
       "    }\n",
       "\n",
       "    .dataframe tbody tr th {\n",
       "        vertical-align: top;\n",
       "    }\n",
       "\n",
       "    .dataframe thead th {\n",
       "        text-align: right;\n",
       "    }\n",
       "</style>\n",
       "<table border=\"1\" class=\"dataframe\">\n",
       "  <thead>\n",
       "    <tr style=\"text-align: right;\">\n",
       "      <th></th>\n",
       "      <th>count</th>\n",
       "      <th>mean</th>\n",
       "      <th>std</th>\n",
       "      <th>min</th>\n",
       "      <th>25%</th>\n",
       "      <th>50%</th>\n",
       "      <th>75%</th>\n",
       "      <th>max</th>\n",
       "    </tr>\n",
       "    <tr>\n",
       "      <th>job_industry_category</th>\n",
       "      <th></th>\n",
       "      <th></th>\n",
       "      <th></th>\n",
       "      <th></th>\n",
       "      <th></th>\n",
       "      <th></th>\n",
       "      <th></th>\n",
       "      <th></th>\n",
       "    </tr>\n",
       "  </thead>\n",
       "  <tbody>\n",
       "    <tr>\n",
       "      <th>Argiculture</th>\n",
       "      <td>566.0</td>\n",
       "      <td>535.320406</td>\n",
       "      <td>474.110701</td>\n",
       "      <td>4.8</td>\n",
       "      <td>136.695</td>\n",
       "      <td>437.460</td>\n",
       "      <td>812.44</td>\n",
       "      <td>1702.55</td>\n",
       "    </tr>\n",
       "    <tr>\n",
       "      <th>Entertainment</th>\n",
       "      <td>694.0</td>\n",
       "      <td>556.353674</td>\n",
       "      <td>486.892793</td>\n",
       "      <td>4.8</td>\n",
       "      <td>139.230</td>\n",
       "      <td>445.210</td>\n",
       "      <td>834.94</td>\n",
       "      <td>1702.55</td>\n",
       "    </tr>\n",
       "    <tr>\n",
       "      <th>Financial Services</th>\n",
       "      <td>3798.0</td>\n",
       "      <td>560.874737</td>\n",
       "      <td>498.472305</td>\n",
       "      <td>4.8</td>\n",
       "      <td>133.780</td>\n",
       "      <td>448.680</td>\n",
       "      <td>834.94</td>\n",
       "      <td>1702.55</td>\n",
       "    </tr>\n",
       "    <tr>\n",
       "      <th>Health</th>\n",
       "      <td>3040.0</td>\n",
       "      <td>541.074595</td>\n",
       "      <td>494.654266</td>\n",
       "      <td>4.8</td>\n",
       "      <td>133.380</td>\n",
       "      <td>431.330</td>\n",
       "      <td>827.16</td>\n",
       "      <td>1702.55</td>\n",
       "    </tr>\n",
       "    <tr>\n",
       "      <th>IT</th>\n",
       "      <td>691.0</td>\n",
       "      <td>541.469942</td>\n",
       "      <td>508.875936</td>\n",
       "      <td>4.8</td>\n",
       "      <td>133.580</td>\n",
       "      <td>409.860</td>\n",
       "      <td>817.36</td>\n",
       "      <td>1702.55</td>\n",
       "    </tr>\n",
       "    <tr>\n",
       "      <th>Manufacturing</th>\n",
       "      <td>3962.0</td>\n",
       "      <td>545.074717</td>\n",
       "      <td>488.689712</td>\n",
       "      <td>4.8</td>\n",
       "      <td>133.780</td>\n",
       "      <td>445.210</td>\n",
       "      <td>827.16</td>\n",
       "      <td>1702.55</td>\n",
       "    </tr>\n",
       "    <tr>\n",
       "      <th>Others</th>\n",
       "      <td>3192.0</td>\n",
       "      <td>553.930705</td>\n",
       "      <td>492.310624</td>\n",
       "      <td>4.8</td>\n",
       "      <td>135.850</td>\n",
       "      <td>445.210</td>\n",
       "      <td>827.93</td>\n",
       "      <td>1702.55</td>\n",
       "    </tr>\n",
       "    <tr>\n",
       "      <th>Property</th>\n",
       "      <td>1278.0</td>\n",
       "      <td>547.839789</td>\n",
       "      <td>485.115211</td>\n",
       "      <td>4.8</td>\n",
       "      <td>135.850</td>\n",
       "      <td>445.210</td>\n",
       "      <td>827.16</td>\n",
       "      <td>1702.55</td>\n",
       "    </tr>\n",
       "    <tr>\n",
       "      <th>Retail</th>\n",
       "      <td>1747.0</td>\n",
       "      <td>562.172642</td>\n",
       "      <td>497.093056</td>\n",
       "      <td>4.8</td>\n",
       "      <td>135.850</td>\n",
       "      <td>448.680</td>\n",
       "      <td>872.89</td>\n",
       "      <td>1702.55</td>\n",
       "    </tr>\n",
       "    <tr>\n",
       "      <th>Telecommunications</th>\n",
       "      <td>352.0</td>\n",
       "      <td>532.386392</td>\n",
       "      <td>489.376784</td>\n",
       "      <td>4.8</td>\n",
       "      <td>135.850</td>\n",
       "      <td>434.395</td>\n",
       "      <td>827.16</td>\n",
       "      <td>1702.55</td>\n",
       "    </tr>\n",
       "  </tbody>\n",
       "</table>\n",
       "</div>"
      ],
      "text/plain": [
       "                        count        mean         std  min      25%      50%  \\\n",
       "job_industry_category                                                          \n",
       "Argiculture             566.0  535.320406  474.110701  4.8  136.695  437.460   \n",
       "Entertainment           694.0  556.353674  486.892793  4.8  139.230  445.210   \n",
       "Financial Services     3798.0  560.874737  498.472305  4.8  133.780  448.680   \n",
       "Health                 3040.0  541.074595  494.654266  4.8  133.380  431.330   \n",
       "IT                      691.0  541.469942  508.875936  4.8  133.580  409.860   \n",
       "Manufacturing          3962.0  545.074717  488.689712  4.8  133.780  445.210   \n",
       "Others                 3192.0  553.930705  492.310624  4.8  135.850  445.210   \n",
       "Property               1278.0  547.839789  485.115211  4.8  135.850  445.210   \n",
       "Retail                 1747.0  562.172642  497.093056  4.8  135.850  448.680   \n",
       "Telecommunications      352.0  532.386392  489.376784  4.8  135.850  434.395   \n",
       "\n",
       "                          75%      max  \n",
       "job_industry_category                   \n",
       "Argiculture            812.44  1702.55  \n",
       "Entertainment          834.94  1702.55  \n",
       "Financial Services     834.94  1702.55  \n",
       "Health                 827.16  1702.55  \n",
       "IT                     817.36  1702.55  \n",
       "Manufacturing          827.16  1702.55  \n",
       "Others                 827.93  1702.55  \n",
       "Property               827.16  1702.55  \n",
       "Retail                 872.89  1702.55  \n",
       "Telecommunications     827.16  1702.55  "
      ]
     },
     "execution_count": 212,
     "metadata": {},
     "output_type": "execute_result"
    }
   ],
   "source": [
    "D.groupby('job_industry_category')[\"profit\"].describe()"
   ]
  },
  {
   "cell_type": "code",
   "execution_count": 213,
   "id": "d1d427f7-d7d6-4afd-9bd5-92c2a88d7ae1",
   "metadata": {},
   "outputs": [
    {
     "data": {
      "image/png": "[encoded data removed]",
      "text/plain": [
       "<Figure size 511.111x500 with 1 Axes>"
      ]
     },
     "metadata": {},
     "output_type": "display_data"
    }
   ],
   "source": [
    "sns.catplot(y=D['job_industry_category'],x=D['profit'],kind='bar',estimator='mean',color='brown')\n",
    "plt.show()"
   ]
  },
  {
   "cell_type": "code",
   "execution_count": 214,
   "id": "9ae9e42a-4253-4a6b-bd3f-9b483e1f21aa",
   "metadata": {},
   "outputs": [
    {
     "data": {
      "text/html": [
       "<div>\n",
       "<style scoped>\n",
       "    .dataframe tbody tr th:only-of-type {\n",
       "        vertical-align: middle;\n",
       "    }\n",
       "\n",
       "    .dataframe tbody tr th {\n",
       "        vertical-align: top;\n",
       "    }\n",
       "\n",
       "    .dataframe thead th {\n",
       "        text-align: right;\n",
       "    }\n",
       "</style>\n",
       "<table border=\"1\" class=\"dataframe\">\n",
       "  <thead>\n",
       "    <tr style=\"text-align: right;\">\n",
       "      <th></th>\n",
       "      <th>count</th>\n",
       "      <th>mean</th>\n",
       "      <th>std</th>\n",
       "      <th>min</th>\n",
       "      <th>25%</th>\n",
       "      <th>50%</th>\n",
       "      <th>75%</th>\n",
       "      <th>max</th>\n",
       "    </tr>\n",
       "    <tr>\n",
       "      <th>wealth_segment</th>\n",
       "      <th></th>\n",
       "      <th></th>\n",
       "      <th></th>\n",
       "      <th></th>\n",
       "      <th></th>\n",
       "      <th></th>\n",
       "      <th></th>\n",
       "      <th></th>\n",
       "    </tr>\n",
       "  </thead>\n",
       "  <tbody>\n",
       "    <tr>\n",
       "      <th>Affluent Customer</th>\n",
       "      <td>4712.0</td>\n",
       "      <td>554.815335</td>\n",
       "      <td>493.753028</td>\n",
       "      <td>4.8</td>\n",
       "      <td>135.3325</td>\n",
       "      <td>448.68</td>\n",
       "      <td>830.24</td>\n",
       "      <td>1702.55</td>\n",
       "    </tr>\n",
       "    <tr>\n",
       "      <th>High Net Worth</th>\n",
       "      <td>4926.0</td>\n",
       "      <td>548.484895</td>\n",
       "      <td>495.615797</td>\n",
       "      <td>4.8</td>\n",
       "      <td>133.7800</td>\n",
       "      <td>445.21</td>\n",
       "      <td>830.24</td>\n",
       "      <td>1702.55</td>\n",
       "    </tr>\n",
       "    <tr>\n",
       "      <th>Mass Customer</th>\n",
       "      <td>9682.0</td>\n",
       "      <td>549.430572</td>\n",
       "      <td>491.160296</td>\n",
       "      <td>4.8</td>\n",
       "      <td>133.7800</td>\n",
       "      <td>445.21</td>\n",
       "      <td>827.16</td>\n",
       "      <td>1702.55</td>\n",
       "    </tr>\n",
       "  </tbody>\n",
       "</table>\n",
       "</div>"
      ],
      "text/plain": [
       "                    count        mean         std  min       25%     50%  \\\n",
       "wealth_segment                                                             \n",
       "Affluent Customer  4712.0  554.815335  493.753028  4.8  135.3325  448.68   \n",
       "High Net Worth     4926.0  548.484895  495.615797  4.8  133.7800  445.21   \n",
       "Mass Customer      9682.0  549.430572  491.160296  4.8  133.7800  445.21   \n",
       "\n",
       "                      75%      max  \n",
       "wealth_segment                      \n",
       "Affluent Customer  830.24  1702.55  \n",
       "High Net Worth     830.24  1702.55  \n",
       "Mass Customer      827.16  1702.55  "
      ]
     },
     "execution_count": 214,
     "metadata": {},
     "output_type": "execute_result"
    }
   ],
   "source": [
    "D.groupby('wealth_segment')[\"profit\"].describe()"
   ]
  },
  {
   "cell_type": "code",
   "execution_count": 215,
   "id": "3880f33f-c08e-4f45-9394-c6c71f0af948",
   "metadata": {},
   "outputs": [
    {
     "data": {
      "image/png": "[encoded data removed]",
      "text/plain": [
       "<Figure size 511.111x500 with 1 Axes>"
      ]
     },
     "metadata": {},
     "output_type": "display_data"
    }
   ],
   "source": [
    "sns.catplot(y=D['wealth_segment'],x=D['profit'],kind='bar',estimator='mean',color='brown')\n",
    "plt.show()"
   ]
  },
  {
   "cell_type": "code",
   "execution_count": 216,
   "id": "b7ee511e-0cde-4925-b66d-c0e31f2b59ad",
   "metadata": {},
   "outputs": [
    {
     "data": {
      "text/html": [
       "<div>\n",
       "<style scoped>\n",
       "    .dataframe tbody tr th:only-of-type {\n",
       "        vertical-align: middle;\n",
       "    }\n",
       "\n",
       "    .dataframe tbody tr th {\n",
       "        vertical-align: top;\n",
       "    }\n",
       "\n",
       "    .dataframe thead th {\n",
       "        text-align: right;\n",
       "    }\n",
       "</style>\n",
       "<table border=\"1\" class=\"dataframe\">\n",
       "  <thead>\n",
       "    <tr style=\"text-align: right;\">\n",
       "      <th>wealth_segment</th>\n",
       "      <th>Affluent Customer</th>\n",
       "      <th>High Net Worth</th>\n",
       "      <th>Mass Customer</th>\n",
       "      <th>All</th>\n",
       "    </tr>\n",
       "    <tr>\n",
       "      <th>state</th>\n",
       "      <th></th>\n",
       "      <th></th>\n",
       "      <th></th>\n",
       "      <th></th>\n",
       "    </tr>\n",
       "  </thead>\n",
       "  <tbody>\n",
       "    <tr>\n",
       "      <th>NSW</th>\n",
       "      <td>486</td>\n",
       "      <td>519</td>\n",
       "      <td>998</td>\n",
       "      <td>2003</td>\n",
       "    </tr>\n",
       "    <tr>\n",
       "      <th>New South Wales</th>\n",
       "      <td>28</td>\n",
       "      <td>16</td>\n",
       "      <td>41</td>\n",
       "      <td>85</td>\n",
       "    </tr>\n",
       "    <tr>\n",
       "      <th>QLD</th>\n",
       "      <td>209</td>\n",
       "      <td>205</td>\n",
       "      <td>407</td>\n",
       "      <td>821</td>\n",
       "    </tr>\n",
       "    <tr>\n",
       "      <th>VIC</th>\n",
       "      <td>215</td>\n",
       "      <td>238</td>\n",
       "      <td>465</td>\n",
       "      <td>918</td>\n",
       "    </tr>\n",
       "    <tr>\n",
       "      <th>Victoria</th>\n",
       "      <td>23</td>\n",
       "      <td>17</td>\n",
       "      <td>39</td>\n",
       "      <td>79</td>\n",
       "    </tr>\n",
       "    <tr>\n",
       "      <th>All</th>\n",
       "      <td>961</td>\n",
       "      <td>995</td>\n",
       "      <td>1950</td>\n",
       "      <td>3906</td>\n",
       "    </tr>\n",
       "  </tbody>\n",
       "</table>\n",
       "</div>"
      ],
      "text/plain": [
       "wealth_segment   Affluent Customer  High Net Worth  Mass Customer   All\n",
       "state                                                                  \n",
       "NSW                            486             519            998  2003\n",
       "New South Wales                 28              16             41    85\n",
       "QLD                            209             205            407   821\n",
       "VIC                            215             238            465   918\n",
       "Victoria                        23              17             39    79\n",
       "All                            961             995           1950  3906"
      ]
     },
     "execution_count": 216,
     "metadata": {},
     "output_type": "execute_result"
    }
   ],
   "source": [
    "pd.crosstab(R_D['state'],R_D[\"wealth_segment\"],margins=1)"
   ]
  },
  {
   "cell_type": "code",
   "execution_count": 217,
   "id": "813d109d-b093-47e5-aa44-6de512de3096",
   "metadata": {},
   "outputs": [
    {
     "data": {
      "image/png": "[encoded data removed]",
      "text/plain": [
       "<Figure size 614.75x500 with 1 Axes>"
      ]
     },
     "metadata": {},
     "output_type": "display_data"
    }
   ],
   "source": [
    "sns.catplot(y=D['brand'],x=D['profit'],hue=D['product_line'],kind='bar',estimator='mean')\n",
    "plt.show()"
   ]
  },
  {
   "cell_type": "code",
   "execution_count": 218,
   "id": "d1d4f579-daea-4fb0-8775-abd7b5229208",
   "metadata": {},
   "outputs": [
    {
     "data": {
      "image/png": "[encoded data removed]",
      "text/plain": [
       "<Figure size 607x500 with 1 Axes>"
      ]
     },
     "metadata": {},
     "output_type": "display_data"
    }
   ],
   "source": [
    "sns.catplot(y=D['brand'],x=D['profit'],hue=D['product_class'],kind='bar',estimator='mean')\n",
    "plt.show()"
   ]
  },
  {
   "cell_type": "code",
   "execution_count": 219,
   "id": "369c2ae4-38b8-49cc-b57c-5ab6d1438ad2",
   "metadata": {},
   "outputs": [
    {
     "data": {
      "image/png": "[encoded data removed]",
      "text/plain": [
       "<Figure size 607x500 with 1 Axes>"
      ]
     },
     "metadata": {},
     "output_type": "display_data"
    }
   ],
   "source": [
    "sns.catplot(y=D['brand'],x=D['profit'],hue=D['product_size'],kind='bar',estimator='mean')\n",
    "plt.show()"
   ]
  },
  {
   "cell_type": "code",
   "execution_count": 220,
   "id": "27eb4daf-498f-49d2-9bc3-1d72e18e6583",
   "metadata": {},
   "outputs": [
    {
     "data": {
      "image/png": "[encoded data removed]",
      "text/plain": [
       "<Figure size 575.861x500 with 1 Axes>"
      ]
     },
     "metadata": {},
     "output_type": "display_data"
    }
   ],
   "source": [
    "sns.catplot(y=D['brand'],x=D['profit'],hue=R_D['owns_car'],kind='bar',estimator='mean')\n",
    "plt.show()"
   ]
  },
  {
   "cell_type": "code",
   "execution_count": 221,
   "id": "e7ff1831-d0bc-4d3f-92e7-4ce0ea232c84",
   "metadata": {},
   "outputs": [
    {
     "data": {
      "image/png": "[encoded data removed]",
      "text/plain": [
       "<Figure size 575.861x500 with 1 Axes>"
      ]
     },
     "metadata": {},
     "output_type": "display_data"
    }
   ],
   "source": [
    "sns.catplot(y=R_D['state'],x=R_D['Age'],hue=R_D['owns_car'],kind='bar',estimator='mean')\n",
    "plt.show()"
   ]
  },
  {
   "cell_type": "code",
   "execution_count": 222,
   "id": "d36d46a1-58b6-462f-bd22-64be3e566d77",
   "metadata": {},
   "outputs": [
    {
     "data": {
      "image/png": "[encoded data removed]",
      "text/plain": [
       "<Figure size 575.861x500 with 1 Axes>"
      ]
     },
     "metadata": {},
     "output_type": "display_data"
    }
   ],
   "source": [
    "sns.catplot(y=R_D['state'],x=D['profit'],hue=R_D['owns_car'],kind='bar',estimator='mean')\n",
    "plt.show()"
   ]
  },
  {
   "cell_type": "code",
   "execution_count": 223,
   "id": "3c65751b-ac23-4b2d-a5d5-da7f228413a4",
   "metadata": {},
   "outputs": [
    {
     "data": {
      "image/png": "[encoded data removed]",
      "text/plain": [
       "<Figure size 575.861x500 with 1 Axes>"
      ]
     },
     "metadata": {},
     "output_type": "display_data"
    }
   ],
   "source": [
    "sns.catplot(y=R_D['wealth_segment'],x=D['profit'],hue=R_D['owns_car'],kind='bar',estimator='mean')\n",
    "plt.show()"
   ]
  }
 ],
 "metadata": {
  "kernelspec": {
   "display_name": "Python [conda env:base] *",
   "language": "python",
   "name": "conda-base-py"
  },
  "language_info": {
   "codemirror_mode": {
    "name": "ipython",
    "version": 3
   },
   "file_extension": ".py",
   "mimetype": "text/x-python",
   "name": "python",
   "nbconvert_exporter": "python",
   "pygments_lexer": "ipython3",
   "version": "3.12.7"
  }
 },
 "nbformat": 4,
 "nbformat_minor": 5
}
